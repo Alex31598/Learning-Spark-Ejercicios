{
 "cells": [
  {
   "cell_type": "markdown",
   "id": "4277e14d-0424-4ecf-823e-acc1ceaed029",
   "metadata": {},
   "source": [
    "# 1.- Realizar todos los ejercicios propuestos de libro"
   ]
  },
  {
   "cell_type": "markdown",
   "id": "d7008da4-2e76-4a12-8e0f-4c1e1d1c7d35",
   "metadata": {},
   "source": [
    "## Codigo página 85"
   ]
  },
  {
   "cell_type": "code",
   "execution_count": 1,
   "id": "7ad0bd19-467b-44fc-87bb-a65340683667",
   "metadata": {},
   "outputs": [
    {
     "data": {
      "text/plain": [
       "Intitializing Scala interpreter ..."
      ]
     },
     "metadata": {},
     "output_type": "display_data"
    },
    {
     "data": {
      "text/plain": [
       "Spark Web UI available at http://L2202039.bosonit.local:4044\n",
       "SparkContext available as 'sc' (version = 3.1.3, master = local[*], app id = local-1652180160243)\n",
       "SparkSession available as 'spark'\n"
      ]
     },
     "metadata": {},
     "output_type": "display_data"
    },
    {
     "data": {
      "text/plain": [
       "import org.apache.spark.sql.SparkSession\r\n",
       "spark: org.apache.spark.sql.SparkSession = org.apache.spark.sql.SparkSession@35553633\r\n"
      ]
     },
     "execution_count": 1,
     "metadata": {},
     "output_type": "execute_result"
    }
   ],
   "source": [
    "import org.apache.spark.sql.SparkSession \n",
    "val spark = SparkSession\n",
    " .builder\n",
    " .appName(\"SparkSQLExampleApp\")\n",
    " .getOrCreate()\n"
   ]
  },
  {
   "cell_type": "code",
   "execution_count": 2,
   "id": "cf6c22a9-ed03-40f1-aba6-4156dbc1f3e2",
   "metadata": {},
   "outputs": [
    {
     "data": {
      "text/plain": [
       "csvFile: String = C:/Users/alejandro.perez/Documents/LearningSparkV2-master/databricks-datasets/learning-spark-v2/flights/departuredelays.csv\r\n",
       "df: org.apache.spark.sql.DataFrame = [date: int, delay: int ... 3 more fields]\r\n"
      ]
     },
     "execution_count": 2,
     "metadata": {},
     "output_type": "execute_result"
    }
   ],
   "source": [
    "// Path to data set \n",
    "val csvFile=\"C:/Users/alejandro.perez/Documents/LearningSparkV2-master/databricks-datasets/learning-spark-v2/flights/departuredelays.csv\"\n",
    "// Read and create a temporary view\n",
    "// Infer schema (note that for larger files you may want to specify the schema)\n",
    "val df = spark.read.format(\"csv\")\n",
    " .option(\"inferSchema\", \"true\")\n",
    " .option(\"header\", \"true\")\n",
    " .load(csvFile)\n",
    "// Create a temporary view\n",
    "df.createOrReplaceTempView(\"us_delay_flights_tbl\")"
   ]
  },
  {
   "cell_type": "code",
   "execution_count": 3,
   "id": "e77d1792-724d-49f5-bf30-ada3db8aead9",
   "metadata": {},
   "outputs": [
    {
     "data": {
      "text/plain": [
       "schema: String = date STRING, delay INT, distance INT, origin STRING, destination STRING\r\n"
      ]
     },
     "execution_count": 3,
     "metadata": {},
     "output_type": "execute_result"
    }
   ],
   "source": [
    "val schema = \"date STRING, delay INT, distance INT, origin STRING, destination STRING\""
   ]
  },
  {
   "cell_type": "code",
   "execution_count": 4,
   "id": "d018cb16-59c0-4164-bfc7-34d3cd56b4b3",
   "metadata": {},
   "outputs": [
    {
     "name": "stdout",
     "output_type": "stream",
     "text": [
      "+--------+------+-----------+\n",
      "|distance|origin|destination|\n",
      "+--------+------+-----------+\n",
      "|    4330|   HNL|        JFK|\n",
      "|    4330|   HNL|        JFK|\n",
      "|    4330|   HNL|        JFK|\n",
      "|    4330|   HNL|        JFK|\n",
      "|    4330|   HNL|        JFK|\n",
      "|    4330|   HNL|        JFK|\n",
      "|    4330|   HNL|        JFK|\n",
      "|    4330|   HNL|        JFK|\n",
      "|    4330|   HNL|        JFK|\n",
      "|    4330|   HNL|        JFK|\n",
      "+--------+------+-----------+\n",
      "only showing top 10 rows\n",
      "\n"
     ]
    }
   ],
   "source": [
    "spark.sql(\"\"\"SELECT distance, origin, destination \n",
    "FROM us_delay_flights_tbl WHERE distance > 1000 \n",
    "ORDER BY distance DESC\"\"\").show(10)\n"
   ]
  },
  {
   "cell_type": "markdown",
   "id": "98008fb0-f318-4a9e-8e49-9878f4254f45",
   "metadata": {},
   "source": [
    "### Como resultado vemos que los vuelos de mayor distancia se producen entre Nueva York (JFK) y Honolulu (HNL)"
   ]
  },
  {
   "cell_type": "code",
   "execution_count": 5,
   "id": "d14b7fc2-82ea-4a86-969e-3086b03308ed",
   "metadata": {},
   "outputs": [
    {
     "name": "stdout",
     "output_type": "stream",
     "text": [
      "+-------+-----+------+-----------+\n",
      "|   date|delay|origin|destination|\n",
      "+-------+-----+------+-----------+\n",
      "|2190925| 1638|   SFO|        ORD|\n",
      "|1031755|  396|   SFO|        ORD|\n",
      "|1022330|  326|   SFO|        ORD|\n",
      "|1051205|  320|   SFO|        ORD|\n",
      "|1190925|  297|   SFO|        ORD|\n",
      "|2171115|  296|   SFO|        ORD|\n",
      "|1071040|  279|   SFO|        ORD|\n",
      "|1051550|  274|   SFO|        ORD|\n",
      "|3120730|  266|   SFO|        ORD|\n",
      "|1261104|  258|   SFO|        ORD|\n",
      "+-------+-----+------+-----------+\n",
      "only showing top 10 rows\n",
      "\n"
     ]
    }
   ],
   "source": [
    "spark.sql(\"\"\"SELECT date, delay, origin, destination \n",
    "FROM us_delay_flights_tbl \n",
    "WHERE delay > 120 AND ORIGIN = 'SFO' AND DESTINATION = 'ORD' \n",
    "ORDER by delay DESC\"\"\").show(10)\n"
   ]
  },
  {
   "cell_type": "markdown",
   "id": "6896f67f-69b4-4fec-9bfe-b03a5bd57faa",
   "metadata": {},
   "source": [
    "### Podemos apreciar que hay un retraso significativo entre estas dos ciudades en días diferentes"
   ]
  },
  {
   "cell_type": "code",
   "execution_count": 6,
   "id": "a272b54d-8dac-419d-a203-1b7a1a6e6262",
   "metadata": {},
   "outputs": [
    {
     "name": "stdout",
     "output_type": "stream",
     "text": [
      "+-----+------+-----------+-------------+\n",
      "|delay|origin|destination|Flight_Delays|\n",
      "+-----+------+-----------+-------------+\n",
      "|  333|   ABE|        ATL|  Long Delays|\n",
      "|  305|   ABE|        ATL|  Long Delays|\n",
      "|  275|   ABE|        ATL|  Long Delays|\n",
      "|  257|   ABE|        ATL|  Long Delays|\n",
      "|  247|   ABE|        DTW|  Long Delays|\n",
      "|  247|   ABE|        ATL|  Long Delays|\n",
      "|  219|   ABE|        ORD|  Long Delays|\n",
      "|  211|   ABE|        ATL|  Long Delays|\n",
      "|  197|   ABE|        DTW|  Long Delays|\n",
      "|  192|   ABE|        ORD|  Long Delays|\n",
      "+-----+------+-----------+-------------+\n",
      "only showing top 10 rows\n",
      "\n"
     ]
    }
   ],
   "source": [
    "spark.sql(\"\"\"SELECT delay, origin, destination,\n",
    " CASE\n",
    " WHEN delay > 360 THEN 'Very Long Delays'\n",
    " WHEN delay > 120 AND delay < 360 THEN 'Long Delays'\n",
    " WHEN delay > 60 AND delay < 120 THEN 'Short Delays'\n",
    " WHEN delay > 0 and delay < 60 THEN 'Tolerable Delays'\n",
    " WHEN delay = 0 THEN 'No Delays'\n",
    " ELSE 'Early'\n",
    " END AS Flight_Delays\n",
    " FROM us_delay_flights_tbl\n",
    " ORDER BY origin, delay DESC\"\"\").show(10)\n"
   ]
  },
  {
   "cell_type": "markdown",
   "id": "be73c251-5b5b-47b7-9096-06d007f9c5a8",
   "metadata": {},
   "source": [
    "# 2.-GlobalTempView vs TempView"
   ]
  },
  {
   "cell_type": "markdown",
   "id": "95f59311-5c46-4ca6-aabd-1426fdaf4279",
   "metadata": {},
   "source": [
    "Las vistas temporales (TempView) se encuentran ligadas a al sesión de Spark y en caso de que cerremos la sesión perderemos la vista temporal. Las vistas globales (GlobalTempView) se encuentran ligadas al sistema y se **preservan en la base de datos 'global_temp'**"
   ]
  },
  {
   "cell_type": "markdown",
   "id": "c0391075-3631-41b2-a7df-8a38e91b1ff9",
   "metadata": {},
   "source": [
    "# 3.-Leer los AVRO, Parquet, JSON y CSV escritos en el cap3"
   ]
  },
  {
   "cell_type": "code",
   "execution_count": 7,
   "id": "f371f6c6-0389-471f-9ec1-e56ee985ab75",
   "metadata": {},
   "outputs": [
    {
     "data": {
      "text/plain": [
       "mnmAvro: org.apache.spark.sql.DataFrame = [State: string, Color: string ... 1 more field]\r\n"
      ]
     },
     "execution_count": 7,
     "metadata": {},
     "output_type": "execute_result"
    }
   ],
   "source": [
    "val mnmAvro= spark.read.format(\"avro\").load(\"C:/Users/alejandro.perez/Documents/Ejercicios Spark/Tema3 Learning Spark/mnmSCALA.avro\")"
   ]
  },
  {
   "cell_type": "code",
   "execution_count": 8,
   "id": "cb2f8c88-462f-494b-be31-5e1ea987ec7c",
   "metadata": {},
   "outputs": [
    {
     "name": "stdout",
     "output_type": "stream",
     "text": [
      "root\n",
      " |-- State: string (nullable = true)\n",
      " |-- Color: string (nullable = true)\n",
      " |-- Count: integer (nullable = true)\n",
      "\n"
     ]
    }
   ],
   "source": [
    "mnmAvro.printSchema()"
   ]
  },
  {
   "cell_type": "code",
   "execution_count": 9,
   "id": "ced1eac3-c6b3-46a2-968c-587fb6f6a0d1",
   "metadata": {},
   "outputs": [
    {
     "name": "stdout",
     "output_type": "stream",
     "text": [
      "+-----+------+-----+\n",
      "|State| Color|Count|\n",
      "+-----+------+-----+\n",
      "|   TX|   Red|   20|\n",
      "|   NV|  Blue|   66|\n",
      "|   CO|  Blue|   79|\n",
      "|   OR|  Blue|   71|\n",
      "|   WA|Yellow|   93|\n",
      "|   WY|  Blue|   16|\n",
      "|   CA|Yellow|   53|\n",
      "|   WA| Green|   60|\n",
      "|   OR| Green|   71|\n",
      "|   TX| Green|   68|\n",
      "|   NV| Green|   59|\n",
      "|   AZ| Brown|   95|\n",
      "|   WA|Yellow|   20|\n",
      "|   AZ|  Blue|   75|\n",
      "|   OR| Brown|   72|\n",
      "|   NV|   Red|   98|\n",
      "|   WY|Orange|   45|\n",
      "|   CO|  Blue|   52|\n",
      "|   TX| Brown|   94|\n",
      "|   CO|   Red|   82|\n",
      "+-----+------+-----+\n",
      "only showing top 20 rows\n",
      "\n"
     ]
    }
   ],
   "source": [
    "mnmAvro.show()"
   ]
  },
  {
   "cell_type": "code",
   "execution_count": 10,
   "id": "c2282c7e-1ef8-476f-af29-f8397e792cba",
   "metadata": {},
   "outputs": [
    {
     "data": {
      "text/plain": [
       "mnmJSON: org.apache.spark.sql.DataFrame = [Color: string, Count: bigint ... 1 more field]\r\n"
      ]
     },
     "execution_count": 10,
     "metadata": {},
     "output_type": "execute_result"
    }
   ],
   "source": [
    "val mnmJSON= spark.read.format(\"json\").load(\"C:/Users/alejandro.perez/Documents/Ejercicios Spark/Tema3 Learning Spark/mnmSCALA.json\")"
   ]
  },
  {
   "cell_type": "code",
   "execution_count": 11,
   "id": "5143474c-a8fd-4431-9874-a837465af640",
   "metadata": {},
   "outputs": [
    {
     "name": "stdout",
     "output_type": "stream",
     "text": [
      "root\n",
      " |-- Color: string (nullable = true)\n",
      " |-- Count: long (nullable = true)\n",
      " |-- State: string (nullable = true)\n",
      "\n"
     ]
    }
   ],
   "source": [
    "mnmJSON.printSchema()"
   ]
  },
  {
   "cell_type": "code",
   "execution_count": 12,
   "id": "5796f241-0e60-4c40-8b8f-bd9086a1a99c",
   "metadata": {},
   "outputs": [
    {
     "name": "stdout",
     "output_type": "stream",
     "text": [
      "+------+-----+-----+\n",
      "| Color|Count|State|\n",
      "+------+-----+-----+\n",
      "|   Red|   20|   TX|\n",
      "|  Blue|   66|   NV|\n",
      "|  Blue|   79|   CO|\n",
      "|  Blue|   71|   OR|\n",
      "|Yellow|   93|   WA|\n",
      "|  Blue|   16|   WY|\n",
      "|Yellow|   53|   CA|\n",
      "| Green|   60|   WA|\n",
      "| Green|   71|   OR|\n",
      "| Green|   68|   TX|\n",
      "| Green|   59|   NV|\n",
      "| Brown|   95|   AZ|\n",
      "|Yellow|   20|   WA|\n",
      "|  Blue|   75|   AZ|\n",
      "| Brown|   72|   OR|\n",
      "|   Red|   98|   NV|\n",
      "|Orange|   45|   WY|\n",
      "|  Blue|   52|   CO|\n",
      "| Brown|   94|   TX|\n",
      "|   Red|   82|   CO|\n",
      "+------+-----+-----+\n",
      "only showing top 20 rows\n",
      "\n"
     ]
    }
   ],
   "source": [
    "mnmJSON.show()"
   ]
  },
  {
   "cell_type": "code",
   "execution_count": 20,
   "id": "ea5629c0-0422-4b00-8eed-533686e8ad96",
   "metadata": {},
   "outputs": [
    {
     "data": {
      "text/plain": [
       "mnmCSV: org.apache.spark.sql.DataFrame = [_c0: string, _c1: string ... 1 more field]\r\n"
      ]
     },
     "execution_count": 20,
     "metadata": {},
     "output_type": "execute_result"
    }
   ],
   "source": [
    "val mnmCSV= spark.read.format(\"csv\").option(\"inferSchema\", \"true\").option(\"header\", \"false\").load(\"C:/Users/alejandro.perez/Documents/Ejercicios Spark/Tema3 Learning Spark/mnmSCALA.csv\")"
   ]
  },
  {
   "cell_type": "code",
   "execution_count": 21,
   "id": "6a2971b0-a93b-42fe-8cd3-2fdb28af9ea2",
   "metadata": {},
   "outputs": [
    {
     "name": "stdout",
     "output_type": "stream",
     "text": [
      "root\n",
      " |-- _c0: string (nullable = true)\n",
      " |-- _c1: string (nullable = true)\n",
      " |-- _c2: integer (nullable = true)\n",
      "\n"
     ]
    }
   ],
   "source": [
    "mnmCSV.printSchema()"
   ]
  },
  {
   "cell_type": "code",
   "execution_count": 22,
   "id": "6984560d-8a13-454b-9fc0-4c1d8deb3990",
   "metadata": {},
   "outputs": [
    {
     "name": "stdout",
     "output_type": "stream",
     "text": [
      "+---+------+---+\n",
      "|_c0|   _c1|_c2|\n",
      "+---+------+---+\n",
      "| TX|   Red| 20|\n",
      "| NV|  Blue| 66|\n",
      "| CO|  Blue| 79|\n",
      "| OR|  Blue| 71|\n",
      "| WA|Yellow| 93|\n",
      "| WY|  Blue| 16|\n",
      "| CA|Yellow| 53|\n",
      "| WA| Green| 60|\n",
      "| OR| Green| 71|\n",
      "| TX| Green| 68|\n",
      "| NV| Green| 59|\n",
      "| AZ| Brown| 95|\n",
      "| WA|Yellow| 20|\n",
      "| AZ|  Blue| 75|\n",
      "| OR| Brown| 72|\n",
      "| NV|   Red| 98|\n",
      "| WY|Orange| 45|\n",
      "| CO|  Blue| 52|\n",
      "| TX| Brown| 94|\n",
      "| CO|   Red| 82|\n",
      "+---+------+---+\n",
      "only showing top 20 rows\n",
      "\n"
     ]
    }
   ],
   "source": [
    "mnmCSV.show()"
   ]
  },
  {
   "cell_type": "code",
   "execution_count": 23,
   "id": "ce441333-58b0-486e-8408-41a99bf932dc",
   "metadata": {},
   "outputs": [
    {
     "data": {
      "text/plain": [
       "fireparquet: org.apache.spark.sql.DataFrame = [CallNumber: int, UnitID: string ... 26 more fields]\r\n"
      ]
     },
     "execution_count": 23,
     "metadata": {},
     "output_type": "execute_result"
    }
   ],
   "source": [
    "val fireparquet= spark.read.format(\"parquet\").load(\"C:/Users/alejandro.perez/Documents/Ejercicios Spark/Tema3 Learning Spark/Guardar7/fire.parquet\")"
   ]
  },
  {
   "cell_type": "code",
   "execution_count": 24,
   "id": "440d308b-e83a-4cac-aa98-ddc3afa8c5e7",
   "metadata": {},
   "outputs": [
    {
     "name": "stdout",
     "output_type": "stream",
     "text": [
      "root\n",
      " |-- CallNumber: integer (nullable = true)\n",
      " |-- UnitID: string (nullable = true)\n",
      " |-- IncidentNumber: integer (nullable = true)\n",
      " |-- CallType: string (nullable = true)\n",
      " |-- CallFinalDisposition: string (nullable = true)\n",
      " |-- Address: string (nullable = true)\n",
      " |-- City: string (nullable = true)\n",
      " |-- Zipcode: integer (nullable = true)\n",
      " |-- Battalion: string (nullable = true)\n",
      " |-- StationArea: string (nullable = true)\n",
      " |-- Box: string (nullable = true)\n",
      " |-- OriginalPriority: string (nullable = true)\n",
      " |-- Priority: string (nullable = true)\n",
      " |-- FinalPriority: integer (nullable = true)\n",
      " |-- ALSUnit: boolean (nullable = true)\n",
      " |-- CallTypeGroup: string (nullable = true)\n",
      " |-- NumAlarms: integer (nullable = true)\n",
      " |-- UnitType: string (nullable = true)\n",
      " |-- UnitSequenceInCallDispatch: integer (nullable = true)\n",
      " |-- FirePreventionDistrict: string (nullable = true)\n",
      " |-- SupervisorDistrict: string (nullable = true)\n",
      " |-- Neighborhood: string (nullable = true)\n",
      " |-- Location: string (nullable = true)\n",
      " |-- RowID: string (nullable = true)\n",
      " |-- ResponseDelayedinMins: float (nullable = true)\n",
      " |-- IncidentDate: timestamp (nullable = true)\n",
      " |-- OnWatchDate: timestamp (nullable = true)\n",
      " |-- AvailableDtTS: timestamp (nullable = true)\n",
      "\n"
     ]
    }
   ],
   "source": [
    "fireparquet.printSchema()"
   ]
  },
  {
   "cell_type": "code",
   "execution_count": 25,
   "id": "06661c65-b5aa-4ef0-b20f-fecc80e1171c",
   "metadata": {},
   "outputs": [
    {
     "name": "stdout",
     "output_type": "stream",
     "text": [
      "+----------+------+--------------+----------------+--------------------+--------------------+----+-------+---------+-----------+----+----------------+--------+-------------+-------+-------------+---------+--------+--------------------------+----------------------+------------------+------------------+--------------------+-------------+---------------------+-------------------+-------------------+-------------------+\n",
      "|CallNumber|UnitID|IncidentNumber|        CallType|CallFinalDisposition|             Address|City|Zipcode|Battalion|StationArea| Box|OriginalPriority|Priority|FinalPriority|ALSUnit|CallTypeGroup|NumAlarms|UnitType|UnitSequenceInCallDispatch|FirePreventionDistrict|SupervisorDistrict|      Neighborhood|            Location|        RowID|ResponseDelayedinMins|       IncidentDate|        OnWatchDate|      AvailableDtTS|\n",
      "+----------+------+--------------+----------------+--------------------+--------------------+----+-------+---------+-----------+----+----------------+--------+-------------+-------+-------------+---------+--------+--------------------------+----------------------+------------------+------------------+--------------------+-------------+---------------------+-------------------+-------------------+-------------------+\n",
      "| 110660238|    60|      11021821|Medical Incident|                Fire|0 Block of BORICA ST|  SF|  94127|      B09|         19|8442|               3|       2|            2|   true|         null|        1|   MEDIC|                         1|                     9|                 7|West of Twin Peaks|(37.7225922041408...| 110660238-60|                  2.9|2011-03-07 00:00:00|2011-03-07 00:00:00|2011-03-07 16:23:05|\n",
      "| 110660253|   B03|      11021831|          Alarms|                Fire|1000 Block of HOW...|  SF|  94103|      B03|         01|2252|               3|       3|            3|  false|         null|        1|   CHIEF|                         3|                     3|                 6|   South of Market|(37.7795675906982...|110660253-B03|            2.3833334|2011-03-07 00:00:00|2011-03-07 00:00:00|2011-03-07 17:13:21|\n",
      "| 110660282|   E43|      11021856|Medical Incident|               Other| PERSIA AV/MADRID ST|  SF|  94112|      B09|         43|6134|               3|       3|            3|   true|         null|        1|  ENGINE|                         1|                     9|                11|         Excelsior|(37.7216187707613...|110660282-E43|                 1.65|2011-03-07 00:00:00|2011-03-07 00:00:00|2011-03-07 18:55:52|\n",
      "| 110660322|    94|      11021888|Medical Incident|               Other|1100 Block of HOW...|  SF|  94103|      B03|         01|2314|               3|       3|            3|   true|         null|        1|   MEDIC|                         3|                     2|                 6|   South of Market|(37.7768521020734...| 110660322-94|            1.5666667|2011-03-07 00:00:00|2011-03-07 00:00:00|2011-03-07 20:49:25|\n",
      "| 110670051|   B09|      11021963|          Alarms|                Fire|5800 Block of MIS...|  SF|  94112|      B09|         33|6213|               3|       3|            3|  false|         null|        1|   CHIEF|                         3|                     9|                11|     Outer Mission|(37.709160030699,...|110670051-B09|                  2.8|2011-03-08 00:00:00|2011-03-07 00:00:00|2011-03-08 07:36:00|\n",
      "+----------+------+--------------+----------------+--------------------+--------------------+----+-------+---------+-----------+----+----------------+--------+-------------+-------+-------------+---------+--------+--------------------------+----------------------+------------------+------------------+--------------------+-------------+---------------------+-------------------+-------------------+-------------------+\n",
      "only showing top 5 rows\n",
      "\n"
     ]
    }
   ],
   "source": [
    "fireparquet.show(5)"
   ]
  },
  {
   "cell_type": "code",
   "execution_count": null,
   "id": "dc497850-49e0-477f-a3a6-2d4d87be69e6",
   "metadata": {},
   "outputs": [],
   "source": []
  }
 ],
 "metadata": {
  "kernelspec": {
   "display_name": "spylon-kernel",
   "language": "scala",
   "name": "spylon-kernel"
  },
  "language_info": {
   "codemirror_mode": "text/x-scala",
   "file_extension": ".scala",
   "help_links": [
    {
     "text": "MetaKernel Magics",
     "url": "https://metakernel.readthedocs.io/en/latest/source/README.html"
    }
   ],
   "mimetype": "text/x-scala",
   "name": "scala",
   "pygments_lexer": "scala",
   "version": "0.4.1"
  }
 },
 "nbformat": 4,
 "nbformat_minor": 5
}
