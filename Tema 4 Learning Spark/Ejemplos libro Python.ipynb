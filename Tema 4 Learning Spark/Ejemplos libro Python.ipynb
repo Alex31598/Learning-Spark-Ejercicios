{
 "cells": [
  {
   "cell_type": "markdown",
   "id": "6bc02207-55ec-45a8-b758-5f1211162ce3",
   "metadata": {},
   "source": [
    "# 1.- Realizar todos los ejercicios propuestos de libro"
   ]
  },
  {
   "cell_type": "markdown",
   "id": "27efb631-f535-4f9b-bb4b-10773d9578b1",
   "metadata": {
    "tags": []
   },
   "source": [
    "## Codigo página 85"
   ]
  },
  {
   "cell_type": "code",
   "execution_count": 2,
   "id": "6cfbcd4b-6f33-44d6-9bb8-d0ea2cd856dd",
   "metadata": {},
   "outputs": [],
   "source": [
    "# In Python\n",
    "from pyspark.sql import SparkSession \n",
    "# Create a SparkSession\n",
    "spark = (SparkSession\n",
    " .builder\n",
    " .appName(\"SparkSQLExampleApp\")\n",
    " .getOrCreate())"
   ]
  },
  {
   "cell_type": "code",
   "execution_count": 3,
   "id": "464f01a9-3c83-4be5-bc62-3f06cc2b5490",
   "metadata": {},
   "outputs": [],
   "source": [
    "# Path to data set\n",
    "csv_file = \"C:/Users/alejandro.perez/Documents/LearningSparkV2-master/databricks-datasets/learning-spark-v2/flights/departuredelays.csv\"\n",
    "# Read and create a temporary view\n",
    "# Infer schema (note that for larger files you \n",
    "# may want to specify the schema)\n",
    "df = (spark.read.format(\"csv\")\n",
    " .option(\"inferSchema\", \"true\")\n",
    " .option(\"header\", \"true\")\n",
    " .load(csv_file))\n",
    "df.createOrReplaceTempView(\"us_delay_flights_tbl\")"
   ]
  },
  {
   "cell_type": "code",
   "execution_count": 4,
   "id": "d7daeee5-a8bf-457e-bce7-c88e137fab57",
   "metadata": {},
   "outputs": [],
   "source": [
    "schema = \"`date` STRING, `delay` INT, `distance` INT, `origin` STRING, `destination` STRING\"\n"
   ]
  },
  {
   "cell_type": "code",
   "execution_count": 5,
   "id": "61aa12ba-d85b-4715-b95c-afa66dc7627e",
   "metadata": {},
   "outputs": [
    {
     "name": "stdout",
     "output_type": "stream",
     "text": [
      "+--------+------+-----------+\n",
      "|distance|origin|destination|\n",
      "+--------+------+-----------+\n",
      "|    4330|   HNL|        JFK|\n",
      "|    4330|   HNL|        JFK|\n",
      "|    4330|   HNL|        JFK|\n",
      "|    4330|   HNL|        JFK|\n",
      "|    4330|   HNL|        JFK|\n",
      "|    4330|   HNL|        JFK|\n",
      "|    4330|   HNL|        JFK|\n",
      "|    4330|   HNL|        JFK|\n",
      "|    4330|   HNL|        JFK|\n",
      "|    4330|   HNL|        JFK|\n",
      "+--------+------+-----------+\n",
      "only showing top 10 rows\n",
      "\n"
     ]
    }
   ],
   "source": [
    "spark.sql(\"\"\"SELECT distance, origin, destination \n",
    "FROM us_delay_flights_tbl WHERE distance > 1000 \n",
    "ORDER BY distance DESC\"\"\").show(10)\n"
   ]
  },
  {
   "cell_type": "markdown",
   "id": "3723459d-1d69-4365-a403-33d2b14e02fa",
   "metadata": {},
   "source": [
    "### Como resultado vemos que los vuelos de mayor distancia se producen entre Nueva York (JFK) y Honolulu (HNL)"
   ]
  },
  {
   "cell_type": "code",
   "execution_count": 6,
   "id": "bdc30ad8-be68-403e-9c96-ed7a450eb683",
   "metadata": {},
   "outputs": [
    {
     "name": "stdout",
     "output_type": "stream",
     "text": [
      "+-------+-----+------+-----------+\n",
      "|   date|delay|origin|destination|\n",
      "+-------+-----+------+-----------+\n",
      "|2190925| 1638|   SFO|        ORD|\n",
      "|1031755|  396|   SFO|        ORD|\n",
      "|1022330|  326|   SFO|        ORD|\n",
      "|1051205|  320|   SFO|        ORD|\n",
      "|1190925|  297|   SFO|        ORD|\n",
      "|2171115|  296|   SFO|        ORD|\n",
      "|1071040|  279|   SFO|        ORD|\n",
      "|1051550|  274|   SFO|        ORD|\n",
      "|3120730|  266|   SFO|        ORD|\n",
      "|1261104|  258|   SFO|        ORD|\n",
      "+-------+-----+------+-----------+\n",
      "only showing top 10 rows\n",
      "\n"
     ]
    }
   ],
   "source": [
    "spark.sql(\"\"\"SELECT date, delay, origin, destination \n",
    "FROM us_delay_flights_tbl \n",
    "WHERE delay > 120 AND ORIGIN = 'SFO' AND DESTINATION = 'ORD' \n",
    "ORDER by delay DESC\"\"\").show(10)\n"
   ]
  },
  {
   "cell_type": "markdown",
   "id": "5af2506b-2d48-4af8-9831-3e867cf21319",
   "metadata": {},
   "source": [
    "### Podemos apreciar que hay un retraso significativo entre estas dos ciudades en días diferentes"
   ]
  },
  {
   "cell_type": "code",
   "execution_count": 7,
   "id": "b6a6dc09-ad28-4143-8d80-733a1505b34d",
   "metadata": {},
   "outputs": [
    {
     "name": "stdout",
     "output_type": "stream",
     "text": [
      "+-----+------+-----------+-------------+\n",
      "|delay|origin|destination|Flight_Delays|\n",
      "+-----+------+-----------+-------------+\n",
      "|  333|   ABE|        ATL|  Long Delays|\n",
      "|  305|   ABE|        ATL|  Long Delays|\n",
      "|  275|   ABE|        ATL|  Long Delays|\n",
      "|  257|   ABE|        ATL|  Long Delays|\n",
      "|  247|   ABE|        ATL|  Long Delays|\n",
      "|  247|   ABE|        DTW|  Long Delays|\n",
      "|  219|   ABE|        ORD|  Long Delays|\n",
      "|  211|   ABE|        ATL|  Long Delays|\n",
      "|  197|   ABE|        DTW|  Long Delays|\n",
      "|  192|   ABE|        ORD|  Long Delays|\n",
      "+-----+------+-----------+-------------+\n",
      "only showing top 10 rows\n",
      "\n"
     ]
    }
   ],
   "source": [
    "spark.sql(\"\"\"SELECT delay, origin, destination,\n",
    " CASE\n",
    " WHEN delay > 360 THEN 'Very Long Delays'\n",
    " WHEN delay > 120 AND delay < 360 THEN 'Long Delays'\n",
    " WHEN delay > 60 AND delay < 120 THEN 'Short Delays'\n",
    " WHEN delay > 0 and delay < 60 THEN 'Tolerable Delays'\n",
    " WHEN delay = 0 THEN 'No Delays'\n",
    " ELSE 'Early'\n",
    " END AS Flight_Delays\n",
    " FROM us_delay_flights_tbl\n",
    " ORDER BY origin, delay DESC\"\"\").show(10)\n"
   ]
  },
  {
   "cell_type": "markdown",
   "id": "5d521075-4d99-46d2-804a-48f9f15219ae",
   "metadata": {},
   "source": [
    "# 2.-GlobalTempView vs TempView"
   ]
  },
  {
   "cell_type": "markdown",
   "id": "4db2747b-ea30-4da8-8a81-498f1c3a23ce",
   "metadata": {},
   "source": [
    "Las vistas temporales (TempView) se encuentran ligadas a al sesión de Spark y en caso de que cerremos la sesión perderemos la vista temporal. Las vistas globales (GlobalTempView) se encuentran ligadas al sistema y se **preservan en la base de datos 'global_temp'**"
   ]
  },
  {
   "cell_type": "markdown",
   "id": "abcdbf9a-a39e-419c-b629-eefccb31d813",
   "metadata": {},
   "source": [
    "# 3.-Leer los AVRO, Parquet, JSON y CSV escritos en el cap3"
   ]
  },
  {
   "cell_type": "code",
   "execution_count": 8,
   "id": "44568b93-43bd-4603-b43b-fd978bb61b5e",
   "metadata": {},
   "outputs": [],
   "source": [
    "mnmAvro= spark.read.format(\"avro\").load(\"C:/Users/alejandro.perez/Documents/Ejercicios Spark/Tema3 Learning Spark/mnm.avro\")"
   ]
  },
  {
   "cell_type": "code",
   "execution_count": 9,
   "id": "88697f1f-58ec-431c-b8f6-65c9c7ef9acd",
   "metadata": {},
   "outputs": [
    {
     "name": "stdout",
     "output_type": "stream",
     "text": [
      "root\n",
      " |-- State: string (nullable = true)\n",
      " |-- Color: string (nullable = true)\n",
      " |-- Count: integer (nullable = true)\n",
      "\n"
     ]
    }
   ],
   "source": [
    "mnmAvro.printSchema()"
   ]
  },
  {
   "cell_type": "code",
   "execution_count": 10,
   "id": "1ab1076a-3f40-4c3b-a4c5-661c44823e7e",
   "metadata": {},
   "outputs": [
    {
     "name": "stdout",
     "output_type": "stream",
     "text": [
      "+-----+------+-----+\n",
      "|State| Color|Count|\n",
      "+-----+------+-----+\n",
      "|   TX|   Red|   20|\n",
      "|   NV|  Blue|   66|\n",
      "|   CO|  Blue|   79|\n",
      "|   OR|  Blue|   71|\n",
      "|   WA|Yellow|   93|\n",
      "|   WY|  Blue|   16|\n",
      "|   CA|Yellow|   53|\n",
      "|   WA| Green|   60|\n",
      "|   OR| Green|   71|\n",
      "|   TX| Green|   68|\n",
      "|   NV| Green|   59|\n",
      "|   AZ| Brown|   95|\n",
      "|   WA|Yellow|   20|\n",
      "|   AZ|  Blue|   75|\n",
      "|   OR| Brown|   72|\n",
      "|   NV|   Red|   98|\n",
      "|   WY|Orange|   45|\n",
      "|   CO|  Blue|   52|\n",
      "|   TX| Brown|   94|\n",
      "|   CO|   Red|   82|\n",
      "+-----+------+-----+\n",
      "only showing top 20 rows\n",
      "\n"
     ]
    }
   ],
   "source": [
    "mnmAvro.show()"
   ]
  },
  {
   "cell_type": "code",
   "execution_count": 11,
   "id": "eaec1c6d-dbbc-4ac0-8bbc-b7e6f04c3b8b",
   "metadata": {},
   "outputs": [],
   "source": [
    "mnmJSON= spark.read.format(\"json\").load(\"C:/Users/alejandro.perez/Documents/Ejercicios Spark/Tema3 Learning Spark/mnm.json\")"
   ]
  },
  {
   "cell_type": "code",
   "execution_count": 12,
   "id": "f144a47f-305b-412d-95af-e8335742ada4",
   "metadata": {},
   "outputs": [
    {
     "name": "stdout",
     "output_type": "stream",
     "text": [
      "root\n",
      " |-- Color: string (nullable = true)\n",
      " |-- Count: long (nullable = true)\n",
      " |-- State: string (nullable = true)\n",
      "\n"
     ]
    }
   ],
   "source": [
    "mnmJSON.printSchema()"
   ]
  },
  {
   "cell_type": "code",
   "execution_count": 13,
   "id": "f1df90aa-e1a9-473f-8252-758c3d828d8e",
   "metadata": {},
   "outputs": [
    {
     "name": "stdout",
     "output_type": "stream",
     "text": [
      "+------+-----+-----+\n",
      "| Color|Count|State|\n",
      "+------+-----+-----+\n",
      "|   Red|   20|   TX|\n",
      "|  Blue|   66|   NV|\n",
      "|  Blue|   79|   CO|\n",
      "|  Blue|   71|   OR|\n",
      "|Yellow|   93|   WA|\n",
      "|  Blue|   16|   WY|\n",
      "|Yellow|   53|   CA|\n",
      "| Green|   60|   WA|\n",
      "| Green|   71|   OR|\n",
      "| Green|   68|   TX|\n",
      "| Green|   59|   NV|\n",
      "| Brown|   95|   AZ|\n",
      "|Yellow|   20|   WA|\n",
      "|  Blue|   75|   AZ|\n",
      "| Brown|   72|   OR|\n",
      "|   Red|   98|   NV|\n",
      "|Orange|   45|   WY|\n",
      "|  Blue|   52|   CO|\n",
      "| Brown|   94|   TX|\n",
      "|   Red|   82|   CO|\n",
      "+------+-----+-----+\n",
      "only showing top 20 rows\n",
      "\n"
     ]
    }
   ],
   "source": [
    "mnmJSON.show()"
   ]
  },
  {
   "cell_type": "code",
   "execution_count": 17,
   "id": "4d51144b-e385-47b3-b01f-5663718649a0",
   "metadata": {},
   "outputs": [],
   "source": [
    "mnmCSV= spark.read.format(\"csv\").option(\"inferSchema\", \"true\").option(\"header\", \"false\").load(\"C:/Users/alejandro.perez/Documents/Ejercicios Spark/Tema3 Learning Spark/mnm.csv\")"
   ]
  },
  {
   "cell_type": "code",
   "execution_count": 18,
   "id": "56e24067-71d2-4e99-9214-6aee6dc2795a",
   "metadata": {},
   "outputs": [
    {
     "name": "stdout",
     "output_type": "stream",
     "text": [
      "root\n",
      " |-- _c0: string (nullable = true)\n",
      " |-- _c1: string (nullable = true)\n",
      " |-- _c2: integer (nullable = true)\n",
      "\n"
     ]
    }
   ],
   "source": [
    "mnmCSV.printSchema()"
   ]
  },
  {
   "cell_type": "code",
   "execution_count": 19,
   "id": "f31fc55d-6dd5-4bf0-b0b4-156fe025cb2f",
   "metadata": {},
   "outputs": [
    {
     "name": "stdout",
     "output_type": "stream",
     "text": [
      "+---+------+---+\n",
      "|_c0|   _c1|_c2|\n",
      "+---+------+---+\n",
      "| TX|   Red| 20|\n",
      "| NV|  Blue| 66|\n",
      "| CO|  Blue| 79|\n",
      "| OR|  Blue| 71|\n",
      "| WA|Yellow| 93|\n",
      "| WY|  Blue| 16|\n",
      "| CA|Yellow| 53|\n",
      "| WA| Green| 60|\n",
      "| OR| Green| 71|\n",
      "| TX| Green| 68|\n",
      "| NV| Green| 59|\n",
      "| AZ| Brown| 95|\n",
      "| WA|Yellow| 20|\n",
      "| AZ|  Blue| 75|\n",
      "| OR| Brown| 72|\n",
      "| NV|   Red| 98|\n",
      "| WY|Orange| 45|\n",
      "| CO|  Blue| 52|\n",
      "| TX| Brown| 94|\n",
      "| CO|   Red| 82|\n",
      "+---+------+---+\n",
      "only showing top 20 rows\n",
      "\n"
     ]
    }
   ],
   "source": [
    "mnmCSV.show()"
   ]
  },
  {
   "cell_type": "code",
   "execution_count": 20,
   "id": "66978b51-76fa-4ee2-8b86-ad4da7943ccc",
   "metadata": {},
   "outputs": [],
   "source": [
    "fireparquet= spark.read.format(\"parquet\").load(\"C:/Users/alejandro.perez/Documents/Ejercicios Spark/Tema3 Learning Spark/Guardar7/fire.parquet\")"
   ]
  },
  {
   "cell_type": "code",
   "execution_count": 21,
   "id": "fcbc8f57-2ec8-4601-85b8-87e8a505dfff",
   "metadata": {},
   "outputs": [
    {
     "name": "stdout",
     "output_type": "stream",
     "text": [
      "root\n",
      " |-- CallNumber: integer (nullable = true)\n",
      " |-- UnitID: string (nullable = true)\n",
      " |-- IncidentNumber: integer (nullable = true)\n",
      " |-- CallType: string (nullable = true)\n",
      " |-- CallFinalDisposition: string (nullable = true)\n",
      " |-- Address: string (nullable = true)\n",
      " |-- City: string (nullable = true)\n",
      " |-- Zipcode: integer (nullable = true)\n",
      " |-- Battalion: string (nullable = true)\n",
      " |-- StationArea: string (nullable = true)\n",
      " |-- Box: string (nullable = true)\n",
      " |-- OriginalPriority: string (nullable = true)\n",
      " |-- Priority: string (nullable = true)\n",
      " |-- FinalPriority: integer (nullable = true)\n",
      " |-- ALSUnit: boolean (nullable = true)\n",
      " |-- CallTypeGroup: string (nullable = true)\n",
      " |-- NumAlarms: integer (nullable = true)\n",
      " |-- UnitType: string (nullable = true)\n",
      " |-- UnitSequenceInCallDispatch: integer (nullable = true)\n",
      " |-- FirePreventionDistrict: string (nullable = true)\n",
      " |-- SupervisorDistrict: string (nullable = true)\n",
      " |-- Neighborhood: string (nullable = true)\n",
      " |-- Location: string (nullable = true)\n",
      " |-- RowID: string (nullable = true)\n",
      " |-- ResponseDelayedinMins: float (nullable = true)\n",
      " |-- IncidentDate: timestamp (nullable = true)\n",
      " |-- OnWatchDate: timestamp (nullable = true)\n",
      " |-- AvailableDtTS: timestamp (nullable = true)\n",
      "\n"
     ]
    }
   ],
   "source": [
    "fireparquet.printSchema()"
   ]
  },
  {
   "cell_type": "code",
   "execution_count": 22,
   "id": "6d8fbd96-1f9f-4708-81bd-b9b162a44d1e",
   "metadata": {},
   "outputs": [
    {
     "name": "stdout",
     "output_type": "stream",
     "text": [
      "+----------+------+--------------+----------------+--------------------+--------------------+----+-------+---------+-----------+----+----------------+--------+-------------+-------+-------------+---------+--------+--------------------------+----------------------+------------------+------------------+--------------------+-------------+---------------------+-------------------+-------------------+-------------------+\n",
      "|CallNumber|UnitID|IncidentNumber|        CallType|CallFinalDisposition|             Address|City|Zipcode|Battalion|StationArea| Box|OriginalPriority|Priority|FinalPriority|ALSUnit|CallTypeGroup|NumAlarms|UnitType|UnitSequenceInCallDispatch|FirePreventionDistrict|SupervisorDistrict|      Neighborhood|            Location|        RowID|ResponseDelayedinMins|       IncidentDate|        OnWatchDate|      AvailableDtTS|\n",
      "+----------+------+--------------+----------------+--------------------+--------------------+----+-------+---------+-----------+----+----------------+--------+-------------+-------+-------------+---------+--------+--------------------------+----------------------+------------------+------------------+--------------------+-------------+---------------------+-------------------+-------------------+-------------------+\n",
      "| 110660238|    60|      11021821|Medical Incident|                Fire|0 Block of BORICA ST|  SF|  94127|      B09|         19|8442|               3|       2|            2|   true|         null|        1|   MEDIC|                         1|                     9|                 7|West of Twin Peaks|(37.7225922041408...| 110660238-60|                  2.9|2011-03-07 00:00:00|2011-03-07 00:00:00|2011-03-07 16:23:05|\n",
      "| 110660253|   B03|      11021831|          Alarms|                Fire|1000 Block of HOW...|  SF|  94103|      B03|         01|2252|               3|       3|            3|  false|         null|        1|   CHIEF|                         3|                     3|                 6|   South of Market|(37.7795675906982...|110660253-B03|            2.3833334|2011-03-07 00:00:00|2011-03-07 00:00:00|2011-03-07 17:13:21|\n",
      "| 110660282|   E43|      11021856|Medical Incident|               Other| PERSIA AV/MADRID ST|  SF|  94112|      B09|         43|6134|               3|       3|            3|   true|         null|        1|  ENGINE|                         1|                     9|                11|         Excelsior|(37.7216187707613...|110660282-E43|                 1.65|2011-03-07 00:00:00|2011-03-07 00:00:00|2011-03-07 18:55:52|\n",
      "| 110660322|    94|      11021888|Medical Incident|               Other|1100 Block of HOW...|  SF|  94103|      B03|         01|2314|               3|       3|            3|   true|         null|        1|   MEDIC|                         3|                     2|                 6|   South of Market|(37.7768521020734...| 110660322-94|            1.5666667|2011-03-07 00:00:00|2011-03-07 00:00:00|2011-03-07 20:49:25|\n",
      "| 110670051|   B09|      11021963|          Alarms|                Fire|5800 Block of MIS...|  SF|  94112|      B09|         33|6213|               3|       3|            3|  false|         null|        1|   CHIEF|                         3|                     9|                11|     Outer Mission|(37.709160030699,...|110670051-B09|                  2.8|2011-03-08 00:00:00|2011-03-07 00:00:00|2011-03-08 07:36:00|\n",
      "+----------+------+--------------+----------------+--------------------+--------------------+----+-------+---------+-----------+----+----------------+--------+-------------+-------+-------------+---------+--------+--------------------------+----------------------+------------------+------------------+--------------------+-------------+---------------------+-------------------+-------------------+-------------------+\n",
      "only showing top 5 rows\n",
      "\n"
     ]
    }
   ],
   "source": [
    "fireparquet.show(5)"
   ]
  },
  {
   "cell_type": "code",
   "execution_count": null,
   "id": "88d301f1-46f6-4b70-88b4-a73409b1d697",
   "metadata": {},
   "outputs": [],
   "source": []
  }
 ],
 "metadata": {
  "kernelspec": {
   "display_name": "Python 3 (ipykernel)",
   "language": "python",
   "name": "python3"
  },
  "language_info": {
   "codemirror_mode": {
    "name": "ipython",
    "version": 3
   },
   "file_extension": ".py",
   "mimetype": "text/x-python",
   "name": "python",
   "nbconvert_exporter": "python",
   "pygments_lexer": "ipython3",
   "version": "3.9.7"
  }
 },
 "nbformat": 4,
 "nbformat_minor": 5
}
