{
 "cells": [
  {
   "cell_type": "markdown",
   "id": "ca762abd-6581-40ef-9d0b-6de07bdc03ab",
   "metadata": {},
   "source": [
    "# 1.- Realizar todos los ejercicios propuestos de libro\n"
   ]
  },
  {
   "cell_type": "code",
   "execution_count": 2,
   "id": "07ddf5fb-774f-4549-9adc-829405569f5d",
   "metadata": {},
   "outputs": [],
   "source": [
    "# In Python, define a schema \n",
    "\n",
    "import sys\n",
    "from pyspark.sql import SparkSession\n",
    "from pyspark.sql.functions import count\n",
    "from pyspark.sql.functions import sum\n",
    "from pyspark.sql.functions import col\n",
    "from pyspark.sql.types import *"
   ]
  },
  {
   "cell_type": "code",
   "execution_count": 3,
   "id": "777f8db8-179f-49e1-b9d5-ba93ce656bd5",
   "metadata": {},
   "outputs": [
    {
     "name": "stdout",
     "output_type": "stream",
     "text": [
      "root\n",
      " |-- battery_level: long (nullable = true)\n",
      " |-- c02_level: long (nullable = true)\n",
      " |-- cca2: string (nullable = true)\n",
      " |-- cca3: string (nullable = true)\n",
      " |-- cn: string (nullable = true)\n",
      " |-- device_id: long (nullable = true)\n",
      " |-- device_name: string (nullable = true)\n",
      " |-- humidity: long (nullable = true)\n",
      " |-- ip: string (nullable = true)\n",
      " |-- latitude: double (nullable = true)\n",
      " |-- lcd: string (nullable = true)\n",
      " |-- longitude: double (nullable = true)\n",
      " |-- scale: string (nullable = true)\n",
      " |-- temp: long (nullable = true)\n",
      " |-- timestamp: long (nullable = true)\n",
      "\n",
      "+-------------+---------+----+----+-------------+---------+------------------------+--------+---------------+--------+------+---------+-------+----+-------------+\n",
      "|battery_level|c02_level|cca2|cca3|cn           |device_id|device_name             |humidity|ip             |latitude|lcd   |longitude|scale  |temp|timestamp    |\n",
      "+-------------+---------+----+----+-------------+---------+------------------------+--------+---------------+--------+------+---------+-------+----+-------------+\n",
      "|8            |868      |US  |USA |United States|1        |meter-gauge-1xbYRYcj    |51      |68.161.225.1   |38.0    |green |-97.0    |Celsius|34  |1458444054093|\n",
      "|7            |1473     |NO  |NOR |Norway       |2        |sensor-pad-2n2Pea       |70      |213.161.254.1  |62.47   |red   |6.15     |Celsius|11  |1458444054119|\n",
      "|2            |1556     |IT  |ITA |Italy        |3        |device-mac-36TWSKiT     |44      |88.36.5.1      |42.83   |red   |12.83    |Celsius|19  |1458444054120|\n",
      "|6            |1080     |US  |USA |United States|4        |sensor-pad-4mzWkz       |32      |66.39.173.154  |44.06   |yellow|-121.32  |Celsius|28  |1458444054121|\n",
      "|4            |931      |PH  |PHL |Philippines  |5        |therm-stick-5gimpUrBB   |62      |203.82.41.9    |14.58   |green |120.97   |Celsius|25  |1458444054122|\n",
      "|3            |1210     |US  |USA |United States|6        |sensor-pad-6al7RTAobR   |51      |204.116.105.67 |35.93   |yellow|-85.46   |Celsius|27  |1458444054122|\n",
      "|3            |1129     |CN  |CHN |China        |7        |meter-gauge-7GeDoanM    |26      |220.173.179.1  |22.82   |yellow|108.32   |Celsius|18  |1458444054123|\n",
      "|0            |1536     |JP  |JPN |Japan        |8        |sensor-pad-8xUD6pzsQI   |35      |210.173.177.1  |35.69   |red   |139.69   |Celsius|27  |1458444054123|\n",
      "|3            |807      |JP  |JPN |Japan        |9        |device-mac-9GcjZ2pw     |85      |118.23.68.227  |35.69   |green |139.69   |Celsius|13  |1458444054124|\n",
      "|7            |1470     |US  |USA |United States|10       |sensor-pad-10BsywSYUF   |56      |208.109.163.218|33.61   |red   |-111.89  |Celsius|26  |1458444054125|\n",
      "|3            |1544     |IT  |ITA |Italy        |11       |meter-gauge-11dlMTZty   |85      |88.213.191.34  |42.83   |red   |12.83    |Celsius|16  |1458444054125|\n",
      "|0            |1260     |US  |USA |United States|12       |sensor-pad-12Y2kIm0o    |92      |68.28.91.22    |38.0    |yellow|-97.0    |Celsius|12  |1458444054126|\n",
      "|6            |1007     |IN  |IND |India        |13       |meter-gauge-13GrojanSGBz|92      |59.144.114.250 |28.6    |yellow|77.2     |Celsius|13  |1458444054127|\n",
      "|1            |1346     |NO  |NOR |Norway       |14       |sensor-pad-14QL93sBR0j  |90      |193.156.90.200 |59.95   |yellow|10.75    |Celsius|16  |1458444054127|\n",
      "|9            |1259     |US  |USA |United States|15       |device-mac-15se6mZ      |70      |67.185.72.1    |47.41   |yellow|-122.0   |Celsius|13  |1458444054128|\n",
      "|4            |1425     |US  |USA |United States|16       |sensor-pad-16aXmIJZtdO  |53      |68.85.85.106   |38.0    |red   |-97.0    |Celsius|15  |1458444054128|\n",
      "|0            |1466     |US  |USA |United States|17       |meter-gauge-17zb8Fghhl  |98      |161.188.212.254|39.95   |red   |-75.16   |Celsius|31  |1458444054129|\n",
      "|4            |1096     |CN  |CHN |China        |18       |sensor-pad-18XULN9Xv    |25      |221.3.128.242  |25.04   |yellow|102.72   |Celsius|31  |1458444054130|\n",
      "|9            |1531     |US  |USA |United States|19       |meter-gauge-19eg1BpfCO  |75      |64.124.180.215 |38.0    |red   |-97.0    |Celsius|29  |1458444054130|\n",
      "|7            |1155     |US  |USA |United States|20       |sensor-pad-20gFNfBgqr   |33      |66.153.162.66  |33.94   |yellow|-78.92   |Celsius|10  |1458444054131|\n",
      "+-------------+---------+----+----+-------------+---------+------------------------+--------+---------------+--------+------+---------+-------+----+-------------+\n",
      "only showing top 20 rows\n",
      "\n"
     ]
    }
   ],
   "source": [
    "spark = (SparkSession\n",
    " .builder\n",
    " .appName(\"Baterias\")\n",
    " .getOrCreate())\n",
    "\n",
    "\n",
    "# Read JSON file into dataframe\n",
    "df = spark.read.json(\"C:/Users/alejandro.perez/Documents/LearningSparkV2-master/databricks-datasets/learning-spark-v2/iot-devices/iot_devices.json\")\n",
    "df.printSchema()\n",
    "df.show(truncate = False)\n"
   ]
  },
  {
   "cell_type": "markdown",
   "id": "a3041875-6950-4ff5-ac91-0954b776a50b",
   "metadata": {},
   "source": [
    "# Ejercicios página 74"
   ]
  },
  {
   "cell_type": "markdown",
   "id": "fc1472b0-cd12-4e2a-8b8b-650e70b70cdc",
   "metadata": {},
   "source": [
    "### Detect failing devices with battery levels below a threshold"
   ]
  },
  {
   "cell_type": "code",
   "execution_count": 4,
   "id": "165f0000-4702-4a73-81e6-08958e11c5ae",
   "metadata": {},
   "outputs": [
    {
     "name": "stdout",
     "output_type": "stream",
     "text": [
      "+-------------+---------+----+----+-----------------+---------+-----------------------+--------+---------------+--------+------+---------+-------+----+-------------+\n",
      "|battery_level|c02_level|cca2|cca3|cn               |device_id|device_name            |humidity|ip             |latitude|lcd   |longitude|scale  |temp|timestamp    |\n",
      "+-------------+---------+----+----+-----------------+---------+-----------------------+--------+---------------+--------+------+---------+-------+----+-------------+\n",
      "|2            |1556     |IT  |ITA |Italy            |3        |device-mac-36TWSKiT    |44      |88.36.5.1      |42.83   |red   |12.83    |Celsius|19  |1458444054120|\n",
      "|4            |931      |PH  |PHL |Philippines      |5        |therm-stick-5gimpUrBB  |62      |203.82.41.9    |14.58   |green |120.97   |Celsius|25  |1458444054122|\n",
      "|3            |1210     |US  |USA |United States    |6        |sensor-pad-6al7RTAobR  |51      |204.116.105.67 |35.93   |yellow|-85.46   |Celsius|27  |1458444054122|\n",
      "|3            |1129     |CN  |CHN |China            |7        |meter-gauge-7GeDoanM   |26      |220.173.179.1  |22.82   |yellow|108.32   |Celsius|18  |1458444054123|\n",
      "|0            |1536     |JP  |JPN |Japan            |8        |sensor-pad-8xUD6pzsQI  |35      |210.173.177.1  |35.69   |red   |139.69   |Celsius|27  |1458444054123|\n",
      "|3            |807      |JP  |JPN |Japan            |9        |device-mac-9GcjZ2pw    |85      |118.23.68.227  |35.69   |green |139.69   |Celsius|13  |1458444054124|\n",
      "|3            |1544     |IT  |ITA |Italy            |11       |meter-gauge-11dlMTZty  |85      |88.213.191.34  |42.83   |red   |12.83    |Celsius|16  |1458444054125|\n",
      "|0            |1260     |US  |USA |United States    |12       |sensor-pad-12Y2kIm0o   |92      |68.28.91.22    |38.0    |yellow|-97.0    |Celsius|12  |1458444054126|\n",
      "|1            |1346     |NO  |NOR |Norway           |14       |sensor-pad-14QL93sBR0j |90      |193.156.90.200 |59.95   |yellow|10.75    |Celsius|16  |1458444054127|\n",
      "|4            |1425     |US  |USA |United States    |16       |sensor-pad-16aXmIJZtdO |53      |68.85.85.106   |38.0    |red   |-97.0    |Celsius|15  |1458444054128|\n",
      "|0            |1466     |US  |USA |United States    |17       |meter-gauge-17zb8Fghhl |98      |161.188.212.254|39.95   |red   |-75.16   |Celsius|31  |1458444054129|\n",
      "|4            |1096     |CN  |CHN |China            |18       |sensor-pad-18XULN9Xv   |25      |221.3.128.242  |25.04   |yellow|102.72   |Celsius|31  |1458444054130|\n",
      "|4            |880      |US  |USA |United States    |25       |therm-stick-25kK6VyzIFB|78      |24.154.45.90   |41.1    |green |-80.76   |Celsius|27  |1458444054134|\n",
      "|3            |1502     |KR  |KOR |Republic of Korea|28       |sensor-pad-28Tsudcoikw |64      |211.238.224.77 |37.29   |red   |127.01   |Celsius|25  |1458444054136|\n",
      "|3            |835      |RU  |RUS |Russia           |33       |device-mac-33B94GfPzi  |30      |178.23.147.134 |55.75   |green |37.62    |Celsius|15  |1458444054139|\n",
      "|1            |1305     |CY  |CYP |Cyprus           |36       |sensor-pad-36VQv8fnEg  |47      |213.7.14.1     |35.0    |yellow|33.0     |Celsius|24  |1458444054141|\n",
      "|2            |908      |CN  |CHN |China            |39       |device-mac-39iklYVtvBT |84      |218.7.15.1     |45.75   |green |126.65   |Celsius|17  |1458444054144|\n",
      "|2            |1224     |FR  |FRA |France           |40       |sensor-pad-40NjeMqS    |27      |188.7.9.1      |49.17   |yellow|6.19     |Celsius|34  |1458444054145|\n",
      "|2            |913      |ES  |ESP |Spain            |43       |meter-gauge-43RYonsvaW |39      |80.81.64.142   |40.4    |green |-3.68    |Celsius|12  |1458444054148|\n",
      "|0            |917      |DE  |DEU |Germany          |44       |sensor-pad-448DeWGL    |63      |62.128.16.74   |49.46   |green |11.1     |Celsius|27  |1458444054149|\n",
      "+-------------+---------+----+----+-----------------+---------+-----------------------+--------+---------------+--------+------+---------+-------+----+-------------+\n",
      "only showing top 20 rows\n",
      "\n"
     ]
    }
   ],
   "source": [
    "import pyspark.sql.functions as F\n",
    "from pyspark.sql.types import DoubleType\n",
    "from pyspark.sql.types import IntegerType\n",
    "\n",
    "\n",
    "batteryFilter = df.withColumn(\"battery_level\", F.col(\"battery_level\").cast(IntegerType()) )\\\n",
    "                 .where(F.col(\"battery_level\")<5)\n",
    "\n",
    "batteryFilter.show(truncate= False)"
   ]
  },
  {
   "cell_type": "markdown",
   "id": "bcd11a10-cdd6-4dc2-952d-3d975aedcc2a",
   "metadata": {},
   "source": [
    "### Identify offending countries with high levels of CO2 emissions"
   ]
  },
  {
   "cell_type": "code",
   "execution_count": 5,
   "id": "c1b1a04f-f8b9-4e41-9d5b-42bed8141bef",
   "metadata": {},
   "outputs": [
    {
     "name": "stdout",
     "output_type": "stream",
     "text": [
      "+---------+------------------+-------------+----+\n",
      "|C02_level|mediaC02_temp     |cn           |temp|\n",
      "+---------+------------------+-------------+----+\n",
      "|1470     |1197.9663077897403|United States|26  |\n",
      "|1399     |1197.9663077897403|United States|26  |\n",
      "|1553     |1197.9663077897403|Ecuador      |26  |\n",
      "|1360     |1197.9663077897403|United States|26  |\n",
      "|1477     |1197.9663077897403|China        |26  |\n",
      "|1565     |1197.9663077897403|United States|26  |\n",
      "|1556     |1197.9663077897403|Monaco       |26  |\n",
      "|1372     |1197.9663077897403|United States|26  |\n",
      "|1533     |1197.9663077897403|United States|26  |\n",
      "|1370     |1197.9663077897403|United States|26  |\n",
      "|1399     |1197.9663077897403|United States|26  |\n",
      "|1505     |1197.9663077897403|Russia       |26  |\n",
      "|1545     |1197.9663077897403|United States|26  |\n",
      "|1525     |1197.9663077897403|Ireland      |26  |\n",
      "|1261     |1197.9663077897403|Japan        |26  |\n",
      "|1227     |1197.9663077897403|United States|26  |\n",
      "|1316     |1197.9663077897403|United States|26  |\n",
      "|1254     |1197.9663077897403|China        |26  |\n",
      "|1433     |1197.9663077897403|United States|26  |\n",
      "|1413     |1197.9663077897403|United States|26  |\n",
      "+---------+------------------+-------------+----+\n",
      "only showing top 20 rows\n",
      "\n"
     ]
    }
   ],
   "source": [
    "from pyspark.sql import Window\n",
    "w = Window().partitionBy(\"temp\")\n",
    "\n",
    "highC02 = df.withColumn(\"c02_level\", F.col(\"c02_level\").cast(IntegerType()))\\\n",
    "            .withColumn(\"mediaC02_temp\", F.mean(\"c02_level\").over(w))\\\n",
    "            .where(F.col(\"c02_level\") > F.col(\"mediaC02_temp\"))\\\n",
    "            .select(F.col(\"C02_level\"), F.col(\"mediaC02_temp\"), F.col(\"cn\"), F.col(\"temp\"))\n",
    "\n",
    "highC02.show(truncate= False)"
   ]
  },
  {
   "cell_type": "markdown",
   "id": "666cff02-aa12-450a-bb9d-10687a03ce93",
   "metadata": {},
   "source": [
    "### Compute the min and max values for temperature, battery level, C02 and humidity"
   ]
  },
  {
   "cell_type": "code",
   "execution_count": 6,
   "id": "d4a5b383-4667-4e58-88f5-e5806f0ac9f1",
   "metadata": {},
   "outputs": [
    {
     "name": "stdout",
     "output_type": "stream",
     "text": [
      "+------------------------------+------+------+-------+------+------+------+-------+------+\n",
      "|cn                            |MinC02|minBat|minTemp|minHum|MaxC02|maxBat|maxTemp|maxHum|\n",
      "+------------------------------+------+------+-------+------+------+------+-------+------+\n",
      "|Russia                        |800   |0     |10     |25    |1599  |9     |34     |99    |\n",
      "|Paraguay                      |836   |0     |10     |27    |1580  |9     |33     |98    |\n",
      "|Anguilla                      |865   |0     |23     |26    |1398  |9     |34     |83    |\n",
      "|Macao                         |831   |0     |10     |25    |1592  |9     |34     |98    |\n",
      "|U.S. Virgin Islands           |819   |0     |10     |25    |1591  |9     |34     |99    |\n",
      "|Yemen                         |817   |0     |10     |28    |1427  |9     |32     |95    |\n",
      "|British Indian Ocean Territory|852   |7     |25     |54    |1560  |7     |27     |76    |\n",
      "|Senegal                       |802   |1     |11     |25    |1589  |9     |34     |94    |\n",
      "|Sweden                        |800   |0     |10     |25    |1599  |9     |34     |99    |\n",
      "|Republic of Korea             |800   |0     |10     |25    |1599  |9     |34     |99    |\n",
      "|Guyana                        |843   |2     |14     |25    |1262  |5     |22     |94    |\n",
      "|Philippines                   |803   |0     |10     |25    |1599  |9     |34     |99    |\n",
      "|Jersey                        |808   |0     |11     |25    |1597  |9     |33     |98    |\n",
      "|Tonga                         |1323  |2     |16     |25    |1323  |2     |16     |25    |\n",
      "|Singapore                     |800   |0     |10     |25    |1597  |9     |34     |99    |\n",
      "|Malaysia                      |803   |0     |10     |25    |1599  |9     |34     |99    |\n",
      "|Fiji                          |876   |0     |14     |30    |1533  |9     |33     |96    |\n",
      "|Turkey                        |802   |0     |10     |25    |1599  |9     |34     |99    |\n",
      "|Malawi                        |803   |0     |17     |28    |1399  |9     |34     |93    |\n",
      "|Åland                         |871   |0     |10     |27    |1593  |9     |34     |99    |\n",
      "+------------------------------+------+------+-------+------+------+------+-------+------+\n",
      "only showing top 20 rows\n",
      "\n"
     ]
    }
   ],
   "source": [
    "minMax = df.withColumn(\"c02_level\", F.col(\"c02_level\").cast(IntegerType()))\\\n",
    "            .withColumn(\"temp\", F.col(\"temp\").cast(IntegerType()))\\\n",
    "            .withColumn(\"battery_level\", F.col(\"battery_level\").cast(IntegerType()))\\\n",
    "            .withColumn(\"humidity\", F.col(\"humidity\").cast(IntegerType()))\\\n",
    "            .groupBy(\"cn\")\\\n",
    "            .agg(F.min(F.col(\"c02_level\")).alias(\"MinC02\"), F.min(F.col(\"battery_level\")).alias(\"minBat\"), F.min(F.col(\"temp\")).alias(\"minTemp\"), F.min(F.col(\"humidity\")).alias(\"minHum\"), \n",
    "                 F.max(F.col(\"c02_level\")).alias(\"MaxC02\"), F.max(F.col(\"battery_level\")).alias(\"maxBat\"), F.max(F.col(\"temp\")).alias(\"maxTemp\"), F.max(F.col(\"humidity\")).alias(\"maxHum\"))\n",
    "\n",
    "minMax.show(truncate= False)"
   ]
  },
  {
   "cell_type": "markdown",
   "id": "ed9d15e0-fb39-4b76-8301-07adcc05f0fd",
   "metadata": {},
   "source": [
    "# 2.- Leer el CSV del ejemplo del cap2 y obtener la estructura del schema dado por defecto."
   ]
  },
  {
   "cell_type": "code",
   "execution_count": 7,
   "id": "53859783-d25e-4a48-9d1e-2a3ea1e39b36",
   "metadata": {},
   "outputs": [],
   "source": [
    "mnm_file = \"C:/Users/alejandro.perez/Documents/LearningSparkV2-master/chapter2/py/src/data/mnm_dataset.csv\"\n",
    " # Read the file into a Spark DataFrame using the CSV\n",
    " # format by inferring the schema and specifying that the\n",
    " # file contains a header, which provides column names for comma-\n",
    " # separated fields.\n",
    "\n",
    "mnm_df = (spark.read.format(\"csv\")\n",
    " .option(\"header\", \"true\")\n",
    " .option(\"inferSchema\", \"true\")\n",
    " .load(mnm_file))"
   ]
  },
  {
   "cell_type": "code",
   "execution_count": 8,
   "id": "83343b16-052d-49a3-96ec-13b73b59e516",
   "metadata": {},
   "outputs": [
    {
     "name": "stdout",
     "output_type": "stream",
     "text": [
      "+-----+------+-----+\n",
      "|State| Color|Count|\n",
      "+-----+------+-----+\n",
      "|   TX|   Red|   20|\n",
      "|   NV|  Blue|   66|\n",
      "|   CO|  Blue|   79|\n",
      "|   OR|  Blue|   71|\n",
      "|   WA|Yellow|   93|\n",
      "|   WY|  Blue|   16|\n",
      "|   CA|Yellow|   53|\n",
      "|   WA| Green|   60|\n",
      "|   OR| Green|   71|\n",
      "|   TX| Green|   68|\n",
      "|   NV| Green|   59|\n",
      "|   AZ| Brown|   95|\n",
      "|   WA|Yellow|   20|\n",
      "|   AZ|  Blue|   75|\n",
      "|   OR| Brown|   72|\n",
      "|   NV|   Red|   98|\n",
      "|   WY|Orange|   45|\n",
      "|   CO|  Blue|   52|\n",
      "|   TX| Brown|   94|\n",
      "|   CO|   Red|   82|\n",
      "+-----+------+-----+\n",
      "only showing top 20 rows\n",
      "\n"
     ]
    }
   ],
   "source": [
    "mnm_df.show()"
   ]
  },
  {
   "cell_type": "code",
   "execution_count": 10,
   "id": "62652faa-69d9-4d9a-8052-8d574a41d1ea",
   "metadata": {},
   "outputs": [
    {
     "name": "stdout",
     "output_type": "stream",
     "text": [
      "root\n",
      " |-- State: string (nullable = true)\n",
      " |-- Color: string (nullable = true)\n",
      " |-- Count: integer (nullable = true)\n",
      "\n"
     ]
    }
   ],
   "source": [
    "mnm_df.printSchema()"
   ]
  },
  {
   "cell_type": "markdown",
   "id": "1789699a-5aff-42f8-9a16-2551dbeaeb7c",
   "metadata": {},
   "source": [
    "# 3.- Cuando se define un schema al definir un campo por ejemplo StructField('Delay', FloatType(), True) ¿qué significa el último parámetro Boolean?"
   ]
  },
  {
   "cell_type": "markdown",
   "id": "a0f0ee9b-fb5a-4be5-af04-4f3ea11e2b6f",
   "metadata": {},
   "source": [
    "Especifica cuando el campo, en este caso 'Delay' puede tener valores nulos o no, en este caso y por defecto viene asignado el valor True por lo que si puede tener valores nulos."
   ]
  },
  {
   "cell_type": "markdown",
   "id": "f473925a-75c3-4f73-af83-82c32ab93477",
   "metadata": {},
   "source": [
    "# 4.- Dataset vs DataFrame (Scala). ¿En qué se diferencian a nivel de código?"
   ]
  },
  {
   "cell_type": "markdown",
   "id": "bd136757-09ff-4727-bd21-8dd0d21d6b83",
   "metadata": {},
   "source": [
    "Los Dataset permiten utilizar funciones de la API de los rdd y están optimizados con Catalyst."
   ]
  },
  {
   "cell_type": "markdown",
   "id": "8fcb36b3-648d-4460-b14a-a3140fcde466",
   "metadata": {},
   "source": [
    "# 5.- Utilizando el mismo ejemplo utilizado en el capítulo para guardar en parquet y guardar los datos en los formatos:"
   ]
  },
  {
   "cell_type": "code",
   "execution_count": 14,
   "id": "aab6c872-7d6f-4b28-a8cd-62f51f1a7990",
   "metadata": {},
   "outputs": [],
   "source": [
    "mnm_df.write.format(\"avro\")\\\n",
    "      .save(\"mnm.avro\")"
   ]
  },
  {
   "cell_type": "code",
   "execution_count": 15,
   "id": "05e43d37-40d6-40ef-93c5-3573b0969c99",
   "metadata": {},
   "outputs": [],
   "source": [
    "mnm_df.write.format(\"json\")\\\n",
    "      .save(\"mnm.json\")"
   ]
  },
  {
   "cell_type": "code",
   "execution_count": 16,
   "id": "f4a08b90-fe6d-4740-a34b-7cdb45775d8e",
   "metadata": {},
   "outputs": [],
   "source": [
    "mnm_df.write.format(\"csv\")\\\n",
    "      .save(\"mnm.csv\")"
   ]
  },
  {
   "cell_type": "code",
   "execution_count": null,
   "id": "fb007273-1c12-42d8-ab0c-267c08140498",
   "metadata": {},
   "outputs": [],
   "source": []
  }
 ],
 "metadata": {
  "kernelspec": {
   "display_name": "Python 3 (ipykernel)",
   "language": "python",
   "name": "python3"
  },
  "language_info": {
   "codemirror_mode": {
    "name": "ipython",
    "version": 3
   },
   "file_extension": ".py",
   "mimetype": "text/x-python",
   "name": "python",
   "nbconvert_exporter": "python",
   "pygments_lexer": "ipython3",
   "version": "3.9.7"
  }
 },
 "nbformat": 4,
 "nbformat_minor": 5
}
