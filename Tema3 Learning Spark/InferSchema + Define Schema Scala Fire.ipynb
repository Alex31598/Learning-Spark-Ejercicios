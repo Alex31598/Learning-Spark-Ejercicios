{
 "cells": [
  {
   "cell_type": "code",
   "execution_count": 1,
   "id": "5a380f77-f710-4cd0-8bf2-fc88b1e607c5",
   "metadata": {},
   "outputs": [
    {
     "data": {
      "text/plain": [
       "Intitializing Scala interpreter ..."
      ]
     },
     "metadata": {},
     "output_type": "display_data"
    },
    {
     "data": {
      "text/plain": [
       "Spark Web UI available at http://L2202039.bosonit.local:4040\n",
       "SparkContext available as 'sc' (version = 3.1.3, master = local[*], app id = local-1649147642249)\n",
       "SparkSession available as 'spark'\n"
      ]
     },
     "metadata": {},
     "output_type": "display_data"
    },
    {
     "data": {
      "text/plain": [
       "sampleDF: org.apache.spark.sql.DataFrame = [CallNumber: string, UnitID: string ... 26 more fields]\r\n"
      ]
     },
     "execution_count": 1,
     "metadata": {},
     "output_type": "execute_result"
    }
   ],
   "source": [
    "\n",
    "val sampleDF = spark\n",
    " .read\n",
    " .option(\"samplingRatio\", 0.001)\n",
    " .option(\"header\", true)\n",
    " .csv(\"\"\"C:/Users/alejandro.perez/Documents/LearningSparkV2-master/chapter3/data/sf-fire-calls.csv\"\"\")\n"
   ]
  },
  {
   "cell_type": "code",
   "execution_count": 2,
   "id": "1fe08caf-f77a-4dc1-bf27-d0518ce3505b",
   "metadata": {},
   "outputs": [
    {
     "data": {
      "text/plain": [
       "import org.apache.spark.sql.types._\r\n",
       "fireSchema: org.apache.spark.sql.types.StructType = StructType(StructField(CallNumber,IntegerType,true), StructField(UnitID,StringType,true), StructField(IncidentNumber,IntegerType,true), StructField(CallType,StringType,true), StructField(CallDate,StringType,true), StructField(WatchDate,StringType,true), StructField(CallFinalDisposition,StringType,true), StructField(AvailableDtTm,StringType,true), StructField(Address,StringType,true), StructField(City,StringType,true), StructField(Zipcode,IntegerType,true), StructField(Battalion,StringType,true), StructField(StationArea,StringType,true), StructField(Box,StringType,true), StructField(OriginalPriority,StringType,true), StructField(Priority,StringType,true), StructField(FinalPriority,IntegerType,true), ...\r\n"
      ]
     },
     "execution_count": 2,
     "metadata": {},
     "output_type": "execute_result"
    }
   ],
   "source": [
    "// In Scala it would be similar\n",
    "import org.apache.spark.sql.types._\n",
    "val fireSchema = StructType(Array(StructField(\"CallNumber\", IntegerType, true),\n",
    " StructField(\"UnitID\", StringType, true),\n",
    " StructField(\"IncidentNumber\", IntegerType, true),\n",
    " StructField(\"CallType\", StringType, true), \n",
    " StructField(\"CallDate\", StringType, true), \n",
    " StructField(\"WatchDate\", StringType, true),\n",
    " StructField(\"CallFinalDisposition\", StringType, true),\n",
    " StructField(\"AvailableDtTm\", StringType, true),\n",
    " StructField(\"Address\", StringType, true), \n",
    " StructField(\"City\", StringType, true), \n",
    " StructField(\"Zipcode\", IntegerType, true), \n",
    " StructField(\"Battalion\", StringType, true), \n",
    " StructField(\"StationArea\", StringType, true), \n",
    " StructField(\"Box\", StringType, true), \n",
    " StructField(\"OriginalPriority\", StringType, true), \n",
    " StructField(\"Priority\", StringType, true), \n",
    " StructField(\"FinalPriority\", IntegerType, true), \n",
    " StructField(\"ALSUnit\", BooleanType, true), \n",
    " StructField(\"CallTypeGroup\", StringType, true),\n",
    " StructField(\"NumAlarms\", IntegerType, true),\n",
    " StructField(\"UnitType\", StringType, true),\n",
    " StructField(\"UnitSequenceInCallDispatch\", IntegerType, true),\n",
    " StructField(\"FirePreventionDistrict\", StringType, true),\n",
    " StructField(\"SupervisorDistrict\", StringType, true),\n",
    " StructField(\"Neighborhood\", StringType, true),\n",
    " StructField(\"Location\", StringType, true),\n",
    " StructField(\"RowID\", StringType, true),\n",
    " StructField(\"Delay\", FloatType, true)))\n",
    "// Read the file using the CSV DataFrameReader\n",
    "val sfFireFile=\"C:/Users/alejandro.perez/Documents/LearningSparkV2-master/chapter3/data/sf-fire-calls.csv\"\n",
    "val fireDF = spark.read.schema(fireSchema)\n",
    " .option(\"header\", \"true\")\n",
    " .csv(sfFireFile)"
   ]
  },
  {
   "cell_type": "code",
   "execution_count": 3,
   "id": "7320f4d5-cf88-4ff0-b5d2-d36bd10df044",
   "metadata": {},
   "outputs": [
    {
     "name": "stdout",
     "output_type": "stream",
     "text": [
      "+--------------+----------------------+--------------+\n",
      "|IncidentNumber|AvailableDtTm         |CallType      |\n",
      "+--------------+----------------------+--------------+\n",
      "|2003235       |01/11/2002 01:51:44 AM|Structure Fire|\n",
      "|2003250       |01/11/2002 04:16:46 AM|Vehicle Fire  |\n",
      "|2003259       |01/11/2002 06:01:58 AM|Alarms        |\n",
      "|2003279       |01/11/2002 08:03:26 AM|Structure Fire|\n",
      "|2003301       |01/11/2002 09:46:44 AM|Alarms        |\n",
      "+--------------+----------------------+--------------+\n",
      "only showing top 5 rows\n",
      "\n"
     ]
    },
    {
     "data": {
      "text/plain": [
       "fewFireDF: org.apache.spark.sql.Dataset[org.apache.spark.sql.Row] = [IncidentNumber: int, AvailableDtTm: string ... 1 more field]\r\n"
      ]
     },
     "execution_count": 3,
     "metadata": {},
     "output_type": "execute_result"
    }
   ],
   "source": [
    "val fewFireDF = fireDF\n",
    " .select(\"IncidentNumber\", \"AvailableDtTm\", \"CallType\")\n",
    " .where($\"CallType\" =!= \"Medical Incident\") \n",
    "fewFireDF.show(5, false)\n"
   ]
  },
  {
   "cell_type": "code",
   "execution_count": 4,
   "id": "695dc496-6db8-46fe-b154-f032490213e6",
   "metadata": {},
   "outputs": [
    {
     "name": "stdout",
     "output_type": "stream",
     "text": [
      "+-----------------+\n",
      "|DistinctCallTypes|\n",
      "+-----------------+\n",
      "|               30|\n",
      "+-----------------+\n",
      "\n"
     ]
    },
    {
     "data": {
      "text/plain": [
       "import org.apache.spark.sql.functions._\r\n"
      ]
     },
     "execution_count": 4,
     "metadata": {},
     "output_type": "execute_result"
    }
   ],
   "source": [
    "import org.apache.spark.sql.functions._\n",
    "fireDF\n",
    " .select(\"CallType\")\n",
    " .where(col(\"CallType\").isNotNull)\n",
    " .agg(countDistinct('CallType) as 'DistinctCallTypes)\n",
    " .show()"
   ]
  },
  {
   "cell_type": "code",
   "execution_count": 5,
   "id": "1a6dfe15-99b7-4e25-9042-c4a4a20543e5",
   "metadata": {},
   "outputs": [
    {
     "name": "stdout",
     "output_type": "stream",
     "text": [
      "+-----------------------------------+\n",
      "|CallType                           |\n",
      "+-----------------------------------+\n",
      "|Elevator / Escalator Rescue        |\n",
      "|Marine Fire                        |\n",
      "|Aircraft Emergency                 |\n",
      "|Confined Space / Structure Collapse|\n",
      "|Administrative                     |\n",
      "|Alarms                             |\n",
      "|Odor (Strange / Unknown)           |\n",
      "|Citizen Assist / Service Call      |\n",
      "|HazMat                             |\n",
      "|Watercraft in Distress             |\n",
      "+-----------------------------------+\n",
      "only showing top 10 rows\n",
      "\n"
     ]
    }
   ],
   "source": [
    "// In Scala\n",
    "fireDF\n",
    " .select(\"CallType\")\n",
    " .where($\"CallType\".isNotNull)\n",
    " .distinct()\n",
    " .show(10, false)\n"
   ]
  },
  {
   "cell_type": "code",
   "execution_count": 6,
   "id": "9e6c590c-e91c-43ca-9997-9c8daf226729",
   "metadata": {},
   "outputs": [
    {
     "name": "stdout",
     "output_type": "stream",
     "text": [
      "+---------------------+\n",
      "|ResponseDelayedinMins|\n",
      "+---------------------+\n",
      "|5.35                 |\n",
      "|6.25                 |\n",
      "|5.2                  |\n",
      "|5.6                  |\n",
      "|7.25                 |\n",
      "+---------------------+\n",
      "only showing top 5 rows\n",
      "\n"
     ]
    },
    {
     "data": {
      "text/plain": [
       "newFireDF: org.apache.spark.sql.DataFrame = [CallNumber: int, UnitID: string ... 26 more fields]\r\n"
      ]
     },
     "execution_count": 6,
     "metadata": {},
     "output_type": "execute_result"
    }
   ],
   "source": [
    "// In Scala\n",
    "val newFireDF = fireDF.withColumnRenamed(\"Delay\", \"ResponseDelayedinMins\")\n",
    "newFireDF\n",
    " .select(\"ResponseDelayedinMins\")\n",
    " .where($\"ResponseDelayedinMins\" > 5)\n",
    " .show(5, false)"
   ]
  },
  {
   "cell_type": "code",
   "execution_count": 7,
   "id": "65a19b58-a0d3-4059-ac00-d7700b96b39d",
   "metadata": {},
   "outputs": [
    {
     "name": "stdout",
     "output_type": "stream",
     "text": [
      "+-------------------+-------------------+-------------------+\n",
      "|IncidentDate       |OnWatchDate        |AvailableDtTS      |\n",
      "+-------------------+-------------------+-------------------+\n",
      "|2002-01-11 00:00:00|2002-01-10 00:00:00|2002-01-11 01:51:44|\n",
      "|2002-01-11 00:00:00|2002-01-10 00:00:00|2002-01-11 03:01:18|\n",
      "|2002-01-11 00:00:00|2002-01-10 00:00:00|2002-01-11 02:39:50|\n",
      "|2002-01-11 00:00:00|2002-01-10 00:00:00|2002-01-11 04:16:46|\n",
      "|2002-01-11 00:00:00|2002-01-10 00:00:00|2002-01-11 06:01:58|\n",
      "+-------------------+-------------------+-------------------+\n",
      "only showing top 5 rows\n",
      "\n"
     ]
    },
    {
     "data": {
      "text/plain": [
       "fireTsDF: org.apache.spark.sql.DataFrame = [CallNumber: int, UnitID: string ... 26 more fields]\r\n"
      ]
     },
     "execution_count": 7,
     "metadata": {},
     "output_type": "execute_result"
    }
   ],
   "source": [
    "// In Scala\n",
    "val fireTsDF = newFireDF\n",
    " .withColumn(\"IncidentDate\", to_timestamp(col(\"CallDate\"), \"MM/dd/yyyy\"))\n",
    " .drop(\"CallDate\")\n",
    " .withColumn(\"OnWatchDate\", to_timestamp(col(\"WatchDate\"), \"MM/dd/yyyy\"))\n",
    " .drop(\"WatchDate\")\n",
    " .withColumn(\"AvailableDtTS\", to_timestamp(col(\"AvailableDtTm\"),\n",
    " \"MM/dd/yyyy hh:mm:ss a\"))\n",
    " .drop(\"AvailableDtTm\")\n",
    "// Select the converted columns\n",
    "fireTsDF\n",
    " .select(\"IncidentDate\", \"OnWatchDate\", \"AvailableDtTS\")\n",
    " .show(5, false)"
   ]
  },
  {
   "cell_type": "code",
   "execution_count": 8,
   "id": "7c623918-fb99-442b-932d-cda9ab7045a3",
   "metadata": {},
   "outputs": [
    {
     "name": "stdout",
     "output_type": "stream",
     "text": [
      "+------------------+\n",
      "|year(IncidentDate)|\n",
      "+------------------+\n",
      "|              2000|\n",
      "|              2001|\n",
      "|              2002|\n",
      "|              2003|\n",
      "|              2004|\n",
      "|              2005|\n",
      "|              2006|\n",
      "|              2007|\n",
      "|              2008|\n",
      "|              2009|\n",
      "|              2010|\n",
      "|              2011|\n",
      "|              2012|\n",
      "|              2013|\n",
      "|              2014|\n",
      "|              2015|\n",
      "|              2016|\n",
      "|              2017|\n",
      "|              2018|\n",
      "+------------------+\n",
      "\n"
     ]
    }
   ],
   "source": [
    "// In Scala\n",
    "fireTsDF\n",
    " .select(year($\"IncidentDate\"))\n",
    " .distinct()\n",
    " .orderBy(year($\"IncidentDate\"))\n",
    " .show()\n"
   ]
  },
  {
   "cell_type": "code",
   "execution_count": 9,
   "id": "4e93abe8-7b9b-4976-87b0-a0ae43cb91dd",
   "metadata": {},
   "outputs": [
    {
     "name": "stdout",
     "output_type": "stream",
     "text": [
      "+-------------------------------+------+\n",
      "|CallType                       |count |\n",
      "+-------------------------------+------+\n",
      "|Medical Incident               |113794|\n",
      "|Structure Fire                 |23319 |\n",
      "|Alarms                         |19406 |\n",
      "|Traffic Collision              |7013  |\n",
      "|Citizen Assist / Service Call  |2524  |\n",
      "|Other                          |2166  |\n",
      "|Outside Fire                   |2094  |\n",
      "|Vehicle Fire                   |854   |\n",
      "|Gas Leak (Natural and LP Gases)|764   |\n",
      "|Water Rescue                   |755   |\n",
      "+-------------------------------+------+\n",
      "only showing top 10 rows\n",
      "\n"
     ]
    }
   ],
   "source": [
    "// In Scala \n",
    "fireTsDF\n",
    " .select(\"CallType\")\n",
    " .where(col(\"CallType\").isNotNull)\n",
    " .groupBy(\"CallType\")\n",
    " .count()\n",
    " .orderBy(desc(\"count\"))\n",
    " .show(10, false)"
   ]
  },
  {
   "cell_type": "code",
   "execution_count": 10,
   "id": "edca0e11-ee3f-441e-9ed8-8698b12bb00a",
   "metadata": {},
   "outputs": [
    {
     "name": "stdout",
     "output_type": "stream",
     "text": [
      "+--------------+--------------------------+--------------------------+--------------------------+\n",
      "|sum(NumAlarms)|avg(ResponseDelayedinMins)|min(ResponseDelayedinMins)|max(ResponseDelayedinMins)|\n",
      "+--------------+--------------------------+--------------------------+--------------------------+\n",
      "|        176170|         3.892364154521585|               0.016666668|                   1844.55|\n",
      "+--------------+--------------------------+--------------------------+--------------------------+\n",
      "\n"
     ]
    },
    {
     "data": {
      "text/plain": [
       "import org.apache.spark.sql.{functions=>F}\r\n"
      ]
     },
     "execution_count": 10,
     "metadata": {},
     "output_type": "execute_result"
    }
   ],
   "source": [
    "// In Scala\n",
    "import org.apache.spark.sql.{functions => F}\n",
    "fireTsDF\n",
    " .select(F.sum(\"NumAlarms\"), F.avg(\"ResponseDelayedinMins\"),\n",
    " F.min(\"ResponseDelayedinMins\"), F.max(\"ResponseDelayedinMins\"))\n",
    " .show()"
   ]
  },
  {
   "cell_type": "code",
   "execution_count": 11,
   "id": "90d0f4b7-109f-484d-b849-d322742011ee",
   "metadata": {},
   "outputs": [
    {
     "name": "stdout",
     "output_type": "stream",
     "text": [
      "+--------------------+\n",
      "|            CallType|\n",
      "+--------------------+\n",
      "|Elevator / Escala...|\n",
      "|              Alarms|\n",
      "|Odor (Strange / U...|\n",
      "|Citizen Assist / ...|\n",
      "|              HazMat|\n",
      "|           Explosion|\n",
      "|        Vehicle Fire|\n",
      "|  Suspicious Package|\n",
      "|               Other|\n",
      "|        Outside Fire|\n",
      "|   Traffic Collision|\n",
      "|       Assist Police|\n",
      "|Gas Leak (Natural...|\n",
      "|        Water Rescue|\n",
      "|   Electrical Hazard|\n",
      "|      Structure Fire|\n",
      "|    Medical Incident|\n",
      "|          Fuel Spill|\n",
      "|Smoke Investigati...|\n",
      "|Train / Rail Inci...|\n",
      "+--------------------+\n",
      "\n"
     ]
    }
   ],
   "source": [
    "//What were all the different types of fire call in 2018?\n",
    "\n",
    "\n",
    "fireTsDF\n",
    " .select($\"CallType\")\n",
    " .where(year($\"IncidentDate\")===2018)\n",
    " .distinct()\n",
    " .show()"
   ]
  },
  {
   "cell_type": "code",
   "execution_count": 12,
   "id": "088de6fd-147b-450b-b4fc-833938393fb0",
   "metadata": {},
   "outputs": [
    {
     "name": "stdout",
     "output_type": "stream",
     "text": [
      "+-------------------+-----+\n",
      "|month(IncidentDate)|count|\n",
      "+-------------------+-----+\n",
      "|                 10| 1068|\n",
      "|                  5| 1047|\n",
      "|                  3| 1029|\n",
      "|                  8| 1021|\n",
      "|                  1| 1007|\n",
      "|                  7|  974|\n",
      "|                  6|  974|\n",
      "|                  9|  951|\n",
      "|                  4|  947|\n",
      "|                  2|  919|\n",
      "|                 11|  199|\n",
      "+-------------------+-----+\n",
      "\n"
     ]
    }
   ],
   "source": [
    "// What months whithin the year 2018 saw the highest number of fire calls?\n",
    "\n",
    "\n",
    "fireTsDF\n",
    " .select(month($\"IncidentDate\"))\n",
    " .where(year($\"IncidentDate\")===2018 && month($\"IncidentDate\").isNotNull)\n",
    " .groupBy(\"month(IncidentDate)\")\n",
    " .count()\n",
    " .orderBy(desc(\"count\"))\n",
    " .show()\n",
    "\n"
   ]
  },
  {
   "cell_type": "code",
   "execution_count": 13,
   "id": "ba053003-a0ea-42e0-9a68-a99705463fdb",
   "metadata": {},
   "outputs": [
    {
     "name": "stdout",
     "output_type": "stream",
     "text": [
      "+-------+-----+\n",
      "|Zipcode|count|\n",
      "+-------+-----+\n",
      "|  94103| 1312|\n",
      "|  94102| 1305|\n",
      "|  94109|  865|\n",
      "|  94110|  854|\n",
      "|  94124|  508|\n",
      "|  94112|  462|\n",
      "|  94107|  432|\n",
      "|  94115|  395|\n",
      "|  94133|  354|\n",
      "|  94122|  340|\n",
      "|  94117|  308|\n",
      "|  94114|  305|\n",
      "|  94105|  280|\n",
      "|  94118|  279|\n",
      "|  94121|  263|\n",
      "|  94132|  251|\n",
      "|  94108|  243|\n",
      "|  94134|  231|\n",
      "|  94123|  204|\n",
      "|  94111|  189|\n",
      "+-------+-----+\n",
      "only showing top 20 rows\n",
      "\n"
     ]
    }
   ],
   "source": [
    "// Which neighborhood in San Francisco generated the most fire calls in 2018?\n",
    "\n",
    "fireTsDF\n",
    " .select(\"Zipcode\")\n",
    " .where(year($\"IncidentDate\")===2018)\n",
    " .groupBy(\"Zipcode\")\n",
    " .count()\n",
    " .orderBy(desc(\"count\"))\n",
    " .show()\n"
   ]
  },
  {
   "cell_type": "code",
   "execution_count": 14,
   "id": "44c0f87b-91b1-4c22-98c3-103ad21c23c1",
   "metadata": {
    "tags": []
   },
   "outputs": [
    {
     "name": "stdout",
     "output_type": "stream",
     "text": [
      "+-------+--------------------------+\n",
      "|Zipcode|avg(ResponseDelayedinMins)|\n",
      "+-------+--------------------------+\n",
      "|  94129|         5.981565614541371|\n",
      "|  94130|         5.453703684111436|\n",
      "|  94105|         5.363809512981347|\n",
      "|  94133|         5.230131806626832|\n",
      "|  94127|         4.818269235296891|\n",
      "|  94124|        4.6581693111559535|\n",
      "|  94111|         4.231922368050883|\n",
      "|  94118|        4.0838112442830985|\n",
      "|  94132|          3.98419654689937|\n",
      "|  94107|        3.9793209974412567|\n",
      "|  94109|         3.976974945812556|\n",
      "|  94134|        3.9474026205993833|\n",
      "|  94102|        3.9365134215903006|\n",
      "|  94122|        3.8774509791065666|\n",
      "|  94117|        3.8475649381032238|\n",
      "|  94114|        3.7992349614373975|\n",
      "|  94116|        3.7678315418381847|\n",
      "|  94103|        3.7607596581404255|\n",
      "|   null|         3.705555518468221|\n",
      "|  94121|        3.6857414451842074|\n",
      "+-------+--------------------------+\n",
      "only showing top 20 rows\n",
      "\n"
     ]
    }
   ],
   "source": [
    "//Which neighboorhoods had the worst response times to fire calls in 2018?\n",
    "\n",
    "fireTsDF\n",
    " .select(\"Zipcode\",\"ResponseDelayedinMins\")        \n",
    " .where(year($\"IncidentDate\")===2018)\n",
    " .groupBy(\"Zipcode\")\n",
    " .avg(\"ResponseDelayedinMins\")\n",
    " .orderBy(desc(\"avg(ResponseDelayedinMins)\"))\n",
    " .show()"
   ]
  },
  {
   "cell_type": "code",
   "execution_count": 15,
   "id": "401ee149-5013-4f2c-90f2-3b548bad9e23",
   "metadata": {},
   "outputs": [
    {
     "name": "stdout",
     "output_type": "stream",
     "text": [
      "+------------------------+-----+\n",
      "|weekofyear(IncidentDate)|count|\n",
      "+------------------------+-----+\n",
      "|                      22|  259|\n",
      "|                      40|  255|\n",
      "|                      43|  250|\n",
      "|                      25|  249|\n",
      "|                       1|  246|\n",
      "|                      44|  244|\n",
      "|                      32|  243|\n",
      "|                      13|  243|\n",
      "|                      11|  240|\n",
      "|                       5|  236|\n",
      "|                      18|  236|\n",
      "|                      23|  235|\n",
      "|                      31|  234|\n",
      "|                       2|  234|\n",
      "|                      42|  234|\n",
      "|                      19|  233|\n",
      "|                       8|  232|\n",
      "|                      10|  232|\n",
      "|                      34|  232|\n",
      "|                      21|  231|\n",
      "+------------------------+-----+\n",
      "only showing top 20 rows\n",
      "\n"
     ]
    }
   ],
   "source": [
    "// Which week in the year in 2018 had the most fire calls?\n",
    "\n",
    "\n",
    "fireTsDF\n",
    " .select(weekofyear($\"IncidentDate\"))\n",
    " .where(year($\"IncidentDate\") === 2018)\n",
    " .groupBy(\"weekofyear(IncidentDate)\")\n",
    " .count()\n",
    " .orderBy(desc(\"count\"))\n",
    " .show()\n"
   ]
  },
  {
   "cell_type": "code",
   "execution_count": 16,
   "id": "d1ca012d-54de-4aed-bb60-164cb9a51873",
   "metadata": {},
   "outputs": [
    {
     "name": "stdout",
     "output_type": "stream",
     "text": [
      "+-------+-----+\n",
      "|Zipcode|count|\n",
      "+-------+-----+\n",
      "|  94109|14686|\n",
      "|  94115| 7812|\n",
      "|  94112| 8421|\n",
      "|  94127| 1881|\n",
      "|  94108| 4084|\n",
      "|  94121| 4555|\n",
      "|  94105| 4236|\n",
      "|   null|  142|\n",
      "|  94131| 3236|\n",
      "|  94116| 3933|\n",
      "|  94134| 5009|\n",
      "|  94124| 9236|\n",
      "|  94102|21840|\n",
      "|  94114| 5175|\n",
      "|  94107| 6941|\n",
      "|  94111| 2974|\n",
      "|  94103|20897|\n",
      "|  94117| 5804|\n",
      "|  94122| 6355|\n",
      "|  94110|14801|\n",
      "+-------+-----+\n",
      "only showing top 20 rows\n",
      "\n"
     ]
    }
   ],
   "source": [
    "// Is there a correlation between neighboorhood, zip code and number of fire calls ?\n",
    "\n",
    "fireTsDF\n",
    " .select($\"Zipcode\")\n",
    " .groupBy(\"Zipcode\")\n",
    " .count()\n",
    " .show()"
   ]
  },
  {
   "cell_type": "code",
   "execution_count": 19,
   "id": "74bca1e1-c8d1-4ddd-9ae8-90496edaf67c",
   "metadata": {},
   "outputs": [],
   "source": [
    "// How can we use Parquet files or SQL tables to stores this data and read it back?\n",
    "\n",
    "\n",
    "fireTsDF.write.parquet(\"C:/Users/alejandro.perez/Documents/Ejercicios Spark/Tema3 Learning Spark/Guardar7/fire.parquet\")\n",
    "\n"
   ]
  },
  {
   "cell_type": "code",
   "execution_count": 24,
   "id": "2b436150-f0f2-4f70-ac1e-6545fb90e5c1",
   "metadata": {},
   "outputs": [
    {
     "data": {
      "text/plain": [
       "fireDF2: org.apache.spark.sql.DataFrameReader = org.apache.spark.sql.DataFrameReader@ca19022\r\n"
      ]
     },
     "execution_count": 24,
     "metadata": {},
     "output_type": "execute_result"
    }
   ],
   "source": [
    "var fireDF2 = spark.read.schema(fireSchema)"
   ]
  },
  {
   "cell_type": "code",
   "execution_count": 26,
   "id": "1a33dbdd-746f-41a9-9742-629aede8058c",
   "metadata": {},
   "outputs": [
    {
     "data": {
      "text/plain": [
       "parqDF: org.apache.spark.sql.DataFrame = [CallNumber: int, UnitID: string ... 26 more fields]\r\n"
      ]
     },
     "execution_count": 26,
     "metadata": {},
     "output_type": "execute_result"
    }
   ],
   "source": [
    "\n",
    "val parqDF = spark.read.parquet(\"C:/Users/alejandro.perez/Documents/Ejercicios Spark/Tema3 Learning Spark/Guardar7/fire.parquet\")\n"
   ]
  },
  {
   "cell_type": "code",
   "execution_count": 27,
   "id": "5dec6b4b-ba18-409f-ae22-fd32bba586dd",
   "metadata": {},
   "outputs": [
    {
     "name": "stdout",
     "output_type": "stream",
     "text": [
      "+----------+------+--------------+-----------------+--------------------+--------------------+----+-------+---------+-----------+----+----------------+--------+-------------+-------+-------------+---------+--------+--------------------------+----------------------+------------------+--------------------+--------------------+--------------+---------------------+-------------------+-------------------+-------------------+\n",
      "|CallNumber|UnitID|IncidentNumber|         CallType|CallFinalDisposition|             Address|City|Zipcode|Battalion|StationArea| Box|OriginalPriority|Priority|FinalPriority|ALSUnit|CallTypeGroup|NumAlarms|UnitType|UnitSequenceInCallDispatch|FirePreventionDistrict|SupervisorDistrict|        Neighborhood|            Location|         RowID|ResponseDelayedinMins|       IncidentDate|        OnWatchDate|      AvailableDtTS|\n",
      "+----------+------+--------------+-----------------+--------------------+--------------------+----+-------+---------+-----------+----+----------------+--------+-------------+-------+-------------+---------+--------+--------------------------+----------------------+------------------+--------------------+--------------------+--------------+---------------------+-------------------+-------------------+-------------------+\n",
      "| 110660238|    60|      11021821| Medical Incident|                Fire|0 Block of BORICA ST|  SF|  94127|      B09|         19|8442|               3|       2|            2|   true|         null|        1|   MEDIC|                         1|                     9|                 7|  West of Twin Peaks|(37.7225922041408...|  110660238-60|                  2.9|2011-03-07 00:00:00|2011-03-07 00:00:00|2011-03-07 16:23:05|\n",
      "| 110660253|   B03|      11021831|           Alarms|                Fire|1000 Block of HOW...|  SF|  94103|      B03|         01|2252|               3|       3|            3|  false|         null|        1|   CHIEF|                         3|                     3|                 6|     South of Market|(37.7795675906982...| 110660253-B03|            2.3833334|2011-03-07 00:00:00|2011-03-07 00:00:00|2011-03-07 17:13:21|\n",
      "| 110660282|   E43|      11021856| Medical Incident|               Other| PERSIA AV/MADRID ST|  SF|  94112|      B09|         43|6134|               3|       3|            3|   true|         null|        1|  ENGINE|                         1|                     9|                11|           Excelsior|(37.7216187707613...| 110660282-E43|                 1.65|2011-03-07 00:00:00|2011-03-07 00:00:00|2011-03-07 18:55:52|\n",
      "| 110660322|    94|      11021888| Medical Incident|               Other|1100 Block of HOW...|  SF|  94103|      B03|         01|2314|               3|       3|            3|   true|         null|        1|   MEDIC|                         3|                     2|                 6|     South of Market|(37.7768521020734...|  110660322-94|            1.5666667|2011-03-07 00:00:00|2011-03-07 00:00:00|2011-03-07 20:49:25|\n",
      "| 110670051|   B09|      11021963|           Alarms|                Fire|5800 Block of MIS...|  SF|  94112|      B09|         33|6213|               3|       3|            3|  false|         null|        1|   CHIEF|                         3|                     9|                11|       Outer Mission|(37.709160030699,...| 110670051-B09|                  2.8|2011-03-08 00:00:00|2011-03-07 00:00:00|2011-03-08 07:36:00|\n",
      "| 110670076|   B06|      11021980|           Alarms|                Fire|3600 Block of 20T...|  SF|  94110|      B06|         07|5445|               3|       3|            3|  false|         null|        1|   CHIEF|                         2|                     6|                 8|             Mission|(37.7584863037287...| 110670076-B06|                  2.5|2011-03-08 00:00:00|2011-03-08 00:00:00|2011-03-08 08:52:16|\n",
      "| 110670077|   E44|      11021981|           Alarms|               Other|1700 Block of VIS...|  SF|  94134|      B09|         44|6263|               3|       3|            3|   true|         null|        1|  ENGINE|                         1|                     9|                10|        McLaren Park|(37.7162666820869...| 110670077-E44|            1.6166667|2011-03-08 00:00:00|2011-03-08 00:00:00|2011-03-08 09:15:07|\n",
      "| 110670082|    92|      11021988| Medical Incident|    Code 2 Transport|100 Block of GOLD...|  SF|  94102|      B02|         01|1546|               1|       1|            2|   true|         null|        1|   MEDIC|                         2|                     2|                 6|          Tenderloin|(37.7820224371777...|  110670082-92|            13.416667|2011-03-08 00:00:00|2011-03-08 00:00:00|2011-03-08 10:23:19|\n",
      "| 110670089|   E01|      11021993| Medical Incident|               Other|200 Block of EDDY ST|  SF|  94102|      B03|         01|1453|               3|       3|            3|   true|         null|        1|  ENGINE|                         1|                     3|                 6|          Tenderloin|(37.7840910361755...| 110670089-E01|                 3.55|2011-03-08 00:00:00|2011-03-08 00:00:00|2011-03-08 09:48:55|\n",
      "| 110670101|    84|      11021998| Medical Incident|    Code 2 Transport|CALL BOX: SAN JOS...|  SF|  94112|      B09|         15|8276|               2|       2|            2|   true|         null|        1|   MEDIC|                         1|                     9|                11|       Outer Mission|(37.7258249736518...|  110670101-84|                 4.55|2011-03-08 00:00:00|2011-03-08 00:00:00|2011-03-08 11:13:38|\n",
      "| 110670122|  AM06|      11022013| Medical Incident|    Unable to Locate|1100 Block of MAR...|  SF|  94103|      B02|         01|2316|               1|       1|            2|  false|         null|        1| PRIVATE|                         1|                     2|                 6|     South of Market|(37.7795310846627...|110670122-AM06|                  5.9|2011-03-08 00:00:00|2011-03-08 00:00:00|2011-03-08 11:16:46|\n",
      "| 110670124|   E44|      11022015|   Structure Fire|               Other|400 Block of BURR...|  SF|  94134|      B10|         42|0633|               3|       3|            3|   true|         null|        1|  ENGINE|                         1|                    10|                 9|             Portola|(37.7278769871167...| 110670124-E44|                  0.7|2011-03-08 00:00:00|2011-03-08 00:00:00|2011-03-08 11:25:06|\n",
      "| 110670144|    64|      11022031| Medical Incident|    Code 2 Transport|STOCKTON ST/PACIF...|  SF|  94133|      B01|         02|1332|               2|       2|            2|   true|         null|        1|   MEDIC|                         1|                     1|                 3|           Chinatown|(37.7967039027671...|  110670144-64|            6.4333334|2011-03-08 00:00:00|2011-03-08 00:00:00|2011-03-08 12:57:16|\n",
      "| 110670145|   E34|      11022033|Traffic Collision|               Other|CALIFORNIA ST/12T...|  SF|  94118|      B07|         31|7147|               3|       3|            3|  false|         null|        1|  ENGINE|                         6|                     7|                 1|      Inner Richmond|(37.7845244780935...| 110670145-E34|            3.3166666|2011-03-08 00:00:00|2011-03-08 00:00:00|2011-03-08 12:02:13|\n",
      "| 110670156|    89|      11022042| Medical Incident|            No Merit|100 Block of TURK ST|  SF|  94102|      B03|         01|1456|               1|       1|            2|   true|         null|        1|   MEDIC|                         1|                     3|                 6|          Tenderloin|(37.783163427134,...|  110670156-89|             5.483333|2011-03-08 00:00:00|2011-03-08 00:00:00|2011-03-08 13:06:42|\n",
      "| 110670162|   E17|      11022047| Medical Incident|               Other|200 Block of WILL...|  SF|  94124|      B10|         42|6474|               3|       3|            3|   true|         null|        1|  ENGINE|                         1|                    10|                10|Bayview Hunters P...|(37.7299346936044...| 110670162-E17|            2.4166667|2011-03-08 00:00:00|2011-03-08 00:00:00|2011-03-08 12:56:41|\n",
      "| 110670166|    54|      11022051| Medical Incident|    Code 2 Transport|3900 Block of 19T...|  SF|  94114|      B06|         06|5436|               3|       3|            3|   true|         null|        1|   MEDIC|                         2|                     6|                 8| Castro/Upper Market|(37.7595451487512...|  110670166-54|            2.3666666|2011-03-08 00:00:00|2011-03-08 00:00:00|2011-03-08 13:52:55|\n",
      "| 110670195|   E22|      11022073| Medical Incident|               Other|1200 Block of 12T...|  SF|  94122|      B08|         22|7346|               3|       3|            3|   true|         null|        1|  ENGINE|                         1|                     7|                 5|        Inner Sunset|(37.7648362657127...| 110670195-E22|             4.133333|2011-03-08 00:00:00|2011-03-08 00:00:00|2011-03-08 14:27:58|\n",
      "| 110670201|   T11|      11022078|           Alarms|               Other|3600 Block of 20T...|  SF|  94110|      B06|         07|5445|               3|       3|            3|  false|         null|        1|   TRUCK|                         3|                     6|                 8|             Mission|(37.7584863037287...| 110670201-T11|             4.233333|2011-03-08 00:00:00|2011-03-08 00:00:00|2011-03-08 14:27:26|\n",
      "| 110670235|   T14|      11022105| Medical Incident|               Other|500 Block of 27TH...|  SF|  94121|      B07|         14|7222|               3|       3|            3|  false|         null|        1|   TRUCK|                         1|                     7|                 1|      Outer Richmond|(37.7790279638161...| 110670235-T14|                  2.8|2011-03-08 00:00:00|2011-03-08 00:00:00|2011-03-08 16:07:26|\n",
      "+----------+------+--------------+-----------------+--------------------+--------------------+----+-------+---------+-----------+----+----------------+--------+-------------+-------+-------------+---------+--------+--------------------------+----------------------+------------------+--------------------+--------------------+--------------+---------------------+-------------------+-------------------+-------------------+\n",
      "only showing top 20 rows\n",
      "\n"
     ]
    }
   ],
   "source": [
    "parqDF.show()"
   ]
  }
 ],
 "metadata": {
  "kernelspec": {
   "display_name": "spylon-kernel",
   "language": "scala",
   "name": "spylon-kernel"
  },
  "language_info": {
   "codemirror_mode": "text/x-scala",
   "file_extension": ".scala",
   "help_links": [
    {
     "text": "MetaKernel Magics",
     "url": "https://metakernel.readthedocs.io/en/latest/source/README.html"
    }
   ],
   "mimetype": "text/x-scala",
   "name": "scala",
   "pygments_lexer": "scala",
   "version": "0.4.1"
  }
 },
 "nbformat": 4,
 "nbformat_minor": 5
}
