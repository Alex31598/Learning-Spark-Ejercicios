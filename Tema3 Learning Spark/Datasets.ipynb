{
 "cells": [
  {
   "cell_type": "code",
   "execution_count": 2,
   "id": "7fabe887-766a-434f-9f53-11b365dd35f8",
   "metadata": {},
   "outputs": [
    {
     "data": {
      "text/plain": [
       "import org.apache.spark.sql.types._\r\n",
       "import spark.implicits._\r\n",
       "import org.apache.spark.sql.functions._\r\n",
       "defined class DeviceIoTData\r\n"
      ]
     },
     "execution_count": 2,
     "metadata": {},
     "output_type": "execute_result"
    }
   ],
   "source": [
    "// In Scala it would be similar\n",
    "import org.apache.spark.sql.types._\n",
    "import spark.implicits._\n",
    "import org.apache.spark.sql.functions._\n",
    "\n",
    "\n",
    "case class DeviceIoTData (battery_level: Long, c02_level: Long,\n",
    "cca2: String, cca3: String, cn: String, device_id: Long,\n",
    "device_name: String, humidity: Long, ip: String, latitude: Double,\n",
    "lcd: String, longitude: Double, scale:String, temp: Long,\n",
    "timestamp: Long)\n"
   ]
  },
  {
   "cell_type": "code",
   "execution_count": 3,
   "id": "a451c73e-67bd-4a3d-81cd-03b62dde26f8",
   "metadata": {},
   "outputs": [
    {
     "data": {
      "text/plain": [
       "ds: org.apache.spark.sql.Dataset[DeviceIoTData] = [battery_level: bigint, c02_level: bigint ... 13 more fields]\r\n"
      ]
     },
     "execution_count": 3,
     "metadata": {},
     "output_type": "execute_result"
    }
   ],
   "source": [
    "// In Scala\n",
    "val ds = spark.read\n",
    ".json(\"C:/Users/alejandro.perez/Documents/LearningSparkV2-master/databricks-datasets/learning-spark-v2/iot-devices/iot_devices.json\")\n",
    ".as[DeviceIoTData]\n"
   ]
  },
  {
   "cell_type": "code",
   "execution_count": 4,
   "id": "19ff2417-ec0c-4a05-aef8-37b9c5123aca",
   "metadata": {},
   "outputs": [
    {
     "name": "stdout",
     "output_type": "stream",
     "text": [
      "+-------------+---------+----+----+-------------+---------+---------------------+--------+-------------+--------+------+---------+-------+----+-------------+\n",
      "|battery_level|c02_level|cca2|cca3|cn           |device_id|device_name          |humidity|ip           |latitude|lcd   |longitude|scale  |temp|timestamp    |\n",
      "+-------------+---------+----+----+-------------+---------+---------------------+--------+-------------+--------+------+---------+-------+----+-------------+\n",
      "|8            |868      |US  |USA |United States|1        |meter-gauge-1xbYRYcj |51      |68.161.225.1 |38.0    |green |-97.0    |Celsius|34  |1458444054093|\n",
      "|7            |1473     |NO  |NOR |Norway       |2        |sensor-pad-2n2Pea    |70      |213.161.254.1|62.47   |red   |6.15     |Celsius|11  |1458444054119|\n",
      "|2            |1556     |IT  |ITA |Italy        |3        |device-mac-36TWSKiT  |44      |88.36.5.1    |42.83   |red   |12.83    |Celsius|19  |1458444054120|\n",
      "|6            |1080     |US  |USA |United States|4        |sensor-pad-4mzWkz    |32      |66.39.173.154|44.06   |yellow|-121.32  |Celsius|28  |1458444054121|\n",
      "|4            |931      |PH  |PHL |Philippines  |5        |therm-stick-5gimpUrBB|62      |203.82.41.9  |14.58   |green |120.97   |Celsius|25  |1458444054122|\n",
      "+-------------+---------+----+----+-------------+---------+---------------------+--------+-------------+--------+------+---------+-------+----+-------------+\n",
      "only showing top 5 rows\n",
      "\n"
     ]
    }
   ],
   "source": [
    "ds.show(5, false)\n"
   ]
  },
  {
   "cell_type": "code",
   "execution_count": 6,
   "id": "7ff1a814-0219-4c8a-b4e4-5c6e56625ece",
   "metadata": {},
   "outputs": [
    {
     "name": "stdout",
     "output_type": "stream",
     "text": [
      "+-------------+---------+----+----+-------------+---------+----------------------+--------+---------------+--------+------+---------+-------+----+-------------+\n",
      "|battery_level|c02_level|cca2|cca3|cn           |device_id|device_name           |humidity|ip             |latitude|lcd   |longitude|scale  |temp|timestamp    |\n",
      "+-------------+---------+----+----+-------------+---------+----------------------+--------+---------------+--------+------+---------+-------+----+-------------+\n",
      "|0            |1466     |US  |USA |United States|17       |meter-gauge-17zb8Fghhl|98      |161.188.212.254|39.95   |red   |-75.16   |Celsius|31  |1458444054129|\n",
      "|9            |986      |FR  |FRA |France       |48       |sensor-pad-48jt4eL    |97      |90.37.208.1    |43.88   |green |4.9      |Celsius|31  |1458444054151|\n",
      "|8            |1436     |US  |USA |United States|54       |sensor-pad-5410CWPrNb6|73      |204.15.64.249  |32.89   |red   |-117.13  |Celsius|34  |1458444054155|\n",
      "|4            |1090     |US  |USA |United States|63       |device-mac-63GL4xSaZbj|91      |66.198.198.1   |44.56   |yellow|-105.67  |Celsius|31  |1458444054162|\n",
      "|4            |1072     |PH  |PHL |Philippines  |81       |device-mac-81nsKomrRe |90      |222.127.71.1   |14.55   |yellow|121.04   |Celsius|31  |1458444054172|\n",
      "+-------------+---------+----+----+-------------+---------+----------------------+--------+---------------+--------+------+---------+-------+----+-------------+\n",
      "only showing top 5 rows\n",
      "\n"
     ]
    },
    {
     "data": {
      "text/plain": [
       "filterTempDS: org.apache.spark.sql.Dataset[DeviceIoTData] = [battery_level: bigint, c02_level: bigint ... 13 more fields]\r\n"
      ]
     },
     "execution_count": 6,
     "metadata": {},
     "output_type": "execute_result"
    }
   ],
   "source": [
    "val filterTempDS = ds.filter($\"temp\" > 30 && $\"humidity\" > 70)\n",
    "\n",
    "filterTempDS.show(5, false)"
   ]
  },
  {
   "cell_type": "code",
   "execution_count": 33,
   "id": "2bee323a-42b4-414e-a74f-272e80604651",
   "metadata": {},
   "outputs": [
    {
     "name": "stdout",
     "output_type": "stream",
     "text": [
      "+-------------+---------+----+----+-------------+---------+----------------------+--------+---------------+--------+------+---------+-------+----+-------------+\n",
      "|battery_level|c02_level|cca2|cca3|cn           |device_id|device_name           |humidity|ip             |latitude|lcd   |longitude|scale  |temp|timestamp    |\n",
      "+-------------+---------+----+----+-------------+---------+----------------------+--------+---------------+--------+------+---------+-------+----+-------------+\n",
      "|0            |1466     |US  |USA |United States|17       |meter-gauge-17zb8Fghhl|98      |161.188.212.254|39.95   |red   |-75.16   |Celsius|31  |1458444054129|\n",
      "|9            |986      |FR  |FRA |France       |48       |sensor-pad-48jt4eL    |97      |90.37.208.1    |43.88   |green |4.9      |Celsius|31  |1458444054151|\n",
      "|8            |1436     |US  |USA |United States|54       |sensor-pad-5410CWPrNb6|73      |204.15.64.249  |32.89   |red   |-117.13  |Celsius|34  |1458444054155|\n",
      "|4            |1090     |US  |USA |United States|63       |device-mac-63GL4xSaZbj|91      |66.198.198.1   |44.56   |yellow|-105.67  |Celsius|31  |1458444054162|\n",
      "|4            |1072     |PH  |PHL |Philippines  |81       |device-mac-81nsKomrRe |90      |222.127.71.1   |14.55   |yellow|121.04   |Celsius|31  |1458444054172|\n",
      "+-------------+---------+----+----+-------------+---------+----------------------+--------+---------------+--------+------+---------+-------+----+-------------+\n",
      "only showing top 5 rows\n",
      "\n"
     ]
    },
    {
     "data": {
      "text/plain": [
       "filterTempDS2: org.apache.spark.sql.Dataset[DeviceIoTData] = [battery_level: bigint, c02_level: bigint ... 13 more fields]\r\n"
      ]
     },
     "execution_count": 33,
     "metadata": {},
     "output_type": "execute_result"
    }
   ],
   "source": [
    "// In Scala\n",
    "\n",
    "val filterTempDS2 = ds.filter(ds(\"temp\") > 30 && ds(\"humidity\") > 70)\n",
    "filterTempDS2.show(5, false)"
   ]
  },
  {
   "cell_type": "code",
   "execution_count": 34,
   "id": "dde0c704-f011-4666-a542-b04747bcebf4",
   "metadata": {},
   "outputs": [
    {
     "name": "stdout",
     "output_type": "stream",
     "text": [
      "+-------------+---------+----+----+-------------+---------+----------------------+--------+---------------+--------+------+---------+-------+----+-------------+\n",
      "|battery_level|c02_level|cca2|cca3|cn           |device_id|device_name           |humidity|ip             |latitude|lcd   |longitude|scale  |temp|timestamp    |\n",
      "+-------------+---------+----+----+-------------+---------+----------------------+--------+---------------+--------+------+---------+-------+----+-------------+\n",
      "|0            |1466     |US  |USA |United States|17       |meter-gauge-17zb8Fghhl|98      |161.188.212.254|39.95   |red   |-75.16   |Celsius|31  |1458444054129|\n",
      "|9            |986      |FR  |FRA |France       |48       |sensor-pad-48jt4eL    |97      |90.37.208.1    |43.88   |green |4.9      |Celsius|31  |1458444054151|\n",
      "|8            |1436     |US  |USA |United States|54       |sensor-pad-5410CWPrNb6|73      |204.15.64.249  |32.89   |red   |-117.13  |Celsius|34  |1458444054155|\n",
      "|4            |1090     |US  |USA |United States|63       |device-mac-63GL4xSaZbj|91      |66.198.198.1   |44.56   |yellow|-105.67  |Celsius|31  |1458444054162|\n",
      "|4            |1072     |PH  |PHL |Philippines  |81       |device-mac-81nsKomrRe |90      |222.127.71.1   |14.55   |yellow|121.04   |Celsius|31  |1458444054172|\n",
      "+-------------+---------+----+----+-------------+---------+----------------------+--------+---------------+--------+------+---------+-------+----+-------------+\n",
      "only showing top 5 rows\n",
      "\n"
     ]
    },
    {
     "data": {
      "text/plain": [
       "filterTempDS3: org.apache.spark.sql.Dataset[DeviceIoTData] = [battery_level: bigint, c02_level: bigint ... 13 more fields]\r\n"
      ]
     },
     "execution_count": 34,
     "metadata": {},
     "output_type": "execute_result"
    }
   ],
   "source": [
    "\n",
    "val filterTempDS3 = ds.where($\"temp\" > 30 && $\"humidity\" > 70)\n",
    "filterTempDS3.show(5, false)"
   ]
  },
  {
   "cell_type": "code",
   "execution_count": 35,
   "id": "004b9cac-c615-464b-be2c-70815ec1244b",
   "metadata": {},
   "outputs": [
    {
     "ename": "<console>",
     "evalue": "19: error: Unable to find encoder for type (Long, String, Long, String). An implicit Encoder[(Long, String, Long, String)] is needed to store (Long, String, Long, String) instances in a Dataset. Primitive types (Int, String, etc) and Product types (case classes) are supported by importing spark.implicits._  Support for serializing other types will be added in future releases.\r",
     "output_type": "error",
     "traceback": [
      "<console>:19: error: Unable to find encoder for type (Long, String, Long, String). An implicit Encoder[(Long, String, Long, String)] is needed to store (Long, String, Long, String) instances in a Dataset. Primitive types (Int, String, etc) and Product types (case classes) are supported by importing spark.implicits._  Support for serializing other types will be added in future releases.\r",
      "        .map(d => (d.temp, d.device_name, d.device_id, d.cca3))\r",
      "            ^\r",
      ""
     ]
    }
   ],
   "source": [
    "// In Scala\n",
    "case class DeviceTempByCountry(temp: Long, device_name: String, device_id: Long,\n",
    " cca3: String)\n",
    "val dsTemp = ds\n",
    " .filter(d => {d.temp > 25})\n",
    " .map(d => (d.temp, d.device_name, d.device_id, d.cca3))\n",
    " .toDF(\"temp\", \"device_name\", \"device_id\", \"cca3\")\n",
    " .as[DeviceTempByCountry]\n",
    "dsTemp.show(5, false)\n",
    "\n"
   ]
  },
  {
   "cell_type": "code",
   "execution_count": 36,
   "id": "2798c76f-b4bc-4481-802a-0474ec46f990",
   "metadata": {},
   "outputs": [
    {
     "ename": "<console>",
     "evalue": "54: error: not found: value dsTemp\r",
     "output_type": "error",
     "traceback": [
      "<console>:54: error: not found: value dsTemp\r",
      "       val device = dsTemp.first()\r",
      "                    ^\r",
      ""
     ]
    }
   ],
   "source": [
    "val device = dsTemp.first()\n",
    "println(device)\n"
   ]
  },
  {
   "cell_type": "code",
   "execution_count": null,
   "id": "55bb72a4-a0dc-40fa-90e1-11df7b9be5e4",
   "metadata": {},
   "outputs": [],
   "source": []
  }
 ],
 "metadata": {
  "kernelspec": {
   "display_name": "spylon-kernel",
   "language": "scala",
   "name": "spylon-kernel"
  },
  "language_info": {
   "codemirror_mode": "text/x-scala",
   "file_extension": ".scala",
   "help_links": [
    {
     "text": "MetaKernel Magics",
     "url": "https://metakernel.readthedocs.io/en/latest/source/README.html"
    }
   ],
   "mimetype": "text/x-scala",
   "name": "scala",
   "pygments_lexer": "scala",
   "version": "0.4.1"
  }
 },
 "nbformat": 4,
 "nbformat_minor": 5
}
