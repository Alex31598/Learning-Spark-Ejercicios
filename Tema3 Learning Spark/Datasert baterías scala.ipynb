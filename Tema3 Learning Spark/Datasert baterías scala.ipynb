{
 "cells": [
  {
   "cell_type": "markdown",
   "id": "c793a159-2c1f-4eac-8d0c-b159f94ede43",
   "metadata": {},
   "source": [
    "# 1.- Realizar todos los ejercicios propuestos de libro"
   ]
  },
  {
   "cell_type": "code",
   "execution_count": 1,
   "id": "62727bea-9c45-4006-b29a-a929e2b6b102",
   "metadata": {},
   "outputs": [
    {
     "data": {
      "text/plain": [
       "Intitializing Scala interpreter ..."
      ]
     },
     "metadata": {},
     "output_type": "display_data"
    },
    {
     "data": {
      "text/plain": [
       "Spark Web UI available at http://L2202039.bosonit.local:4042\n",
       "SparkContext available as 'sc' (version = 3.1.3, master = local[*], app id = local-1652175854574)\n",
       "SparkSession available as 'spark'\n"
      ]
     },
     "metadata": {},
     "output_type": "display_data"
    },
    {
     "data": {
      "text/plain": [
       "import org.apache.log4j.Level\r\n",
       "import org.apache.spark.sql.{DataFrame, SaveMode, SparkSession}\r\n",
       "spark: org.apache.spark.sql.SparkSession = org.apache.spark.sql.SparkSession@228d301b\r\n"
      ]
     },
     "execution_count": 1,
     "metadata": {},
     "output_type": "execute_result"
    }
   ],
   "source": [
    "import org.apache.log4j.Level\n",
    "import org.apache.spark.sql.{DataFrame, SaveMode, SparkSession}\n",
    "\n",
    "val spark = SparkSession\n",
    " .builder()\n",
    " .appName(\"Capitulo2\")\n",
    " .getOrCreate()"
   ]
  },
  {
   "cell_type": "code",
   "execution_count": 4,
   "id": "c547ad9a-e310-4034-b222-5579e6265b94",
   "metadata": {},
   "outputs": [
    {
     "data": {
      "text/plain": [
       "mnmFile: String = C:/Users/alejandro.perez/Documents/LearningSparkV2-master/databricks-datasets/learning-spark-v2/iot-devices/iot_devices.json\r\n",
       "df: org.apache.spark.sql.DataFrame = [battery_level: bigint, c02_level: bigint ... 13 more fields]\r\n"
      ]
     },
     "execution_count": 4,
     "metadata": {},
     "output_type": "execute_result"
    }
   ],
   "source": [
    "// Get the M&M data set filename\n",
    "val mnmFile = \"C:/Users/alejandro.perez/Documents/LearningSparkV2-master/databricks-datasets/learning-spark-v2/iot-devices/iot_devices.json\"\n",
    "\n",
    "\n",
    "\n",
    "// Read the file into a Spark DataFrame\n",
    "val df = spark.read.format(\"json\")\n",
    " .load(mnmFile)\n",
    "// Aggregate counts of all colors and groupBy() State and Color\n",
    "// orderBy() in descending order"
   ]
  },
  {
   "cell_type": "code",
   "execution_count": 6,
   "id": "ad10d59e-9f18-4478-ae5f-ce261d5df901",
   "metadata": {},
   "outputs": [
    {
     "name": "stdout",
     "output_type": "stream",
     "text": [
      "root\n",
      " |-- battery_level: long (nullable = true)\n",
      " |-- c02_level: long (nullable = true)\n",
      " |-- cca2: string (nullable = true)\n",
      " |-- cca3: string (nullable = true)\n",
      " |-- cn: string (nullable = true)\n",
      " |-- device_id: long (nullable = true)\n",
      " |-- device_name: string (nullable = true)\n",
      " |-- humidity: long (nullable = true)\n",
      " |-- ip: string (nullable = true)\n",
      " |-- latitude: double (nullable = true)\n",
      " |-- lcd: string (nullable = true)\n",
      " |-- longitude: double (nullable = true)\n",
      " |-- scale: string (nullable = true)\n",
      " |-- temp: long (nullable = true)\n",
      " |-- timestamp: long (nullable = true)\n",
      "\n",
      "+-------------+---------+----+----+-------------+---------+------------------------+--------+---------------+--------+------+---------+-------+----+-------------+\n",
      "|battery_level|c02_level|cca2|cca3|cn           |device_id|device_name             |humidity|ip             |latitude|lcd   |longitude|scale  |temp|timestamp    |\n",
      "+-------------+---------+----+----+-------------+---------+------------------------+--------+---------------+--------+------+---------+-------+----+-------------+\n",
      "|8            |868      |US  |USA |United States|1        |meter-gauge-1xbYRYcj    |51      |68.161.225.1   |38.0    |green |-97.0    |Celsius|34  |1458444054093|\n",
      "|7            |1473     |NO  |NOR |Norway       |2        |sensor-pad-2n2Pea       |70      |213.161.254.1  |62.47   |red   |6.15     |Celsius|11  |1458444054119|\n",
      "|2            |1556     |IT  |ITA |Italy        |3        |device-mac-36TWSKiT     |44      |88.36.5.1      |42.83   |red   |12.83    |Celsius|19  |1458444054120|\n",
      "|6            |1080     |US  |USA |United States|4        |sensor-pad-4mzWkz       |32      |66.39.173.154  |44.06   |yellow|-121.32  |Celsius|28  |1458444054121|\n",
      "|4            |931      |PH  |PHL |Philippines  |5        |therm-stick-5gimpUrBB   |62      |203.82.41.9    |14.58   |green |120.97   |Celsius|25  |1458444054122|\n",
      "|3            |1210     |US  |USA |United States|6        |sensor-pad-6al7RTAobR   |51      |204.116.105.67 |35.93   |yellow|-85.46   |Celsius|27  |1458444054122|\n",
      "|3            |1129     |CN  |CHN |China        |7        |meter-gauge-7GeDoanM    |26      |220.173.179.1  |22.82   |yellow|108.32   |Celsius|18  |1458444054123|\n",
      "|0            |1536     |JP  |JPN |Japan        |8        |sensor-pad-8xUD6pzsQI   |35      |210.173.177.1  |35.69   |red   |139.69   |Celsius|27  |1458444054123|\n",
      "|3            |807      |JP  |JPN |Japan        |9        |device-mac-9GcjZ2pw     |85      |118.23.68.227  |35.69   |green |139.69   |Celsius|13  |1458444054124|\n",
      "|7            |1470     |US  |USA |United States|10       |sensor-pad-10BsywSYUF   |56      |208.109.163.218|33.61   |red   |-111.89  |Celsius|26  |1458444054125|\n",
      "|3            |1544     |IT  |ITA |Italy        |11       |meter-gauge-11dlMTZty   |85      |88.213.191.34  |42.83   |red   |12.83    |Celsius|16  |1458444054125|\n",
      "|0            |1260     |US  |USA |United States|12       |sensor-pad-12Y2kIm0o    |92      |68.28.91.22    |38.0    |yellow|-97.0    |Celsius|12  |1458444054126|\n",
      "|6            |1007     |IN  |IND |India        |13       |meter-gauge-13GrojanSGBz|92      |59.144.114.250 |28.6    |yellow|77.2     |Celsius|13  |1458444054127|\n",
      "|1            |1346     |NO  |NOR |Norway       |14       |sensor-pad-14QL93sBR0j  |90      |193.156.90.200 |59.95   |yellow|10.75    |Celsius|16  |1458444054127|\n",
      "|9            |1259     |US  |USA |United States|15       |device-mac-15se6mZ      |70      |67.185.72.1    |47.41   |yellow|-122.0   |Celsius|13  |1458444054128|\n",
      "|4            |1425     |US  |USA |United States|16       |sensor-pad-16aXmIJZtdO  |53      |68.85.85.106   |38.0    |red   |-97.0    |Celsius|15  |1458444054128|\n",
      "|0            |1466     |US  |USA |United States|17       |meter-gauge-17zb8Fghhl  |98      |161.188.212.254|39.95   |red   |-75.16   |Celsius|31  |1458444054129|\n",
      "|4            |1096     |CN  |CHN |China        |18       |sensor-pad-18XULN9Xv    |25      |221.3.128.242  |25.04   |yellow|102.72   |Celsius|31  |1458444054130|\n",
      "|9            |1531     |US  |USA |United States|19       |meter-gauge-19eg1BpfCO  |75      |64.124.180.215 |38.0    |red   |-97.0    |Celsius|29  |1458444054130|\n",
      "|7            |1155     |US  |USA |United States|20       |sensor-pad-20gFNfBgqr   |33      |66.153.162.66  |33.94   |yellow|-78.92   |Celsius|10  |1458444054131|\n",
      "+-------------+---------+----+----+-------------+---------+------------------------+--------+---------------+--------+------+---------+-------+----+-------------+\n",
      "only showing top 20 rows\n",
      "\n"
     ]
    }
   ],
   "source": [
    "df.printSchema()\n",
    "df.show(truncate = false)"
   ]
  },
  {
   "cell_type": "markdown",
   "id": "3cab599f-4ffc-42cd-8d84-5d1fb0c16907",
   "metadata": {},
   "source": [
    "# Ejercicios página 74"
   ]
  },
  {
   "cell_type": "markdown",
   "id": "be960e7b-4f36-4813-a992-7007335e7f8c",
   "metadata": {},
   "source": [
    "### Detect failing devices with battery levels below a threshold"
   ]
  },
  {
   "cell_type": "code",
   "execution_count": 9,
   "id": "410f42ba-5bb0-4119-95c1-e4ada1a18180",
   "metadata": {},
   "outputs": [
    {
     "name": "stdout",
     "output_type": "stream",
     "text": [
      "+-------------+---------+----+----+-----------------+---------+-----------------------+--------+---------------+--------+------+---------+-------+----+-------------+\n",
      "|battery_level|c02_level|cca2|cca3|cn               |device_id|device_name            |humidity|ip             |latitude|lcd   |longitude|scale  |temp|timestamp    |\n",
      "+-------------+---------+----+----+-----------------+---------+-----------------------+--------+---------------+--------+------+---------+-------+----+-------------+\n",
      "|2            |1556     |IT  |ITA |Italy            |3        |device-mac-36TWSKiT    |44      |88.36.5.1      |42.83   |red   |12.83    |Celsius|19  |1458444054120|\n",
      "|4            |931      |PH  |PHL |Philippines      |5        |therm-stick-5gimpUrBB  |62      |203.82.41.9    |14.58   |green |120.97   |Celsius|25  |1458444054122|\n",
      "|3            |1210     |US  |USA |United States    |6        |sensor-pad-6al7RTAobR  |51      |204.116.105.67 |35.93   |yellow|-85.46   |Celsius|27  |1458444054122|\n",
      "|3            |1129     |CN  |CHN |China            |7        |meter-gauge-7GeDoanM   |26      |220.173.179.1  |22.82   |yellow|108.32   |Celsius|18  |1458444054123|\n",
      "|0            |1536     |JP  |JPN |Japan            |8        |sensor-pad-8xUD6pzsQI  |35      |210.173.177.1  |35.69   |red   |139.69   |Celsius|27  |1458444054123|\n",
      "|3            |807      |JP  |JPN |Japan            |9        |device-mac-9GcjZ2pw    |85      |118.23.68.227  |35.69   |green |139.69   |Celsius|13  |1458444054124|\n",
      "|3            |1544     |IT  |ITA |Italy            |11       |meter-gauge-11dlMTZty  |85      |88.213.191.34  |42.83   |red   |12.83    |Celsius|16  |1458444054125|\n",
      "|0            |1260     |US  |USA |United States    |12       |sensor-pad-12Y2kIm0o   |92      |68.28.91.22    |38.0    |yellow|-97.0    |Celsius|12  |1458444054126|\n",
      "|1            |1346     |NO  |NOR |Norway           |14       |sensor-pad-14QL93sBR0j |90      |193.156.90.200 |59.95   |yellow|10.75    |Celsius|16  |1458444054127|\n",
      "|4            |1425     |US  |USA |United States    |16       |sensor-pad-16aXmIJZtdO |53      |68.85.85.106   |38.0    |red   |-97.0    |Celsius|15  |1458444054128|\n",
      "|0            |1466     |US  |USA |United States    |17       |meter-gauge-17zb8Fghhl |98      |161.188.212.254|39.95   |red   |-75.16   |Celsius|31  |1458444054129|\n",
      "|4            |1096     |CN  |CHN |China            |18       |sensor-pad-18XULN9Xv   |25      |221.3.128.242  |25.04   |yellow|102.72   |Celsius|31  |1458444054130|\n",
      "|4            |880      |US  |USA |United States    |25       |therm-stick-25kK6VyzIFB|78      |24.154.45.90   |41.1    |green |-80.76   |Celsius|27  |1458444054134|\n",
      "|3            |1502     |KR  |KOR |Republic of Korea|28       |sensor-pad-28Tsudcoikw |64      |211.238.224.77 |37.29   |red   |127.01   |Celsius|25  |1458444054136|\n",
      "|3            |835      |RU  |RUS |Russia           |33       |device-mac-33B94GfPzi  |30      |178.23.147.134 |55.75   |green |37.62    |Celsius|15  |1458444054139|\n",
      "|1            |1305     |CY  |CYP |Cyprus           |36       |sensor-pad-36VQv8fnEg  |47      |213.7.14.1     |35.0    |yellow|33.0     |Celsius|24  |1458444054141|\n",
      "|2            |908      |CN  |CHN |China            |39       |device-mac-39iklYVtvBT |84      |218.7.15.1     |45.75   |green |126.65   |Celsius|17  |1458444054144|\n",
      "|2            |1224     |FR  |FRA |France           |40       |sensor-pad-40NjeMqS    |27      |188.7.9.1      |49.17   |yellow|6.19     |Celsius|34  |1458444054145|\n",
      "|2            |913      |ES  |ESP |Spain            |43       |meter-gauge-43RYonsvaW |39      |80.81.64.142   |40.4    |green |-3.68    |Celsius|12  |1458444054148|\n",
      "|0            |917      |DE  |DEU |Germany          |44       |sensor-pad-448DeWGL    |63      |62.128.16.74   |49.46   |green |11.1     |Celsius|27  |1458444054149|\n",
      "+-------------+---------+----+----+-----------------+---------+-----------------------+--------+---------------+--------+------+---------+-------+----+-------------+\n",
      "only showing top 20 rows\n",
      "\n"
     ]
    },
    {
     "data": {
      "text/plain": [
       "import org.apache.spark.sql.types.IntegerType\r\n",
       "batteryFilter: org.apache.spark.sql.Dataset[org.apache.spark.sql.Row] = [battery_level: int, c02_level: bigint ... 13 more fields]\r\n"
      ]
     },
     "execution_count": 9,
     "metadata": {},
     "output_type": "execute_result"
    }
   ],
   "source": [
    "import org.apache.spark.sql.types.IntegerType\n",
    "\n",
    "val batteryFilter = df.withColumn(\"battery_level\", col(\"battery_level\").cast(IntegerType) )\n",
    "                 .where(col(\"battery_level\")<5)\n",
    "\n",
    "batteryFilter.show(truncate= false)"
   ]
  },
  {
   "cell_type": "markdown",
   "id": "d6892097-95b7-4664-84e0-4ef2a1b606aa",
   "metadata": {},
   "source": [
    "### Identify offending countries with high levels of CO2 emissions"
   ]
  },
  {
   "cell_type": "code",
   "execution_count": 13,
   "id": "80eb94bb-3515-413c-b07e-7ce0dd633fb2",
   "metadata": {},
   "outputs": [
    {
     "name": "stdout",
     "output_type": "stream",
     "text": [
      "+---------+------------------+-------------+----+\n",
      "|C02_level|mediaC02_temp     |cn           |temp|\n",
      "+---------+------------------+-------------+----+\n",
      "|1470     |1197.9663077897403|United States|26  |\n",
      "|1399     |1197.9663077897403|United States|26  |\n",
      "|1553     |1197.9663077897403|Ecuador      |26  |\n",
      "|1360     |1197.9663077897403|United States|26  |\n",
      "|1477     |1197.9663077897403|China        |26  |\n",
      "|1565     |1197.9663077897403|United States|26  |\n",
      "|1556     |1197.9663077897403|Monaco       |26  |\n",
      "|1372     |1197.9663077897403|United States|26  |\n",
      "|1533     |1197.9663077897403|United States|26  |\n",
      "|1370     |1197.9663077897403|United States|26  |\n",
      "|1399     |1197.9663077897403|United States|26  |\n",
      "|1505     |1197.9663077897403|Russia       |26  |\n",
      "|1545     |1197.9663077897403|United States|26  |\n",
      "|1525     |1197.9663077897403|Ireland      |26  |\n",
      "|1261     |1197.9663077897403|Japan        |26  |\n",
      "|1227     |1197.9663077897403|United States|26  |\n",
      "|1316     |1197.9663077897403|United States|26  |\n",
      "|1254     |1197.9663077897403|China        |26  |\n",
      "|1433     |1197.9663077897403|United States|26  |\n",
      "|1413     |1197.9663077897403|United States|26  |\n",
      "+---------+------------------+-------------+----+\n",
      "only showing top 20 rows\n",
      "\n"
     ]
    },
    {
     "data": {
      "text/plain": [
       "import org.apache.spark.sql.expressions.Window\r\n",
       "w: org.apache.spark.sql.expressions.WindowSpec = org.apache.spark.sql.expressions.WindowSpec@1240b87d\r\n",
       "highC02: org.apache.spark.sql.DataFrame = [C02_level: int, mediaC02_temp: double ... 2 more fields]\r\n"
      ]
     },
     "execution_count": 13,
     "metadata": {},
     "output_type": "execute_result"
    }
   ],
   "source": [
    "import org.apache.spark.sql.expressions.Window\n",
    "\n",
    "val w = Window.partitionBy(\"temp\")\n",
    "\n",
    "val highC02 = df.withColumn(\"c02_level\", col(\"c02_level\").cast(IntegerType))\n",
    "            .withColumn(\"mediaC02_temp\", mean(\"c02_level\").over(w))\n",
    "            .where(col(\"c02_level\") > col(\"mediaC02_temp\"))\n",
    "            .select(col(\"C02_level\"), col(\"mediaC02_temp\"), col(\"cn\"), col(\"temp\"))\n",
    "\n",
    "highC02.show(truncate= false)"
   ]
  },
  {
   "cell_type": "markdown",
   "id": "dde47791-e87f-4845-b173-b10f9fc98c51",
   "metadata": {},
   "source": [
    "### Compute the min and max values for temperature, battery level, C02 and humidity"
   ]
  },
  {
   "cell_type": "code",
   "execution_count": 16,
   "id": "e8694595-0681-4689-bffc-5905f389f20a",
   "metadata": {},
   "outputs": [
    {
     "name": "stdout",
     "output_type": "stream",
     "text": [
      "+------------------------------+------+------+-------+------+------+------+-------+------+\n",
      "|cn                            |MinC02|minBat|minTemp|minHum|MaxC02|maxBat|maxTemp|maxHum|\n",
      "+------------------------------+------+------+-------+------+------+------+-------+------+\n",
      "|Russia                        |800   |0     |10     |25    |1599  |9     |34     |99    |\n",
      "|Paraguay                      |836   |0     |10     |27    |1580  |9     |33     |98    |\n",
      "|Anguilla                      |865   |0     |23     |26    |1398  |9     |34     |83    |\n",
      "|Macao                         |831   |0     |10     |25    |1592  |9     |34     |98    |\n",
      "|U.S. Virgin Islands           |819   |0     |10     |25    |1591  |9     |34     |99    |\n",
      "|Yemen                         |817   |0     |10     |28    |1427  |9     |32     |95    |\n",
      "|British Indian Ocean Territory|852   |7     |25     |54    |1560  |7     |27     |76    |\n",
      "|Senegal                       |802   |1     |11     |25    |1589  |9     |34     |94    |\n",
      "|Sweden                        |800   |0     |10     |25    |1599  |9     |34     |99    |\n",
      "|Republic of Korea             |800   |0     |10     |25    |1599  |9     |34     |99    |\n",
      "|Guyana                        |843   |2     |14     |25    |1262  |5     |22     |94    |\n",
      "|Philippines                   |803   |0     |10     |25    |1599  |9     |34     |99    |\n",
      "|Jersey                        |808   |0     |11     |25    |1597  |9     |33     |98    |\n",
      "|Tonga                         |1323  |2     |16     |25    |1323  |2     |16     |25    |\n",
      "|Singapore                     |800   |0     |10     |25    |1597  |9     |34     |99    |\n",
      "|Malaysia                      |803   |0     |10     |25    |1599  |9     |34     |99    |\n",
      "|Fiji                          |876   |0     |14     |30    |1533  |9     |33     |96    |\n",
      "|Turkey                        |802   |0     |10     |25    |1599  |9     |34     |99    |\n",
      "|Malawi                        |803   |0     |17     |28    |1399  |9     |34     |93    |\n",
      "|Åland                         |871   |0     |10     |27    |1593  |9     |34     |99    |\n",
      "+------------------------------+------+------+-------+------+------+------+-------+------+\n",
      "only showing top 20 rows\n",
      "\n"
     ]
    },
    {
     "data": {
      "text/plain": [
       "minMax: org.apache.spark.sql.DataFrame = [cn: string, MinC02: int ... 7 more fields]\r\n"
      ]
     },
     "execution_count": 16,
     "metadata": {},
     "output_type": "execute_result"
    }
   ],
   "source": [
    "val minMax = df.withColumn(\"c02_level\", col(\"c02_level\").cast(IntegerType))\n",
    "            .withColumn(\"temp\", col(\"temp\").cast(IntegerType))\n",
    "            .withColumn(\"battery_level\", col(\"battery_level\").cast(IntegerType))\n",
    "            .withColumn(\"humidity\", col(\"humidity\").cast(IntegerType))\n",
    "            .groupBy(\"cn\")\n",
    "            .agg(min(col(\"c02_level\")).alias(\"MinC02\"), min(col(\"battery_level\")).alias(\"minBat\"), min(col(\"temp\")).alias(\"minTemp\"), min(col(\"humidity\")).alias(\"minHum\"), \n",
    "                 max(col(\"c02_level\")).alias(\"MaxC02\"), max(col(\"battery_level\")).alias(\"maxBat\"), max(col(\"temp\")).alias(\"maxTemp\"), max(col(\"humidity\")).alias(\"maxHum\"))\n",
    "\n",
    "minMax.show(truncate= false)"
   ]
  },
  {
   "cell_type": "markdown",
   "id": "32ffe964-c6f8-4e33-b725-968811bee80d",
   "metadata": {},
   "source": [
    "# 2.- Leer el CSV del ejemplo del cap2 y obtener la estructura del schema dado por defecto."
   ]
  },
  {
   "cell_type": "code",
   "execution_count": 18,
   "id": "3f494457-e176-4942-9b2e-863b7ae54012",
   "metadata": {},
   "outputs": [
    {
     "data": {
      "text/plain": [
       "mnmFile: String = C:/Users/alejandro.perez/Documents/LearningSparkV2-master/chapter2/scala/data/mnm_dataset.csv\r\n",
       "mnmDF: org.apache.spark.sql.DataFrame = [State: string, Color: string ... 1 more field]\r\n"
      ]
     },
     "execution_count": 18,
     "metadata": {},
     "output_type": "execute_result"
    }
   ],
   "source": [
    "// Get the M&M data set filename\n",
    "val mnmFile = \"C:/Users/alejandro.perez/Documents/LearningSparkV2-master/chapter2/scala/data/mnm_dataset.csv\"\n",
    "\n",
    "// Read the file into a Spark DataFrame\n",
    "val mnmDF = spark.read.format(\"csv\")\n",
    " .option(\"header\", \"true\")\n",
    " .option(\"inferSchema\", \"true\")\n",
    " .load(mnmFile)"
   ]
  },
  {
   "cell_type": "code",
   "execution_count": 19,
   "id": "2993be82-0e6e-499f-b3f6-e1539640361c",
   "metadata": {},
   "outputs": [
    {
     "name": "stdout",
     "output_type": "stream",
     "text": [
      "+-----+------+-----+\n",
      "|State| Color|Count|\n",
      "+-----+------+-----+\n",
      "|   TX|   Red|   20|\n",
      "|   NV|  Blue|   66|\n",
      "|   CO|  Blue|   79|\n",
      "|   OR|  Blue|   71|\n",
      "|   WA|Yellow|   93|\n",
      "|   WY|  Blue|   16|\n",
      "|   CA|Yellow|   53|\n",
      "|   WA| Green|   60|\n",
      "|   OR| Green|   71|\n",
      "|   TX| Green|   68|\n",
      "|   NV| Green|   59|\n",
      "|   AZ| Brown|   95|\n",
      "|   WA|Yellow|   20|\n",
      "|   AZ|  Blue|   75|\n",
      "|   OR| Brown|   72|\n",
      "|   NV|   Red|   98|\n",
      "|   WY|Orange|   45|\n",
      "|   CO|  Blue|   52|\n",
      "|   TX| Brown|   94|\n",
      "|   CO|   Red|   82|\n",
      "+-----+------+-----+\n",
      "only showing top 20 rows\n",
      "\n"
     ]
    }
   ],
   "source": [
    "mnmDF.show()"
   ]
  },
  {
   "cell_type": "code",
   "execution_count": 20,
   "id": "ab280443-0398-4353-a043-164afaf7b5f1",
   "metadata": {},
   "outputs": [
    {
     "name": "stdout",
     "output_type": "stream",
     "text": [
      "root\n",
      " |-- State: string (nullable = true)\n",
      " |-- Color: string (nullable = true)\n",
      " |-- Count: integer (nullable = true)\n",
      "\n"
     ]
    }
   ],
   "source": [
    "mnmDF.printSchema()"
   ]
  },
  {
   "cell_type": "markdown",
   "id": "c7bc9ed7-5133-44b8-8b15-3a95f3945447",
   "metadata": {},
   "source": [
    "# 3.- Cuando se define un schema al definir un campo por ejemplo StructField('Delay', FloatType(), True) ¿qué significa el último parámetro Boolean?"
   ]
  },
  {
   "cell_type": "markdown",
   "id": "31a5f37b-6de7-4b9e-8840-168b43c30d35",
   "metadata": {},
   "source": [
    "Especifica cuando el campo, en este caso 'Delay' puede tener valores nulos o no, en este caso y por defecto viene asignado el valor True por lo que si puede tener valores nulos."
   ]
  },
  {
   "cell_type": "markdown",
   "id": "d1470802-85a7-41d0-8a58-074b872dce88",
   "metadata": {},
   "source": [
    "# 4.- Dataset vs DataFrame (Scala). ¿En qué se diferencian a nivel de código?"
   ]
  },
  {
   "cell_type": "markdown",
   "id": "045dad17-a056-4265-8d8c-d607bf8a88da",
   "metadata": {},
   "source": [
    "Los Dataset permiten utilizar funciones de la API de los rdd y están optimizados con Catalyst."
   ]
  },
  {
   "cell_type": "markdown",
   "id": "37097de3-99a0-4040-8010-2473449d23d8",
   "metadata": {},
   "source": [
    "# 5.- Utilizando el mismo ejemplo utilizado en el capítulo para guardar en parquet y guardar los datos en los formatos:"
   ]
  },
  {
   "cell_type": "code",
   "execution_count": 22,
   "id": "5e0a2a69-6d9e-4b7c-8418-fa07ac64cacc",
   "metadata": {},
   "outputs": [],
   "source": [
    "mnmDF.write.format(\"avro\")\n",
    "      .save(\"mnmSCALA.avro\")"
   ]
  },
  {
   "cell_type": "code",
   "execution_count": 23,
   "id": "35f87091-153c-4a79-a9a8-6d6b6822e50f",
   "metadata": {},
   "outputs": [],
   "source": [
    "mnmDF.write.format(\"json\")\n",
    "      .save(\"mnmSCALA.json\")"
   ]
  },
  {
   "cell_type": "code",
   "execution_count": 24,
   "id": "9466a969-e0a7-4433-8df6-c65ffb0fa6ce",
   "metadata": {},
   "outputs": [],
   "source": [
    "mnmDF.write.format(\"csv\")\n",
    "      .save(\"mnmSCALA.csv\")"
   ]
  },
  {
   "cell_type": "code",
   "execution_count": null,
   "id": "b9fc77c8-5bbf-43bf-984b-ca06826cc50a",
   "metadata": {},
   "outputs": [],
   "source": []
  }
 ],
 "metadata": {
  "kernelspec": {
   "display_name": "spylon-kernel",
   "language": "scala",
   "name": "spylon-kernel"
  },
  "language_info": {
   "codemirror_mode": "text/x-scala",
   "file_extension": ".scala",
   "help_links": [
    {
     "text": "MetaKernel Magics",
     "url": "https://metakernel.readthedocs.io/en/latest/source/README.html"
    }
   ],
   "mimetype": "text/x-scala",
   "name": "scala",
   "pygments_lexer": "scala",
   "version": "0.4.1"
  }
 },
 "nbformat": 4,
 "nbformat_minor": 5
}
