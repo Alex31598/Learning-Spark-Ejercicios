{
 "cells": [
  {
   "cell_type": "markdown",
   "id": "90a53591-0748-41f8-b996-b706c02d3a3e",
   "metadata": {},
   "source": [
    "# Ejercicios adicionales del libro Learning Spark 2nd Edition"
   ]
  },
  {
   "cell_type": "code",
   "execution_count": 1,
   "id": "e2948408-5724-4256-b705-0544101c75c6",
   "metadata": {},
   "outputs": [
    {
     "data": {
      "text/plain": [
       "Intitializing Scala interpreter ..."
      ]
     },
     "metadata": {},
     "output_type": "display_data"
    },
    {
     "data": {
      "text/plain": [
       "Spark Web UI available at http://L2202039.bosonit.local:4040\n",
       "SparkContext available as 'sc' (version = 3.1.3, master = local[*], app id = local-1652175083405)\n",
       "SparkSession available as 'spark'\n"
      ]
     },
     "metadata": {},
     "output_type": "display_data"
    },
    {
     "data": {
      "text/plain": [
       "import org.apache.log4j.Level\r\n",
       "import org.apache.spark.sql.{DataFrame, SaveMode, SparkSession}\r\n",
       "spark: org.apache.spark.sql.SparkSession = org.apache.spark.sql.SparkSession@15b0d97a\r\n"
      ]
     },
     "execution_count": 1,
     "metadata": {},
     "output_type": "execute_result"
    }
   ],
   "source": [
    "import org.apache.log4j.Level\n",
    "import org.apache.spark.sql.{DataFrame, SaveMode, SparkSession}\n",
    "\n",
    "val spark = SparkSession\n",
    " .builder()\n",
    " .appName(\"Capitulo2\")\n",
    " .getOrCreate()\n"
   ]
  },
  {
   "cell_type": "code",
   "execution_count": 2,
   "id": "55496487-b910-4005-8868-e44e716554e5",
   "metadata": {},
   "outputs": [
    {
     "data": {
      "text/plain": [
       "txtFile: String = C:/Users/alejandro.perez/Documents/Datasets/el_quijote2.txt\r\n",
       "quijote: org.apache.spark.sql.DataFrame = [value: string]\r\n"
      ]
     },
     "execution_count": 2,
     "metadata": {},
     "output_type": "execute_result"
    }
   ],
   "source": [
    "\n",
    "// Path to data set \n",
    "val txtFile=\"C:/Users/alejandro.perez/Documents/Datasets/el_quijote2.txt\"\n",
    "// Read and create a temporary view\n",
    "// Infer schema (note that for larger files you may want to specify the schema)\n",
    "val quijote = spark.read.text(txtFile)"
   ]
  },
  {
   "cell_type": "markdown",
   "id": "87a69ed5-6c15-4b76-8960-8440e764d5a3",
   "metadata": {},
   "source": [
    "### Mostramos el fichero"
   ]
  },
  {
   "cell_type": "code",
   "execution_count": 3,
   "id": "f0ef3f62-a65b-4b38-abca-3c8d899e481f",
   "metadata": {},
   "outputs": [
    {
     "name": "stdout",
     "output_type": "stream",
     "text": [
      "+--------------------+\n",
      "|               value|\n",
      "+--------------------+\n",
      "|DON QUIJOTE DE LA...|\n",
      "|Miguel de Cervant...|\n",
      "|                    |\n",
      "|       PRIMERA PARTE|\n",
      "|CAPI?TULO 1: Que ...|\n",
      "|En un lugar de la...|\n",
      "|Tuvo muchas veces...|\n",
      "|En resolucio?n, e...|\n",
      "|historia ma?s cie...|\n",
      "|Deci?a e?l, que e...|\n",
      "|En efecto, remata...|\n",
      "|Imagina?base el p...|\n",
      "|linaje y patria, ...|\n",
      "|Limpias, pues, su...|\n",
      "|Capi?tulo 2: Que ...|\n",
      "|Hechas, pues, est...|\n",
      "|Estos pensamiento...|\n",
      "|Con estos iba ens...|\n",
      "|Autores hay que d...|\n",
      "|muertos de hambre...|\n",
      "+--------------------+\n",
      "only showing top 20 rows\n",
      "\n"
     ]
    }
   ],
   "source": [
    "quijote.show()"
   ]
  },
  {
   "cell_type": "markdown",
   "id": "32def3b0-c9aa-4cef-a983-f9dce81cdc13",
   "metadata": {},
   "source": [
    "## Aplicamos el método count"
   ]
  },
  {
   "cell_type": "code",
   "execution_count": 4,
   "id": "7dfdcea4-5d90-40ad-9535-62d7b836f013",
   "metadata": {},
   "outputs": [
    {
     "data": {
      "text/plain": [
       "res1: String = Cp1252\r\n"
      ]
     },
     "execution_count": 4,
     "metadata": {},
     "output_type": "execute_result"
    }
   ],
   "source": [
    "System.getProperty(\"file.encoding\");"
   ]
  },
  {
   "cell_type": "code",
   "execution_count": 5,
   "id": "65143209-b33b-4570-af11-33880b1ea93c",
   "metadata": {},
   "outputs": [
    {
     "data": {
      "text/plain": [
       "res2: Long = 2186\r\n"
      ]
     },
     "execution_count": 5,
     "metadata": {},
     "output_type": "execute_result"
    }
   ],
   "source": [
    "quijote.count()"
   ]
  },
  {
   "cell_type": "markdown",
   "id": "9313d781-b272-4f67-9660-2171ec75ba80",
   "metadata": {},
   "source": [
    "## Pruebas con show"
   ]
  },
  {
   "cell_type": "code",
   "execution_count": null,
   "id": "9eb08d05-691f-4795-9961-9093b019ab17",
   "metadata": {},
   "outputs": [
    {
     "name": "stdout",
     "output_type": "stream",
     "text": [
      "+--------------------------------------------------------------------------------------------------------------------------------------------------------------------------------------------------------------------------------------------------------------------------------------------------------------------------------------------------------------------------------------------------------------------------------------------------------------------------------------------------------------------------------------------------------------------------------------------------------------------------------------------------------------------------------------------------------------------------------------------------------------------------------------------------------------------------------------------------------------------------------------------------------------------------------------------------------------------------------------------------------------------------------------------------------------------------------------------------------------------------------------------------------------------------------------------------------------------------------------------------------------------------------------------------------------------------------------------------------------------------------------------------------------------------------------------------------------------------------------------------------------------------------------------------------------------------------------------------------------------------------------------------------------------------------------------------------------------------------------------------------------------------------------------------------------------------------------------------------------------------------------------------------------------------------------------------------------------------------------------------------------------------------------------------------------------------------------------------------------------------------------------------------------------------------------------------------------------------------------------------------------------------------------------------------------------------------------------------------------------------------------------------------------------------------------------------------------------------------------------------------------------------------------------------------------------------------------------------------------------------------------------------------------------------------------------------------------------------------------------------------------------------------------------------------------------------------------------------------------------------------------------------------------------------------------------------------------------------------------------------------------------------------------------------------------------------------------------------------------------------------------------------------------------------------------------------------+\n",
      "|value                                                                                                                                                                                                                                                                                                                                                                                                                                                                                                                                                                                                                                                                                                                                                                                                                                                                                                                                                                                                                                                                                                                                                                                                                                                                                                                                                                                                                                                                                                                                                                                                                                                                                                                                                                                                                                                                                                                                                                                                                                                                                                                                                                                                                                                                                                                                                                                                                                                                                                                                                                                                                                                                                                                                                                                                                                                                                                                                                                                                                                                                                                                                                                                                   |\n",
      "+--------------------------------------------------------------------------------------------------------------------------------------------------------------------------------------------------------------------------------------------------------------------------------------------------------------------------------------------------------------------------------------------------------------------------------------------------------------------------------------------------------------------------------------------------------------------------------------------------------------------------------------------------------------------------------------------------------------------------------------------------------------------------------------------------------------------------------------------------------------------------------------------------------------------------------------------------------------------------------------------------------------------------------------------------------------------------------------------------------------------------------------------------------------------------------------------------------------------------------------------------------------------------------------------------------------------------------------------------------------------------------------------------------------------------------------------------------------------------------------------------------------------------------------------------------------------------------------------------------------------------------------------------------------------------------------------------------------------------------------------------------------------------------------------------------------------------------------------------------------------------------------------------------------------------------------------------------------------------------------------------------------------------------------------------------------------------------------------------------------------------------------------------------------------------------------------------------------------------------------------------------------------------------------------------------------------------------------------------------------------------------------------------------------------------------------------------------------------------------------------------------------------------------------------------------------------------------------------------------------------------------------------------------------------------------------------------------------------------------------------------------------------------------------------------------------------------------------------------------------------------------------------------------------------------------------------------------------------------------------------------------------------------------------------------------------------------------------------------------------------------------------------------------------------------------------------------------+\n",
      "|DON QUIJOTE DE LA MANCHA                                                                                                                                                                                                                                                                                                                                                                                                                                                                                                                                                                                                                                                                                                                                                                                                                                                                                                                                                                                                                                                                                                                                                                                                                                                                                                                                                                                                                                                                                                                                                                                                                                                                                                                                                                                                                                                                                                                                                                                                                                                                                                                                                                                                                                                                                                                                                                                                                                                                                                                                                                                                                                                                                                                                                                                                                                                                                                                                                                                                                                                                                                                                                                                |\n",
      "|Miguel de Cervantes Saavedra                                                                                                                                                                                                                                                                                                                                                                                                                                                                                                                                                                                                                                                                                                                                                                                                                                                                                                                                                                                                                                                                                                                                                                                                                                                                                                                                                                                                                                                                                                                                                                                                                                                                                                                                                                                                                                                                                                                                                                                                                                                                                                                                                                                                                                                                                                                                                                                                                                                                                                                                                                                                                                                                                                                                                                                                                                                                                                                                                                                                                                                                                                                                                                            |\n",
      "|                                                                                                                                                                                                                                                                                                                                                                                                                                                                                                                                                                                                                                                                                                                                                                                                                                                                                                                                                                                                                                                                                                                                                                                                                                                                                                                                                                                                                                                                                                                                                                                                                                                                                                                                                                                                                                                                                                                                                                                                                                                                                                                                                                                                                                                                                                                                                                                                                                                                                                                                                                                                                                                                                                                                                                                                                                                                                                                                                                                                                                                                                                                                                                                                        |\n",
      "|PRIMERA PARTE                                                                                                                                                                                                                                                                                                                                                                                                                                                                                                                                                                                                                                                                                                                                                                                                                                                                                                                                                                                                                                                                                                                                                                                                                                                                                                                                                                                                                                                                                                                                                                                                                                                                                                                                                                                                                                                                                                                                                                                                                                                                                                                                                                                                                                                                                                                                                                                                                                                                                                                                                                                                                                                                                                                                                                                                                                                                                                                                                                                                                                                                                                                                                                                           |\n",
      "|CAPI?TULO 1: Que trata de la condicio?n y ejercicio del famoso hidalgo D. Quijote de la Mancha                                                                                                                                                                                                                                                                                                                                                                                                                                                                                                                                                                                                                                                                                                                                                                                                                                                                                                                                                                                                                                                                                                                                                                                                                                                                                                                                                                                                                                                                                                                                                                                                                                                                                                                                                                                                                                                                                                                                                                                                                                                                                                                                                                                                                                                                                                                                                                                                                                                                                                                                                                                                                                                                                                                                                                                                                                                                                                                                                                                                                                                                                                          |\n",
      "|En un lugar de la Mancha, de cuyo nombre no quiero acordarme, no ha mucho tiempo que vivi?a un hidalgo de los de lanza en astillero, adarga antigua, roci?n flaco y galgo corredor. Una olla de algo ma?s vaca que carnero, salpico?n las ma?s noches, duelos y quebrantos los sa?bados, lentejas los viernes, algu?n palomino de an?adidura los domingos, consumi?an las tres partes de su hacienda. El resto della conclui?an sayo de velarte, calzas de velludo para las fiestas con sus pantuflos de lo mismo, los di?as de entre semana se honraba con su vellori de lo ma?s fino. Teni?a en su casa una ama que pasaba de los cuarenta, y una sobrina que no llegaba a los veinte, y un mozo de campo y plaza, que asi? ensillaba el roci?n como tomaba la podadera. Frisaba la edad de nuestro hidalgo con los cincuenta an?os, era de complexio?n recia, seco de carnes, enjuto de rostro; gran madrugador y amigo de la caza. Quieren decir que teni?a el sobrenombre de Quijada o Quesada (que en esto hay alguna diferencia en los autores que deste caso escriben), aunque por conjeturas verosi?miles se deja entender que se llama Quijana; pero esto importa poco a nuestro cuento; basta que en la narracio?n de?l no se salga un punto de la verdad. Es, pues, de saber, que este sobredicho hidalgo, los ratos que estaba ocioso (que eran los ma?s del an?o) se daba a leer libros de caballeri?as con tanta aficio?n y gusto, que olvido? casi de todo punto el ejercicio de la caza, y aun la administracio?n de su hacienda; y llego? a tanto su curiosidad y desatino en esto, que vendio? muchas hanegas de tierra de sembradura, para comprar libros de caballeri?as en que leer; y asi? llevo? a su casa todos cuantos pudo haber dellos; y de todos ningunos le pareci?an tan bien como los que compuso el famoso Feliciano de Silva: porque la claridad de su prosa, y aquellas intrincadas razones suyas, le pareci?an de perlas; y ma?s cuando llegaba a leer aquellos requiebros y cartas de desafi?o, donde en muchas partes hallaba escrito: la razo?n de la sinrazo?n que a mi razo?n se hace, de tal manera mi razo?n enflaquece, que con razo?n me quejo de la vuestra fermosura, y tambie?n cuando lei?a: los altos cielos que de vuestra divinidad divinamente con las estrellas se fortifican, y os hacen merecedora del merecimiento que merece la vuestra grandeza. Con estas y semejantes razones perdi?a el pobre caballero el juicio, y desvela?base por entenderlas, y desentran?arles el sentido, que no se lo sacara, ni las entendiera el mismo Aristo?teles, si resucitara para so?lo ello. No estaba muy bien con las heridas que don Belianis daba y recibi?a, porque se imaginaba que por grandes maestros que le hubiesen curado, no dejari?a de tener el rostro y todo el cuerpo lleno de cicatrices y sen?ales; pero con todo alababa en su autor aquel acabar su libro con la promesa de aquella inacabable aventura, y muchas veces le vino deseo de tomar la pluma, y darle fin al pie de la letra como alli? se promete; y sin duda alguna lo hiciera, y aun saliera con ello, si otros mayores y continuos pensamientos no se lo estorbaran.|\n",
      "|Tuvo muchas veces competencia con el cura de su lugar (que era hombre docto graduado en Sigu?enza), sobre cua?l habi?a sido mejor caballero, Palmeri?n de Inglaterra o Amadi?s de Gaula; mas maese Nicola?s, barbero del mismo pueblo, deci?a que ninguno llegaba al caballero del Febo, y que si alguno se le podi?a comparar, era don Galaor, hermano de Amadi?s de Gaula, porque teni?a muy acomodada condicio?n para todo; que no era caballero melindroso, ni tan lloro?n como su hermano, y que en lo de la valenti?a no le iba en zaga.                                                                                                                                                                                                                                                                                                                                                                                                                                                                                                                                                                                                                                                                                                                                                                                                                                                                                                                                                                                                                                                                                                                                                                                                                                                                                                                                                                                                                                                                                                                                                                                                                                                                                                                                                                                                                                                                                                                                                                                                                                                                                                                                                                                                                                                                                                                                                                                                                                                                                                                                                                                                                                                          |\n",
      "|En resolucio?n, e?l se enfrasco? tanto en su lectura, que se le pasaban las noches leyendo de claro en claro, y los di?as de turbio en turbio, y asi?, del poco dormir y del mucho leer, se le seco? el cerebro, de manera que vino a perder el juicio. Lleno?sele la fantasi?a de todo aquello que lei?a en los libros, asi? de encantamientos, como de pendencias, batallas, desafi?os, heridas, requiebros, amores, tormentas y disparates imposibles, y asento?sele de tal modo en la imaginacio?n que era verdad toda aquella ma?quina de aquellas son?adas invenciones que lei?a, que para e?l no habi?a otra                                                                                                                                                                                                                                                                                                                                                                                                                                                                                                                                                                                                                                                                                                                                                                                                                                                                                                                                                                                                                                                                                                                                                                                                                                                                                                                                                                                                                                                                                                                                                                                                                                                                                                                                                                                                                                                                                                                                                                                                                                                                                                                                                                                                                                                                                                                                                                                                                                                                                                                                                                                     |\n",
      "|historia ma?s cierta en el mundo.                                                                                                                                                                                                                                                                                                                                                                                                                                                                                                                                                                                                                                                                                                                                                                                                                                                                                                                                                                                                                                                                                                                                                                                                                                                                                                                                                                                                                                                                                                                                                                                                                                                                                                                                                                                                                                                                                                                                                                                                                                                                                                                                                                                                                                                                                                                                                                                                                                                                                                                                                                                                                                                                                                                                                                                                                                                                                                                                                                                                                                                                                                                                                                       |\n",
      "|Deci?a e?l, que el Cid Ruy Di?az habi?a sido muy buen caballero; pero que no teni?a que ver con el caballero de la ardiente espada, que de so?lo un reve?s habi?a partido por medio dos fieros y descomunales gigantes. Mejor estaba con Bernardo del Carpio, porque en Roncesvalle habi?a muerto a Rolda?n el encantado, valie?ndose de la industria de He?rcules, cuando ahogo? a Anteo, el hijo de la Tierra, entre los brazos. Deci?a mucho bien del gigante Morgante, porque con ser de aquella generacio?n gigantesca, que todos son soberbios y descomedidos, e?l solo era afable y bien criado; pero sobre todos estaba bien con Reinaldos de Montalba?n, y ma?s cuando le vei?a salir de su castillo y robar cuantos topaba, y cuando en Allende robo? aquel i?dolo de Mahoma, que era todo de oro, segu?n dice su historia. Diera e?l, por dar una mano de coces al traidor de Galalo?n, al ama que teni?a y aun a su sobrina de an?adidura.                                                                                                                                                                                                                                                                                                                                                                                                                                                                                                                                                                                                                                                                                                                                                                                                                                                                                                                                                                                                                                                                                                                                                                                                                                                                                                                                                                                                                                                                                                                                                                                                                                                                                                                                                                                                                                                                                                                                                                                                                                                                                                                                                                                                                                                  |\n",
      "|En efecto, rematado ya su juicio, vino a dar en el ma?s extran?o pensamiento que jama?s dio loco en el mundo, y fue que le parecio? convenible y necesario, asi? para el aumento de su honra, como para el servicio de su repu?blica, hacerse caballero andante, e irse por todo el mundo con sus armas y caballo a buscar las aventuras, y a ejercitarse en todo aquello que e?l habi?a lei?do, que los caballeros andantes se ejercitaban, deshaciendo todo ge?nero de agravio, y ponie?ndose en ocasiones y peligros, donde acaba?ndolos, cobrase eterno nombre y fama.                                                                                                                                                                                                                                                                                                                                                                                                                                                                                                                                                                                                                                                                                                                                                                                                                                                                                                                                                                                                                                                                                                                                                                                                                                                                                                                                                                                                                                                                                                                                                                                                                                                                                                                                                                                                                                                                                                                                                                                                                                                                                                                                                                                                                                                                                                                                                                                                                                                                                                                                                                                                                              |\n",
      "|Imagina?base el pobre ya coronado por el valor de su brazo por lo menos del imperio de Trapisonda: y asi? con estos tan agradables pensamientos, llevado del estran?o gusto que en ellos senti?a, se dio? priesa a poner en efecto lo que deseaba. Y lo primero que hizo, fue limpiar unas armas, que habi?an sido de sus bisabuelos, que, tomadas de ori?n y llenas de moho, luengos siglos habi?a que estaban puestas y olvidadas en un rinco?n. Limpio?las y aderezo?las lo mejor que pudo; pero vio? que teni?an una gran falta, y era que no teni?a celada de encaje, sino morrio?n simple; mas a esto suplio? su industria, porque de cartones hizo un modo de media celada, que encajada con el morrio?n, haci?a una apariencia de celada entera. Es verdad que para probar si era fuerte, y podi?a estar al riesgo de una cuchillada, saco? su espada, y le dio? dos golpes, y con el primero y en un punto deshizo lo que habi?a hecho en una semana: y no dejo? de parecerle mal la facilidad con que la habi?a hecho pedazos, y por asegurarse de este peligro, lo torno? a hacer de nuevo, ponie?ndole unas barras de hierro por de dentro de tal manera, que e?l quedo? satisfecho de su fortaleza; y, sin querer hacer nueva experiencia de ella, la diputo? y tuvo por celada fini?sima de encaje. Fue luego a ver a su roci?n, y aunque teni?a ma?s cuartos que un real, y ma?s tachas que el caballo de Gonela, que tantum pellis, et ossa fuit, le parecio? que ni el Buce?falo de Alejandro, ni Babieca el del Cid con e?l se igualaban. Cuatro di?as se le pasaron en imaginar que? nombre le podri?a: porque, segu?n se deci?a e?l a si? mismo, no era razo?n que caballo de caballero tan famoso, y tan bueno e?l por si?, estuviese sin nombre conocido; y asi? procuraba acomoda?rsele, de manera que declarase quien habi?a sido, antes que fuese de caballero andante, y lo que era entones: pues estaba muy puesto en razo?n, que mudando su sen?or estado, mudase e?l tambie?n el nombre; y le cobrase famoso y de estruendo, como conveni?a a la nueva orden y al nuevo ejercicio que ya profesaba: y asi? despue?s de muchos nombres que formo?, borro? y quito?, an?adio?, deshizo y torno? a hacer en su memoria e imaginacio?n, al fin le vino a llamar Rocinante, nombre a su parecer alto, sonoro y significativo de lo que habi?a sido cuando fue roci?n, antes de lo que ahora era, que era antes y primero de todos los rocines del mundo. Puesto nombre y tan a su gusto a su caballo, quiso pone?rsele a si? mismo, y en este pensamiento, duro? otros ocho di?as, y al cabo se vino a llamar don Quijote, de donde como queda dicho, tomaron ocasio?n los autores de esta tan verdadera historia, que sin duda se debi?a llamar Quijada, y no Quesada como otros quisieron decir. Pero acorda?ndose que el valeroso Amadi?s, no so?lo se habi?a contentado con llamarse Amadi?s a secas, sino que an?adio? el nombre de su reino y patria, por hacerla famosa, y se llamo? Amadi?s de Gaula, asi? quiso, como buen caballero, an?adir al suyo el nombre de la suya, y llamarse don Quijote de la Mancha, con que a su parecer declaraba muy al vivo su         |\n",
      "|linaje y patria, y la honraba con tomar el sobrenombre della.                                                                                                                                                                                                                                                                                                                                                                                                                                                                                                                                                                                                                                                                                                                                                                                                                                                                                                                                                                                                                                                                                                                                                                                                                                                                                                                                                                                                                                                                                                                                                                                                                                                                                                                                                                                                                                                                                                                                                                                                                                                                                                                                                                                                                                                                                                                                                                                                                                                                                                                                                                                                                                                                                                                                                                                                                                                                                                                                                             "
     ]
    }
   ],
   "source": [
    "quijote.show(truncate = false)"
   ]
  },
  {
   "cell_type": "code",
   "execution_count": 6,
   "id": "aec5cac3-5ebd-4c6c-a4ba-9dd5aef379ae",
   "metadata": {},
   "outputs": [
    {
     "name": "stdout",
     "output_type": "stream",
     "text": [
      "+--------------------+\n",
      "|               value|\n",
      "+--------------------+\n",
      "|DON QUIJOTE DE LA...|\n",
      "|Miguel de Cervant...|\n",
      "|                    |\n",
      "|       PRIMERA PARTE|\n",
      "|CAPI?TULO 1: Que ...|\n",
      "|En un lugar de la...|\n",
      "|Tuvo muchas veces...|\n",
      "|En resolucio?n, e...|\n",
      "|historia ma?s cie...|\n",
      "|Deci?a e?l, que e...|\n",
      "|En efecto, remata...|\n",
      "|Imagina?base el p...|\n",
      "|linaje y patria, ...|\n",
      "|Limpias, pues, su...|\n",
      "|Capi?tulo 2: Que ...|\n",
      "|Hechas, pues, est...|\n",
      "|Estos pensamiento...|\n",
      "|Con estos iba ens...|\n",
      "|Autores hay que d...|\n",
      "|muertos de hambre...|\n",
      "+--------------------+\n",
      "only showing top 20 rows\n",
      "\n"
     ]
    }
   ],
   "source": [
    "quijote.show(truncate = true)"
   ]
  },
  {
   "cell_type": "code",
   "execution_count": null,
   "id": "332ebe12-29ee-4b08-ac79-558efd86652b",
   "metadata": {},
   "outputs": [],
   "source": [
    "quijote.show(10, truncate = false)"
   ]
  },
  {
   "cell_type": "code",
   "execution_count": 7,
   "id": "55087a13-b47f-42a7-90fc-66bd9d418833",
   "metadata": {},
   "outputs": [
    {
     "name": "stdout",
     "output_type": "stream",
     "text": [
      "+--------------------+\n",
      "|               value|\n",
      "+--------------------+\n",
      "|DON QUIJOTE DE LA...|\n",
      "|Miguel de Cervant...|\n",
      "|                    |\n",
      "|       PRIMERA PARTE|\n",
      "|CAPI?TULO 1: Que ...|\n",
      "|En un lugar de la...|\n",
      "|Tuvo muchas veces...|\n",
      "|En resolucio?n, e...|\n",
      "|historia ma?s cie...|\n",
      "|Deci?a e?l, que e...|\n",
      "+--------------------+\n",
      "only showing top 10 rows\n",
      "\n"
     ]
    }
   ],
   "source": [
    "quijote.show(10, truncate = true)"
   ]
  },
  {
   "cell_type": "markdown",
   "id": "838a0973-1cc1-49c7-ae14-0132c76fee2b",
   "metadata": {},
   "source": [
    "# Pruebas con head, take, first"
   ]
  },
  {
   "cell_type": "code",
   "execution_count": 8,
   "id": "9c26c019-b840-42a9-987b-dc705d16b723",
   "metadata": {},
   "outputs": [
    {
     "data": {
      "text/plain": [
       "res5: org.apache.spark.sql.Row = [DON QUIJOTE DE LA MANCHA]\r\n"
      ]
     },
     "execution_count": 8,
     "metadata": {},
     "output_type": "execute_result"
    }
   ],
   "source": [
    "quijote.head()"
   ]
  },
  {
   "cell_type": "code",
   "execution_count": 9,
   "id": "24b9e1ed-9933-4374-806b-b38fe2c60cc3",
   "metadata": {},
   "outputs": [
    {
     "data": {
      "text/plain": [
       "res6: Array[org.apache.spark.sql.Row] = Array([DON QUIJOTE DE LA MANCHA], [Miguel de Cervantes Saavedra], [], [PRIMERA PARTE], [CAPI?TULO 1: Que trata de la condicio?n y ejercicio del famoso hidalgo D. Quijote de la Mancha])\r\n"
      ]
     },
     "execution_count": 9,
     "metadata": {},
     "output_type": "execute_result"
    }
   ],
   "source": [
    "quijote.take(5)"
   ]
  },
  {
   "cell_type": "code",
   "execution_count": 10,
   "id": "f2ceda02-9b11-4e3b-96aa-1ba257951e69",
   "metadata": {},
   "outputs": [
    {
     "data": {
      "text/plain": [
       "res7: org.apache.spark.sql.Row = [DON QUIJOTE DE LA MANCHA]\r\n"
      ]
     },
     "execution_count": 10,
     "metadata": {},
     "output_type": "execute_result"
    }
   ],
   "source": [
    "quijote.first()"
   ]
  },
  {
   "cell_type": "markdown",
   "id": "b5b5c858-154c-4940-967e-44cece9b7d26",
   "metadata": {},
   "source": [
    "Head toma los primeros elemento mientras que take toma un número de elementos de forma que sea más rápido para Spark, como actualmente nos encontramos utilizando en local ambos resultados son iguales pero en cluster podría no darse el caso y first toma la primera fila."
   ]
  },
  {
   "cell_type": "markdown",
   "id": "46be70fd-4ab2-437f-ad7a-b575e4cd1dc9",
   "metadata": {},
   "source": [
    "# Extra ejercicio M&M"
   ]
  },
  {
   "cell_type": "markdown",
   "id": "eba22eae-52e4-4f7b-aa29-d226d9c9fcbe",
   "metadata": {},
   "source": [
    "1.-  Otras operaciones de agregación como el Max con otro tipo de ordenamiento \n",
    "(descendiente).\n",
    "\n",
    "2.-  hacer un ejercicio como el “where” de CA que aparece en el libro pero \n",
    "indicando más opciones de estados (p.e. NV, TX, CA, CO).\n",
    "\n",
    "3.- Hacer un ejercicio donde se calculen en una misma operación el Max, Min, \n",
    "Avg, Count. Revisar el API (documentación) donde encontrarán este ejemplo:\n",
    "ds.agg(max(\\$\"age\"), avg(\\$\"salary\"))\n",
    "ds.groupBy().agg(max(\\$\"age\"), avg(\\$\"salary\"))\n",
    "\n",
    "NOTA: \\$ es un alias de col()\n",
    "\n",
    "4.- Hacer también ejercicios en SQL creando tmpView"
   ]
  },
  {
   "cell_type": "code",
   "execution_count": 11,
   "id": "85aa7a37-5051-4fed-a498-ff65a91242e4",
   "metadata": {},
   "outputs": [
    {
     "data": {
      "text/plain": [
       "mnmFile: String = C:/Users/alejandro.perez/Documents/LearningSparkV2-master/chapter2/scala/data/mnm_dataset.csv\r\n",
       "mnmDF: org.apache.spark.sql.DataFrame = [State: string, Color: string ... 1 more field]\r\n"
      ]
     },
     "execution_count": 11,
     "metadata": {},
     "output_type": "execute_result"
    }
   ],
   "source": [
    "// Get the M&M data set filename\n",
    "val mnmFile = \"C:/Users/alejandro.perez/Documents/LearningSparkV2-master/chapter2/scala/data/mnm_dataset.csv\"\n",
    "\n",
    "\n",
    "\n",
    "// Read the file into a Spark DataFrame\n",
    "val mnmDF = spark.read.format(\"csv\")\n",
    " .option(\"header\", \"true\")\n",
    " .option(\"inferSchema\", \"true\")\n",
    " .load(mnmFile)\n",
    "// Aggregate counts of all colors and groupBy() State and Color\n",
    "// orderBy() in descending order\n"
   ]
  },
  {
   "cell_type": "code",
   "execution_count": 12,
   "id": "38a99b61-3a38-4828-99b5-41a659a2e519",
   "metadata": {},
   "outputs": [
    {
     "data": {
      "text/plain": [
       "countMnMDF: org.apache.spark.sql.Dataset[org.apache.spark.sql.Row] = [State: string, Color: string ... 1 more field]\r\n"
      ]
     },
     "execution_count": 12,
     "metadata": {},
     "output_type": "execute_result"
    }
   ],
   "source": [
    "val countMnMDF = mnmDF\n",
    " .select(\"State\", \"Color\", \"Count\")\n",
    " .groupBy(\"State\", \"Color\")\n",
    " .agg(count(\"Count\").alias(\"Total\"))\n",
    " .orderBy(desc(\"Total\"))"
   ]
  },
  {
   "cell_type": "code",
   "execution_count": 13,
   "id": "e542721b-c25a-4f0a-b25d-d908e1646af5",
   "metadata": {},
   "outputs": [
    {
     "name": "stdout",
     "output_type": "stream",
     "text": [
      "+-----+------+-----+\n",
      "|State| Color|Total|\n",
      "+-----+------+-----+\n",
      "|   CA|Yellow| 1807|\n",
      "|   WA| Green| 1779|\n",
      "|   OR|Orange| 1743|\n",
      "|   TX| Green| 1737|\n",
      "|   TX|   Red| 1725|\n",
      "|   CA| Green| 1723|\n",
      "|   CO|Yellow| 1721|\n",
      "|   CA| Brown| 1718|\n",
      "|   CO| Green| 1713|\n",
      "|   NV|Orange| 1712|\n",
      "|   TX|Yellow| 1703|\n",
      "|   NV| Green| 1698|\n",
      "|   AZ| Brown| 1698|\n",
      "|   WY| Green| 1695|\n",
      "|   CO|  Blue| 1695|\n",
      "|   NM|   Red| 1690|\n",
      "|   AZ|Orange| 1689|\n",
      "|   NM|Yellow| 1688|\n",
      "|   NM| Brown| 1687|\n",
      "|   UT|Orange| 1684|\n",
      "|   NM| Green| 1682|\n",
      "|   UT|   Red| 1680|\n",
      "|   AZ| Green| 1676|\n",
      "|   NV|Yellow| 1675|\n",
      "|   NV|  Blue| 1673|\n",
      "|   WA|   Red| 1671|\n",
      "|   WY|   Red| 1670|\n",
      "|   WA| Brown| 1669|\n",
      "|   NM|Orange| 1665|\n",
      "|   WY|  Blue| 1664|\n",
      "|   WA|Yellow| 1663|\n",
      "|   WA|Orange| 1658|\n",
      "|   CA|Orange| 1657|\n",
      "|   NV| Brown| 1657|\n",
      "|   CA|   Red| 1656|\n",
      "|   CO| Brown| 1656|\n",
      "|   UT|  Blue| 1655|\n",
      "|   AZ|Yellow| 1654|\n",
      "|   TX|Orange| 1652|\n",
      "|   AZ|   Red| 1648|\n",
      "|   OR|  Blue| 1646|\n",
      "|   UT|Yellow| 1645|\n",
      "|   OR|   Red| 1645|\n",
      "|   CO|Orange| 1642|\n",
      "|   TX| Brown| 1641|\n",
      "|   NM|  Blue| 1638|\n",
      "|   AZ|  Blue| 1636|\n",
      "|   OR| Green| 1634|\n",
      "|   UT| Brown| 1631|\n",
      "|   WY|Yellow| 1626|\n",
      "|   WA|  Blue| 1625|\n",
      "|   CO|   Red| 1624|\n",
      "|   OR| Brown| 1621|\n",
      "|   OR|Yellow| 1614|\n",
      "|   TX|  Blue| 1614|\n",
      "|   NV|   Red| 1610|\n",
      "|   CA|  Blue| 1603|\n",
      "|   WY|Orange| 1595|\n",
      "|   UT| Green| 1591|\n",
      "|   WY| Brown| 1532|\n",
      "+-----+------+-----+\n",
      "\n",
      "Total Rows = 60\n",
      "\n"
     ]
    }
   ],
   "source": [
    "// Show the resulting aggregations for all the states and colors\n",
    "countMnMDF.show(60)\n",
    "\n",
    "println(s\"Total Rows = ${countMnMDF.count()}\")\n",
    "println()\n"
   ]
  },
  {
   "cell_type": "code",
   "execution_count": 14,
   "id": "1e41dcfd-0339-4a26-96d6-fa39fcc74c63",
   "metadata": {},
   "outputs": [
    {
     "name": "stdout",
     "output_type": "stream",
     "text": [
      "+-----+------+-----+\n",
      "|State| Color|Total|\n",
      "+-----+------+-----+\n",
      "|   CA|Yellow| 1807|\n",
      "|   CA| Green| 1723|\n",
      "|   CA| Brown| 1718|\n",
      "|   CA|Orange| 1657|\n",
      "|   CA|   Red| 1656|\n",
      "|   CA|  Blue| 1603|\n",
      "+-----+------+-----+\n",
      "\n"
     ]
    },
    {
     "data": {
      "text/plain": [
       "caCountMnMDF: org.apache.spark.sql.Dataset[org.apache.spark.sql.Row] = [State: string, Color: string ... 1 more field]\r\n"
      ]
     },
     "execution_count": 14,
     "metadata": {},
     "output_type": "execute_result"
    }
   ],
   "source": [
    "// Find the aggregate counts for California by filtering\n",
    "\n",
    "val caCountMnMDF = mnmDF\n",
    " .select(\"State\", \"Color\", \"Count\")\n",
    " .where(col(\"State\") === \"CA\")\n",
    " .groupBy(\"State\", \"Color\")\n",
    " .agg(count(\"Count\").alias(\"Total\"))\n",
    " .orderBy(desc(\"Total\"))\n",
    " // Show the resulting aggregations for California\n",
    " caCountMnMDF.show(10)\n"
   ]
  },
  {
   "cell_type": "markdown",
   "id": "cf61fa70-a319-482f-b71c-d202a86edeac",
   "metadata": {},
   "source": [
    "### 1.- Otras operaciones de agregación como el Max con otro tipo de ordenamiento (descendiente)."
   ]
  },
  {
   "cell_type": "code",
   "execution_count": 15,
   "id": "b627c9af-a579-404f-aa1f-27fda18fa810",
   "metadata": {},
   "outputs": [
    {
     "name": "stdout",
     "output_type": "stream",
     "text": [
      "+-----+------+---+\n",
      "|State| Color|Max|\n",
      "+-----+------+---+\n",
      "|   CA|   Red|100|\n",
      "|   CA| Green|100|\n",
      "|   CA|Orange|100|\n",
      "|   CA| Brown|100|\n",
      "|   CA|  Blue|100|\n",
      "|   CA|Yellow|100|\n",
      "+-----+------+---+\n",
      "\n"
     ]
    },
    {
     "data": {
      "text/plain": [
       "caMaxMnMDFDesc: org.apache.spark.sql.Dataset[org.apache.spark.sql.Row] = [State: string, Color: string ... 1 more field]\r\n"
      ]
     },
     "execution_count": 15,
     "metadata": {},
     "output_type": "execute_result"
    }
   ],
   "source": [
    "val caMaxMnMDFDesc = mnmDF\n",
    " .select(\"State\", \"Color\", \"Count\")\n",
    " .where(col(\"State\") === \"CA\")\n",
    " .groupBy(\"State\", \"Color\")\n",
    " .agg(max(\"Count\").alias(\"Max\"))\n",
    " .orderBy(desc(\"Max\"))\n",
    " // Show the resulting aggregations for California\n",
    " caMaxMnMDFDesc.show(10)\n"
   ]
  },
  {
   "cell_type": "code",
   "execution_count": 16,
   "id": "e0c00c22-137e-4c8b-bd48-cc45137191db",
   "metadata": {},
   "outputs": [
    {
     "name": "stdout",
     "output_type": "stream",
     "text": [
      "+-----+------+---+\n",
      "|State| Color|Max|\n",
      "+-----+------+---+\n",
      "|   CA| Green|100|\n",
      "|   CA|   Red|100|\n",
      "|   CA|  Blue|100|\n",
      "|   CA|Orange|100|\n",
      "|   CA|Yellow|100|\n",
      "|   CA| Brown|100|\n",
      "+-----+------+---+\n",
      "\n"
     ]
    },
    {
     "data": {
      "text/plain": [
       "caMaxMnMDFDesc: org.apache.spark.sql.Dataset[org.apache.spark.sql.Row] = [State: string, Color: string ... 1 more field]\r\n"
      ]
     },
     "execution_count": 16,
     "metadata": {},
     "output_type": "execute_result"
    }
   ],
   "source": [
    "val caMaxMnMDFDesc = mnmDF\n",
    " .select(\"State\", \"Color\", \"Count\")\n",
    " .where(col(\"State\") === \"CA\")\n",
    " .groupBy(\"State\", \"Color\")\n",
    " .agg(max(\"Count\").alias(\"Max\"))\n",
    " .orderBy(asc(\"Max\"))\n",
    " // Show the resulting aggregations for California\n",
    " caMaxMnMDFDesc.show(10)"
   ]
  },
  {
   "cell_type": "code",
   "execution_count": 17,
   "id": "6d74bc33-e179-48fc-9935-3de721e9022a",
   "metadata": {},
   "outputs": [
    {
     "name": "stdout",
     "output_type": "stream",
     "text": [
      "+-----+------+---+\n",
      "|State| Color|Min|\n",
      "+-----+------+---+\n",
      "|   CA|Yellow| 10|\n",
      "|   CA| Green| 10|\n",
      "|   CA|  Blue| 10|\n",
      "|   CA| Brown| 10|\n",
      "|   CA|   Red| 10|\n",
      "|   CA|Orange| 10|\n",
      "+-----+------+---+\n",
      "\n"
     ]
    },
    {
     "data": {
      "text/plain": [
       "caMinMnMDFDesc: org.apache.spark.sql.Dataset[org.apache.spark.sql.Row] = [State: string, Color: string ... 1 more field]\r\n"
      ]
     },
     "execution_count": 17,
     "metadata": {},
     "output_type": "execute_result"
    }
   ],
   "source": [
    "val caMinMnMDFDesc = mnmDF\n",
    " .select(\"State\", \"Color\", \"Count\")\n",
    " .where(col(\"State\") === \"CA\")\n",
    " .groupBy(\"State\", \"Color\")\n",
    " .agg(min(\"Count\").alias(\"Min\"))\n",
    " .orderBy(desc(\"Min\"))\n",
    " // Show the resulting aggregations for California\n",
    " caMinMnMDFDesc.show(10)"
   ]
  },
  {
   "cell_type": "markdown",
   "id": "780c4205-fd85-4b92-967e-0e1098995348",
   "metadata": {},
   "source": [
    "### 2.-  hacer un ejercicio como el “where” de CA que aparece en el libro pero indicando más opciones de estados (p.e. NV, TX, CA, CO)."
   ]
  },
  {
   "cell_type": "markdown",
   "id": "69da10a3-8450-4c77-bc11-a3cf139011d1",
   "metadata": {},
   "source": [
    "#### Nevada"
   ]
  },
  {
   "cell_type": "code",
   "execution_count": 18,
   "id": "420b372e-2c0b-415e-9bda-09e525ed955e",
   "metadata": {},
   "outputs": [
    {
     "name": "stdout",
     "output_type": "stream",
     "text": [
      "+-----+------+-----+\n",
      "|State| Color|Count|\n",
      "+-----+------+-----+\n",
      "|   NV|  Blue|   66|\n",
      "|   NV| Green|   59|\n",
      "|   NV|   Red|   98|\n",
      "|   NV|   Red|   43|\n",
      "|   NV|Orange|   10|\n",
      "|   NV|  Blue|   50|\n",
      "|   NV|Yellow|   77|\n",
      "|   NV|Yellow|   98|\n",
      "|   NV|Orange|   48|\n",
      "|   NV|  Blue|   49|\n",
      "|   NV|   Red|   90|\n",
      "|   NV| Brown|   65|\n",
      "|   NV|   Red|   94|\n",
      "|   NV| Brown|   10|\n",
      "|   NV| Brown|   49|\n",
      "|   NV| Green|   49|\n",
      "|   NV|   Red|   23|\n",
      "|   NV| Brown|   34|\n",
      "|   NV|Orange|   58|\n",
      "|   NV|Orange|   84|\n",
      "+-----+------+-----+\n",
      "only showing top 20 rows\n",
      "\n"
     ]
    },
    {
     "data": {
      "text/plain": [
       "whereMnMDF: org.apache.spark.sql.Dataset[org.apache.spark.sql.Row] = [State: string, Color: string ... 1 more field]\r\n"
      ]
     },
     "execution_count": 18,
     "metadata": {},
     "output_type": "execute_result"
    }
   ],
   "source": [
    "val whereMnMDF = mnmDF\n",
    " .select(\"State\", \"Color\", \"Count\")\n",
    " .where(col(\"State\") === \"NV\")\n",
    "\n",
    "whereMnMDF.show()"
   ]
  },
  {
   "cell_type": "markdown",
   "id": "67bc373f-0d32-46c6-aea8-99c31b0d1e6e",
   "metadata": {},
   "source": [
    "#### Texas"
   ]
  },
  {
   "cell_type": "code",
   "execution_count": 19,
   "id": "d4daf325-5bfb-4396-833a-730c54d9d9f9",
   "metadata": {},
   "outputs": [
    {
     "name": "stdout",
     "output_type": "stream",
     "text": [
      "+-----+------+-----+\n",
      "|State| Color|Count|\n",
      "+-----+------+-----+\n",
      "|   TX|   Red|   20|\n",
      "|   TX| Green|   68|\n",
      "|   TX| Brown|   94|\n",
      "|   TX|Orange|   63|\n",
      "|   TX|Yellow|   29|\n",
      "|   TX|  Blue|   49|\n",
      "|   TX| Green|   69|\n",
      "|   TX|Yellow|   20|\n",
      "|   TX| Green|   85|\n",
      "|   TX|   Red|   97|\n",
      "|   TX| Green|   82|\n",
      "|   TX| Brown|   96|\n",
      "|   TX| Green|   74|\n",
      "|   TX|   Red|   16|\n",
      "|   TX|  Blue|   80|\n",
      "|   TX|  Blue|   68|\n",
      "|   TX|   Red|   13|\n",
      "|   TX| Brown|   55|\n",
      "|   TX|Orange|   93|\n",
      "|   TX|Yellow|   83|\n",
      "+-----+------+-----+\n",
      "only showing top 20 rows\n",
      "\n"
     ]
    },
    {
     "data": {
      "text/plain": [
       "whereMnMDF: org.apache.spark.sql.Dataset[org.apache.spark.sql.Row] = [State: string, Color: string ... 1 more field]\r\n"
      ]
     },
     "execution_count": 19,
     "metadata": {},
     "output_type": "execute_result"
    }
   ],
   "source": [
    "val whereMnMDF = mnmDF\n",
    " .select(\"State\", \"Color\", \"Count\")\n",
    " .where(col(\"State\") === \"TX\")\n",
    "\n",
    "whereMnMDF.show()"
   ]
  },
  {
   "cell_type": "markdown",
   "id": "384e0425-23a4-4639-bb61-48fc4793c817",
   "metadata": {},
   "source": [
    "#### Colorado"
   ]
  },
  {
   "cell_type": "code",
   "execution_count": 20,
   "id": "ff7e75b5-cdb7-4794-9d4a-903b85100cb9",
   "metadata": {},
   "outputs": [
    {
     "name": "stdout",
     "output_type": "stream",
     "text": [
      "+-----+------+-----+\n",
      "|State| Color|Count|\n",
      "+-----+------+-----+\n",
      "|   CO|  Blue|   79|\n",
      "|   CO|  Blue|   52|\n",
      "|   CO|   Red|   82|\n",
      "|   CO|   Red|   12|\n",
      "|   CO|   Red|   17|\n",
      "|   CO|  Blue|   95|\n",
      "|   CO|Orange|   93|\n",
      "|   CO|  Blue|   98|\n",
      "|   CO| Brown|   53|\n",
      "|   CO|   Red|   81|\n",
      "|   CO|   Red|   17|\n",
      "|   CO|Orange|   42|\n",
      "|   CO|  Blue|   52|\n",
      "|   CO|Orange|   22|\n",
      "|   CO|Orange|   21|\n",
      "|   CO| Brown|   53|\n",
      "|   CO| Brown|   56|\n",
      "|   CO| Green|   44|\n",
      "|   CO|   Red|   78|\n",
      "|   CO|Orange|   41|\n",
      "+-----+------+-----+\n",
      "only showing top 20 rows\n",
      "\n"
     ]
    },
    {
     "data": {
      "text/plain": [
       "whereMnMDF: org.apache.spark.sql.Dataset[org.apache.spark.sql.Row] = [State: string, Color: string ... 1 more field]\r\n"
      ]
     },
     "execution_count": 20,
     "metadata": {},
     "output_type": "execute_result"
    }
   ],
   "source": [
    "val whereMnMDF = mnmDF\n",
    " .select(\"State\", \"Color\", \"Count\")\n",
    " .where(col(\"State\") === \"CO\")\n",
    "\n",
    "whereMnMDF.show()"
   ]
  },
  {
   "cell_type": "markdown",
   "id": "f9410ff2-de50-4c9d-9e6a-8c8d48694d87",
   "metadata": {},
   "source": [
    "#### California"
   ]
  },
  {
   "cell_type": "code",
   "execution_count": 21,
   "id": "a3ee1b01-0e66-4f80-81d4-073194ff4110",
   "metadata": {},
   "outputs": [
    {
     "name": "stdout",
     "output_type": "stream",
     "text": [
      "+-----+------+-----+\n",
      "|State| Color|Count|\n",
      "+-----+------+-----+\n",
      "|   CA|Yellow|   53|\n",
      "|   CA| Green|   86|\n",
      "|   CA|   Red|  100|\n",
      "|   CA|  Blue|   13|\n",
      "|   CA|   Red|   23|\n",
      "|   CA|Yellow|   49|\n",
      "|   CA|  Blue|   34|\n",
      "|   CA|   Red|   67|\n",
      "|   CA|Orange|   25|\n",
      "|   CA|Yellow|   69|\n",
      "|   CA|Orange|   91|\n",
      "|   CA| Brown|   95|\n",
      "|   CA|Yellow|   41|\n",
      "|   CA|Orange|   71|\n",
      "|   CA| Brown|   58|\n",
      "|   CA| Brown|   92|\n",
      "|   CA|  Blue|   39|\n",
      "|   CA|  Blue|   99|\n",
      "|   CA| Brown|   80|\n",
      "|   CA|   Red|   45|\n",
      "+-----+------+-----+\n",
      "only showing top 20 rows\n",
      "\n"
     ]
    },
    {
     "data": {
      "text/plain": [
       "whereMnMDF: org.apache.spark.sql.Dataset[org.apache.spark.sql.Row] = [State: string, Color: string ... 1 more field]\r\n"
      ]
     },
     "execution_count": 21,
     "metadata": {},
     "output_type": "execute_result"
    }
   ],
   "source": [
    "val whereMnMDF = mnmDF\n",
    " .select(\"State\", \"Color\", \"Count\")\n",
    " .where(col(\"State\") === \"CA\")\n",
    "\n",
    "whereMnMDF.show()"
   ]
  },
  {
   "cell_type": "markdown",
   "id": "7d5cde88-0c0b-4018-9c01-15cdaaac8ec6",
   "metadata": {},
   "source": [
    "### 3.- Hacer un ejercicio donde se calculen en una misma operación el Max, Min, Avg, Count. Revisar el API (documentación) donde encontrarán este ejemplo: ds.agg(max(\\$\"age\"), avg(\\$\"salary\")) ds.groupBy().agg(max(\\$\"age\"), avg(\\$\"salary\")) NOTA: \\$ es un alias de col()\n"
   ]
  },
  {
   "cell_type": "markdown",
   "id": "bc97073d-672c-4b53-a4a5-25c68cd73f28",
   "metadata": {},
   "source": [
    "#### GroupBy"
   ]
  },
  {
   "cell_type": "code",
   "execution_count": 22,
   "id": "070902f7-627c-4833-bcc0-fb7d67f7f30d",
   "metadata": {},
   "outputs": [
    {
     "name": "stdout",
     "output_type": "stream",
     "text": [
      "+-----+------------+------------------+-------------+\n",
      "|State|Total_estado|      Media estado|Maximo_estado|\n",
      "+-----+------------+------------------+-------------+\n",
      "|   AZ|      546812| 54.67573242675732|          100|\n",
      "|   OR|      542169| 54.74795516510149|          100|\n",
      "|   WY|      538975| 55.09865058270292|          100|\n",
      "|   NV|      548477| 54.71092269326683|          100|\n",
      "|   CA|      561184| 55.21290830381739|          100|\n",
      "|   WA|      557227|55.362841530054645|          100|\n",
      "|   NM|      553454| 55.07004975124378|          100|\n",
      "|   TX|      556493| 55.25148927720413|          100|\n",
      "|   CO|      556302|55.347925579544324|          100|\n",
      "|   UT|      538942| 54.51567873760874|          100|\n",
      "+-----+------------+------------------+-------------+\n",
      "\n"
     ]
    },
    {
     "data": {
      "text/plain": [
       "GroupMnMDF: org.apache.spark.sql.DataFrame = [State: string, Total_estado: bigint ... 2 more fields]\r\n"
      ]
     },
     "execution_count": 22,
     "metadata": {},
     "output_type": "execute_result"
    }
   ],
   "source": [
    "val GroupMnMDF = mnmDF\n",
    " .select(\"State\", \"Color\", \"Count\")\n",
    " .groupBy(\"State\").agg(sum(\"Count\").alias(\"Total_estado\"), avg(\"Count\").alias(\"Media estado\"), max(\"Count\").alias(\"Maximo_estado\"))\n",
    "\n",
    "GroupMnMDF.show()"
   ]
  },
  {
   "cell_type": "markdown",
   "id": "ee7b9ea3-6045-4f67-af5f-30f3e43409ca",
   "metadata": {},
   "source": [
    "### 4.-Hacer también ejercicios en SQL creando tmpView\n"
   ]
  },
  {
   "cell_type": "code",
   "execution_count": 23,
   "id": "085cfca6-90e8-4f0c-82f9-34b2da76dea6",
   "metadata": {},
   "outputs": [],
   "source": [
    "mnmDF.createOrReplaceTempView(\"mnmData\")\n",
    "\n"
   ]
  },
  {
   "cell_type": "code",
   "execution_count": 24,
   "id": "a32fcbc4-c204-4605-aa06-0db2db976c1a",
   "metadata": {},
   "outputs": [
    {
     "name": "stdout",
     "output_type": "stream",
     "text": [
      "+-----+-----+-----+\n",
      "|State|Color|Count|\n",
      "+-----+-----+-----+\n",
      "|   TX|  Red|   20|\n",
      "|   NV|  Red|   98|\n",
      "|   CO|  Red|   82|\n",
      "|   CO|  Red|   12|\n",
      "|   CO|  Red|   17|\n",
      "|   NV|  Red|   43|\n",
      "|   WA|  Red|   12|\n",
      "|   WY|  Red|   63|\n",
      "|   WA|  Red|   75|\n",
      "|   UT|  Red|   92|\n",
      "|   CA|  Red|  100|\n",
      "|   UT|  Red|   77|\n",
      "|   WA|  Red|   83|\n",
      "|   AZ|  Red|   59|\n",
      "|   CA|  Red|   23|\n",
      "|   CO|  Red|   81|\n",
      "|   OR|  Red|   66|\n",
      "|   CO|  Red|   17|\n",
      "|   CA|  Red|   67|\n",
      "|   WA|  Red|   70|\n",
      "+-----+-----+-----+\n",
      "only showing top 20 rows\n",
      "\n"
     ]
    }
   ],
   "source": [
    "spark.sql(\"\"\" \n",
    "SELECT State, Color, Count \n",
    "FROM mnmData\n",
    "WHERE Color = \"Red\"\n",
    "\"\"\").show()"
   ]
  },
  {
   "cell_type": "code",
   "execution_count": 25,
   "id": "4c6818ab-ceb1-4d7b-a4ce-d93592cf8ecd",
   "metadata": {},
   "outputs": [
    {
     "name": "stdout",
     "output_type": "stream",
     "text": [
      "+-----+------+-----+\n",
      "|State| Color|Count|\n",
      "+-----+------+-----+\n",
      "|   CA|Yellow|   53|\n",
      "|   CA| Green|   86|\n",
      "|   CA|   Red|  100|\n",
      "|   CA|  Blue|   13|\n",
      "|   CA|   Red|   23|\n",
      "|   CA|Yellow|   49|\n",
      "|   CA|  Blue|   34|\n",
      "|   CA|   Red|   67|\n",
      "|   CA|Orange|   25|\n",
      "|   CA|Yellow|   69|\n",
      "|   CA|Orange|   91|\n",
      "|   CA| Brown|   95|\n",
      "|   CA|Yellow|   41|\n",
      "|   CA|Orange|   71|\n",
      "|   CA| Brown|   58|\n",
      "|   CA| Brown|   92|\n",
      "|   CA|  Blue|   39|\n",
      "|   CA|  Blue|   99|\n",
      "|   CA| Brown|   80|\n",
      "|   CA|   Red|   45|\n",
      "+-----+------+-----+\n",
      "only showing top 20 rows\n",
      "\n"
     ]
    }
   ],
   "source": [
    "spark.sql(\"\"\" \n",
    "SELECT State, Color, Count \n",
    "FROM mnmData\n",
    "WHERE State = \"CA\"\n",
    "\"\"\").show()"
   ]
  },
  {
   "cell_type": "code",
   "execution_count": 29,
   "id": "d93e2231-6d9c-410e-86d1-3ba88c348260",
   "metadata": {},
   "outputs": [
    {
     "name": "stdout",
     "output_type": "stream",
     "text": [
      "+-----+----------+\n",
      "|State|sum(Count)|\n",
      "+-----+----------+\n",
      "|   AZ|    546812|\n",
      "|   OR|    542169|\n",
      "|   WY|    538975|\n",
      "|   NV|    548477|\n",
      "|   CA|    561184|\n",
      "|   WA|    557227|\n",
      "|   NM|    553454|\n",
      "|   TX|    556493|\n",
      "|   CO|    556302|\n",
      "|   UT|    538942|\n",
      "+-----+----------+\n",
      "\n"
     ]
    }
   ],
   "source": [
    "spark.sql(\"\"\" \n",
    "SELECT State, SUM(Count) \n",
    "FROM mnmData\n",
    "Group By State;\n",
    "\"\"\").show()"
   ]
  },
  {
   "cell_type": "code",
   "execution_count": null,
   "id": "f6df2594-d988-4964-bf1d-832b4d8c5111",
   "metadata": {},
   "outputs": [],
   "source": []
  }
 ],
 "metadata": {
  "kernelspec": {
   "display_name": "spylon-kernel",
   "language": "scala",
   "name": "spylon-kernel"
  },
  "language_info": {
   "codemirror_mode": "text/x-scala",
   "file_extension": ".scala",
   "help_links": [
    {
     "text": "MetaKernel Magics",
     "url": "https://metakernel.readthedocs.io/en/latest/source/README.html"
    }
   ],
   "mimetype": "text/x-scala",
   "name": "scala",
   "pygments_lexer": "scala",
   "version": "0.4.1"
  }
 },
 "nbformat": 4,
 "nbformat_minor": 5
}
