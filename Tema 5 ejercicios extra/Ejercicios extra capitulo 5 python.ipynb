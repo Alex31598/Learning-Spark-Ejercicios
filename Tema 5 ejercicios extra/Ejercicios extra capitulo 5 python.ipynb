{
 "cells": [
  {
   "cell_type": "markdown",
   "id": "c60fa22e-b0c8-4f28-b231-b8cb71b3ef4a",
   "metadata": {},
   "source": [
    "### 1.- Realizar todos los ejercicios propuestos de libro (excepto los de hive en caso de utilizar spark instalado en local y en el caso de RDBMS hacer únicamente ejemplo especificado más adelante)"
   ]
  },
  {
   "cell_type": "code",
   "execution_count": 1,
   "id": "3594a8d2-8895-42a8-971f-5d6565770935",
   "metadata": {},
   "outputs": [],
   "source": [
    "# In Python, define a schema \n",
    "\n",
    "import sys\n",
    "from pyspark.sql import SparkSession\n",
    "from pyspark.sql.functions import count\n",
    "from pyspark.sql.functions import sum\n",
    "from pyspark.sql.functions import col\n",
    "from pyspark.sql.types import *\n",
    "\n",
    "\n",
    "spark = (SparkSession\n",
    " .builder\n",
    " .appName(\"MySQL\")\n",
    " .getOrCreate())"
   ]
  },
  {
   "cell_type": "code",
   "execution_count": null,
   "id": "e1be2dc2-fb0d-4580-ad7a-488932605e6a",
   "metadata": {},
   "outputs": [],
   "source": []
  },
  {
   "cell_type": "markdown",
   "id": "f82d1324-ad44-44b6-a2f4-357e0591442c",
   "metadata": {},
   "source": [
    "### 2.- Pros y Cons utilizar UDFs"
   ]
  },
  {
   "cell_type": "markdown",
   "id": "ea6df3e1-2021-4700-a850-35afdc10efa7",
   "metadata": {},
   "source": [
    "- Pros:\n",
    "    - Se facilita el usar funciones que ya se encuentren implementadas en python por ejemplo\n",
    "- Contras:\n",
    "    - Lentitud debido a que Spark desconoce lo que hace la función y si hay que pasa a python esta traducción de la información ralentiza enormemente el proceso"
   ]
  },
  {
   "cell_type": "markdown",
   "id": "3d111e6f-0dee-4b18-bebe-92f710b4ef84",
   "metadata": {},
   "source": [
    "### 3.- Instalar MySQL, descargar driver y cargar datos de BBDD de empleados [Base de datos](https://dev.mysql.com/doc/employee/en/)"
   ]
  },
  {
   "cell_type": "markdown",
   "id": "93e0f15a-666a-4eca-9084-64a7ad8c90f4",
   "metadata": {},
   "source": [
    "#### Cargar con spark datos de empleados y departamentos"
   ]
  },
  {
   "cell_type": "code",
   "execution_count": 2,
   "id": "0893a88c-3f40-468b-bd11-332feabab0d0",
   "metadata": {},
   "outputs": [],
   "source": [
    "employees = (spark\n",
    " .read\n",
    " .format(\"jdbc\")\n",
    " .option(\"url\", \"jdbc:mysql://localhost:3306/employees\")\n",
    " .option(\"driver\", \"com.mysql.jdbc.Driver\")\n",
    " .option(\"dbtable\", \"employees\")\n",
    " .option(\"user\", \"root\")\n",
    " .option(\"password\", \"apl31/5/98ALEX\")\n",
    " .load())"
   ]
  },
  {
   "cell_type": "code",
   "execution_count": 3,
   "id": "2512438f-6a18-4658-b42f-f96bb8a610e4",
   "metadata": {},
   "outputs": [
    {
     "name": "stdout",
     "output_type": "stream",
     "text": [
      "+------+----------+----------+-----------+------+----------+\n",
      "|emp_no|birth_date|first_name|  last_name|gender| hire_date|\n",
      "+------+----------+----------+-----------+------+----------+\n",
      "| 10001|1953-09-02|    Georgi|    Facello|     M|1986-06-26|\n",
      "| 10002|1964-06-02|   Bezalel|     Simmel|     F|1985-11-21|\n",
      "| 10003|1959-12-03|     Parto|    Bamford|     M|1986-08-28|\n",
      "| 10004|1954-05-01| Chirstian|    Koblick|     M|1986-12-01|\n",
      "| 10005|1955-01-21|   Kyoichi|   Maliniak|     M|1989-09-12|\n",
      "| 10006|1953-04-20|    Anneke|    Preusig|     F|1989-06-02|\n",
      "| 10007|1957-05-23|   Tzvetan|  Zielinski|     F|1989-02-10|\n",
      "| 10008|1958-02-19|    Saniya|   Kalloufi|     M|1994-09-15|\n",
      "| 10009|1952-04-19|    Sumant|       Peac|     F|1985-02-18|\n",
      "| 10010|1963-06-01| Duangkaew|   Piveteau|     F|1989-08-24|\n",
      "| 10011|1953-11-07|      Mary|      Sluis|     F|1990-01-22|\n",
      "| 10012|1960-10-04|  Patricio|  Bridgland|     M|1992-12-18|\n",
      "| 10013|1963-06-07| Eberhardt|     Terkki|     M|1985-10-20|\n",
      "| 10014|1956-02-12|     Berni|      Genin|     M|1987-03-11|\n",
      "| 10015|1959-08-19|  Guoxiang|  Nooteboom|     M|1987-07-02|\n",
      "| 10016|1961-05-02|  Kazuhito|Cappelletti|     M|1995-01-27|\n",
      "| 10017|1958-07-06| Cristinel|  Bouloucos|     F|1993-08-03|\n",
      "| 10018|1954-06-19|  Kazuhide|       Peha|     F|1987-04-03|\n",
      "| 10019|1953-01-23|   Lillian|    Haddadi|     M|1999-04-30|\n",
      "| 10020|1952-12-24|    Mayuko|    Warwick|     M|1991-01-26|\n",
      "+------+----------+----------+-----------+------+----------+\n",
      "only showing top 20 rows\n",
      "\n"
     ]
    }
   ],
   "source": [
    "employees.show()"
   ]
  },
  {
   "cell_type": "code",
   "execution_count": 5,
   "id": "803711b5-4b5c-4fe5-8474-7586159e9e85",
   "metadata": {},
   "outputs": [],
   "source": [
    "departments = spark\\\n",
    " .read\\\n",
    " .format(\"jdbc\")\\\n",
    " .option(\"url\", \"jdbc:mysql://localhost:3306/employees\")\\\n",
    " .option(\"driver\", \"com.mysql.jdbc.Driver\")\\\n",
    " .option(\"dbtable\", \"departments\")\\\n",
    " .option(\"user\", \"root\")\\\n",
    " .option(\"password\", \"apl31/5/98ALEX\")\\\n",
    " .load()"
   ]
  },
  {
   "cell_type": "code",
   "execution_count": 6,
   "id": "5ac10a48-0c58-47bf-9b5c-baec9c1b9596",
   "metadata": {},
   "outputs": [
    {
     "name": "stdout",
     "output_type": "stream",
     "text": [
      "+-------+------------------+\n",
      "|dept_no|         dept_name|\n",
      "+-------+------------------+\n",
      "|   d009|  Customer Service|\n",
      "|   d005|       Development|\n",
      "|   d002|           Finance|\n",
      "|   d003|   Human Resources|\n",
      "|   d001|         Marketing|\n",
      "|   d004|        Production|\n",
      "|   d006|Quality Management|\n",
      "|   d008|          Research|\n",
      "|   d007|             Sales|\n",
      "+-------+------------------+\n",
      "\n"
     ]
    }
   ],
   "source": [
    "departments.show()"
   ]
  },
  {
   "cell_type": "code",
   "execution_count": 7,
   "id": "cba855df-1a1d-4661-bb50-c588e6d48e84",
   "metadata": {},
   "outputs": [],
   "source": [
    "dept_manager = spark\\\n",
    " .read\\\n",
    " .format(\"jdbc\")\\\n",
    " .option(\"url\", \"jdbc:mysql://localhost:3306/employees\")\\\n",
    " .option(\"driver\", \"com.mysql.jdbc.Driver\")\\\n",
    " .option(\"dbtable\", \"dept_manager\")\\\n",
    " .option(\"user\", \"root\")\\\n",
    " .option(\"password\", \"apl31/5/98ALEX\")\\\n",
    " .load()"
   ]
  },
  {
   "cell_type": "code",
   "execution_count": 8,
   "id": "cd110d81-0fa6-41a8-903d-c8ad4f0e05f7",
   "metadata": {},
   "outputs": [
    {
     "name": "stdout",
     "output_type": "stream",
     "text": [
      "+------+-------+----------+----------+\n",
      "|emp_no|dept_no| from_date|   to_date|\n",
      "+------+-------+----------+----------+\n",
      "|110022|   d001|1985-01-01|1991-10-01|\n",
      "|110039|   d001|1991-10-01|9999-01-01|\n",
      "|110085|   d002|1985-01-01|1989-12-17|\n",
      "|110114|   d002|1989-12-17|9999-01-01|\n",
      "|110183|   d003|1985-01-01|1992-03-21|\n",
      "|110228|   d003|1992-03-21|9999-01-01|\n",
      "|110303|   d004|1985-01-01|1988-09-09|\n",
      "|110344|   d004|1988-09-09|1992-08-02|\n",
      "|110386|   d004|1992-08-02|1996-08-30|\n",
      "|110420|   d004|1996-08-30|9999-01-01|\n",
      "|110511|   d005|1985-01-01|1992-04-25|\n",
      "|110567|   d005|1992-04-25|9999-01-01|\n",
      "|110725|   d006|1985-01-01|1989-05-06|\n",
      "|110765|   d006|1989-05-06|1991-09-12|\n",
      "|110800|   d006|1991-09-12|1994-06-28|\n",
      "|110854|   d006|1994-06-28|9999-01-01|\n",
      "|111035|   d007|1985-01-01|1991-03-07|\n",
      "|111133|   d007|1991-03-07|9999-01-01|\n",
      "|111400|   d008|1985-01-01|1991-04-08|\n",
      "|111534|   d008|1991-04-08|9999-01-01|\n",
      "+------+-------+----------+----------+\n",
      "only showing top 20 rows\n",
      "\n"
     ]
    }
   ],
   "source": [
    "dept_manager.show()"
   ]
  },
  {
   "cell_type": "code",
   "execution_count": 9,
   "id": "9f77a88b-4c7c-4fea-ae6f-a2f45a93dc33",
   "metadata": {},
   "outputs": [],
   "source": [
    "dept_emp = spark\\\n",
    " .read\\\n",
    " .format(\"jdbc\")\\\n",
    " .option(\"url\", \"jdbc:mysql://localhost:3306/employees\")\\\n",
    " .option(\"driver\", \"com.mysql.jdbc.Driver\")\\\n",
    " .option(\"dbtable\", \"dept_emp\")\\\n",
    " .option(\"user\", \"root\")\\\n",
    " .option(\"password\", \"apl31/5/98ALEX\")\\\n",
    " .load()"
   ]
  },
  {
   "cell_type": "code",
   "execution_count": 10,
   "id": "10108bda-d338-47d2-8275-97c534004701",
   "metadata": {},
   "outputs": [
    {
     "name": "stdout",
     "output_type": "stream",
     "text": [
      "+------+-------+----------+----------+\n",
      "|emp_no|dept_no| from_date|   to_date|\n",
      "+------+-------+----------+----------+\n",
      "| 10001|   d005|1986-06-26|9999-01-01|\n",
      "| 10002|   d007|1996-08-03|9999-01-01|\n",
      "| 10003|   d004|1995-12-03|9999-01-01|\n",
      "| 10004|   d004|1986-12-01|9999-01-01|\n",
      "| 10005|   d003|1989-09-12|9999-01-01|\n",
      "| 10006|   d005|1990-08-05|9999-01-01|\n",
      "| 10007|   d008|1989-02-10|9999-01-01|\n",
      "| 10008|   d005|1998-03-11|2000-07-31|\n",
      "| 10009|   d006|1985-02-18|9999-01-01|\n",
      "| 10010|   d004|1996-11-24|2000-06-26|\n",
      "| 10010|   d006|2000-06-26|9999-01-01|\n",
      "| 10011|   d009|1990-01-22|1996-11-09|\n",
      "| 10012|   d005|1992-12-18|9999-01-01|\n",
      "| 10013|   d003|1985-10-20|9999-01-01|\n",
      "| 10014|   d005|1993-12-29|9999-01-01|\n",
      "| 10015|   d008|1992-09-19|1993-08-22|\n",
      "| 10016|   d007|1998-02-11|9999-01-01|\n",
      "| 10017|   d001|1993-08-03|9999-01-01|\n",
      "| 10018|   d004|1992-07-29|9999-01-01|\n",
      "| 10018|   d005|1987-04-03|1992-07-29|\n",
      "+------+-------+----------+----------+\n",
      "only showing top 20 rows\n",
      "\n"
     ]
    }
   ],
   "source": [
    "dept_emp.show()"
   ]
  },
  {
   "cell_type": "code",
   "execution_count": 11,
   "id": "64a99d61-f172-486b-ad55-0941c7b40d4e",
   "metadata": {},
   "outputs": [],
   "source": [
    "titles = spark\\\n",
    " .read\\\n",
    " .format(\"jdbc\")\\\n",
    " .option(\"url\", \"jdbc:mysql://localhost:3306/employees\")\\\n",
    " .option(\"driver\", \"com.mysql.jdbc.Driver\")\\\n",
    " .option(\"dbtable\", \"titles\")\\\n",
    " .option(\"user\", \"root\")\\\n",
    " .option(\"password\", \"apl31/5/98ALEX\")\\\n",
    " .load()"
   ]
  },
  {
   "cell_type": "code",
   "execution_count": 12,
   "id": "d41b5b3d-680b-4933-ad4d-e3e3868b7f0d",
   "metadata": {},
   "outputs": [
    {
     "name": "stdout",
     "output_type": "stream",
     "text": [
      "+------+------------------+----------+----------+\n",
      "|emp_no|             title| from_date|   to_date|\n",
      "+------+------------------+----------+----------+\n",
      "| 10001|   Senior Engineer|1986-06-26|9999-01-01|\n",
      "| 10002|             Staff|1996-08-03|9999-01-01|\n",
      "| 10003|   Senior Engineer|1995-12-03|9999-01-01|\n",
      "| 10004|          Engineer|1986-12-01|1995-12-01|\n",
      "| 10004|   Senior Engineer|1995-12-01|9999-01-01|\n",
      "| 10005|      Senior Staff|1996-09-12|9999-01-01|\n",
      "| 10005|             Staff|1989-09-12|1996-09-12|\n",
      "| 10006|   Senior Engineer|1990-08-05|9999-01-01|\n",
      "| 10007|      Senior Staff|1996-02-11|9999-01-01|\n",
      "| 10007|             Staff|1989-02-10|1996-02-11|\n",
      "| 10008|Assistant Engineer|1998-03-11|2000-07-31|\n",
      "| 10009|Assistant Engineer|1985-02-18|1990-02-18|\n",
      "| 10009|          Engineer|1990-02-18|1995-02-18|\n",
      "| 10009|   Senior Engineer|1995-02-18|9999-01-01|\n",
      "| 10010|          Engineer|1996-11-24|9999-01-01|\n",
      "| 10011|             Staff|1990-01-22|1996-11-09|\n",
      "| 10012|          Engineer|1992-12-18|2000-12-18|\n",
      "| 10012|   Senior Engineer|2000-12-18|9999-01-01|\n",
      "| 10013|      Senior Staff|1985-10-20|9999-01-01|\n",
      "| 10014|          Engineer|1993-12-29|9999-01-01|\n",
      "+------+------------------+----------+----------+\n",
      "only showing top 20 rows\n",
      "\n"
     ]
    }
   ],
   "source": [
    "titles.show()"
   ]
  },
  {
   "cell_type": "code",
   "execution_count": 13,
   "id": "cddf10b0-11be-4713-b40b-a1bae79a1e6f",
   "metadata": {},
   "outputs": [],
   "source": [
    "salaries = spark\\\n",
    " .read\\\n",
    " .format(\"jdbc\")\\\n",
    " .option(\"url\", \"jdbc:mysql://localhost:3306/employees\")\\\n",
    " .option(\"driver\", \"com.mysql.jdbc.Driver\")\\\n",
    " .option(\"dbtable\", \"salaries\")\\\n",
    " .option(\"user\", \"root\")\\\n",
    " .option(\"password\", \"apl31/5/98ALEX\")\\\n",
    " .load()"
   ]
  },
  {
   "cell_type": "code",
   "execution_count": 14,
   "id": "e164801b-5e07-4ade-959a-d07bbadc89b4",
   "metadata": {},
   "outputs": [
    {
     "name": "stdout",
     "output_type": "stream",
     "text": [
      "+------+------+----------+----------+\n",
      "|emp_no|salary| from_date|   to_date|\n",
      "+------+------+----------+----------+\n",
      "| 10001| 60117|1986-06-26|1987-06-26|\n",
      "| 10001| 62102|1987-06-26|1988-06-25|\n",
      "| 10001| 66074|1988-06-25|1989-06-25|\n",
      "| 10001| 66596|1989-06-25|1990-06-25|\n",
      "| 10001| 66961|1990-06-25|1991-06-25|\n",
      "| 10001| 71046|1991-06-25|1992-06-24|\n",
      "| 10001| 74333|1992-06-24|1993-06-24|\n",
      "| 10001| 75286|1993-06-24|1994-06-24|\n",
      "| 10001| 75994|1994-06-24|1995-06-24|\n",
      "| 10001| 76884|1995-06-24|1996-06-23|\n",
      "| 10001| 80013|1996-06-23|1997-06-23|\n",
      "| 10001| 81025|1997-06-23|1998-06-23|\n",
      "| 10001| 81097|1998-06-23|1999-06-23|\n",
      "| 10001| 84917|1999-06-23|2000-06-22|\n",
      "| 10001| 85112|2000-06-22|2001-06-22|\n",
      "| 10001| 85097|2001-06-22|2002-06-22|\n",
      "| 10001| 88958|2002-06-22|9999-01-01|\n",
      "| 10002| 65828|1996-08-03|1997-08-03|\n",
      "| 10002| 65909|1997-08-03|1998-08-03|\n",
      "| 10002| 67534|1998-08-03|1999-08-03|\n",
      "+------+------+----------+----------+\n",
      "only showing top 20 rows\n",
      "\n"
     ]
    }
   ],
   "source": [
    "salaries.show()"
   ]
  },
  {
   "cell_type": "code",
   "execution_count": 25,
   "id": "9332cdee-bf9d-489c-9aaf-36f9c5e2d5c7",
   "metadata": {},
   "outputs": [
    {
     "name": "stdout",
     "output_type": "stream",
     "text": [
      "+------+----------+----------+---------+------+----------+------+-----------+\n",
      "|emp_no|birth_date|first_name|last_name|gender| hire_date|salary|  dept_name|\n",
      "+------+----------+----------+---------+------+----------+------+-----------+\n",
      "| 10206|1960-09-19|  Alassane|  Iwayama|     F|1988-04-19| 40000|Development|\n",
      "| 10206|1960-09-19|  Alassane|  Iwayama|     F|1988-04-19| 43519|Development|\n",
      "| 10206|1960-09-19|  Alassane|  Iwayama|     F|1988-04-19| 46265|Development|\n",
      "| 10206|1960-09-19|  Alassane|  Iwayama|     F|1988-04-19| 46865|Development|\n",
      "| 10206|1960-09-19|  Alassane|  Iwayama|     F|1988-04-19| 47837|Development|\n",
      "| 10206|1960-09-19|  Alassane|  Iwayama|     F|1988-04-19| 52042|Development|\n",
      "| 10206|1960-09-19|  Alassane|  Iwayama|     F|1988-04-19| 52370|Development|\n",
      "| 10206|1960-09-19|  Alassane|  Iwayama|     F|1988-04-19| 53202|Development|\n",
      "| 10206|1960-09-19|  Alassane|  Iwayama|     F|1988-04-19| 56087|Development|\n",
      "| 10206|1960-09-19|  Alassane|  Iwayama|     F|1988-04-19| 59252|Development|\n",
      "| 10206|1960-09-19|  Alassane|  Iwayama|     F|1988-04-19| 62716|Development|\n",
      "| 10206|1960-09-19|  Alassane|  Iwayama|     F|1988-04-19| 67137|Development|\n",
      "| 10206|1960-09-19|  Alassane|  Iwayama|     F|1988-04-19| 67944|Development|\n",
      "| 10206|1960-09-19|  Alassane|  Iwayama|     F|1988-04-19| 67588|Development|\n",
      "| 10206|1960-09-19|  Alassane|  Iwayama|     F|1988-04-19| 71052|Development|\n",
      "| 10623|1953-07-11|Aleksander|   Danlos|     F|1987-03-07| 60268|Development|\n",
      "| 10623|1953-07-11|Aleksander|   Danlos|     F|1987-03-07| 61073|Development|\n",
      "| 10623|1953-07-11|Aleksander|   Danlos|     F|1987-03-07| 63219|Development|\n",
      "| 10623|1953-07-11|Aleksander|   Danlos|     F|1987-03-07| 67084|Development|\n",
      "| 10623|1953-07-11|Aleksander|   Danlos|     F|1987-03-07| 66979|Development|\n",
      "+------+----------+----------+---------+------+----------+------+-----------+\n",
      "only showing top 20 rows\n",
      "\n"
     ]
    }
   ],
   "source": [
    "import pyspark.sql.functions as F\n",
    "resultado = employees.alias(\"a\").join(salaries.alias(\"b\"), on =\"emp_no\", how = \"inner\")\\\n",
    "                    .join(dept_emp.alias(\"c\"),  on =\"emp_no\", how = \"inner\")\\\n",
    "                    .join(departments.alias(\"d\"),  on =\"dept_no\", how = \"inner\")\\\n",
    "                    .select(\"a.emp_no\", \"a.birth_date\", \"a.first_name\",  \"a.last_name\", \"a.gender\", \"a.hire_date\",\"b.salary\",\"d.dept_name\")\n",
    "resultado.show()"
   ]
  },
  {
   "cell_type": "markdown",
   "id": "78d8d989-5af9-4dc2-af01-e482313a431d",
   "metadata": {},
   "source": [
    "#### Diferencia entre Rank y dense_rank (operaciones de ventana)"
   ]
  },
  {
   "cell_type": "markdown",
   "id": "4e5a8b20-e4e3-4d21-bc14-ef809bffc76d",
   "metadata": {},
   "source": [
    "La diferencia es que la función rank deja huecos cuando hay un empate."
   ]
  },
  {
   "cell_type": "code",
   "execution_count": null,
   "id": "3535a114-cead-42f8-87a6-d194091e1e11",
   "metadata": {},
   "outputs": [],
   "source": []
  }
 ],
 "metadata": {
  "kernelspec": {
   "display_name": "Python 3 (ipykernel)",
   "language": "python",
   "name": "python3"
  },
  "language_info": {
   "codemirror_mode": {
    "name": "ipython",
    "version": 3
   },
   "file_extension": ".py",
   "mimetype": "text/x-python",
   "name": "python",
   "nbconvert_exporter": "python",
   "pygments_lexer": "ipython3",
   "version": "3.9.7"
  }
 },
 "nbformat": 4,
 "nbformat_minor": 5
}
