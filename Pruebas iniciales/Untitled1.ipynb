{
 "cells": [
  {
   "cell_type": "code",
   "execution_count": null,
   "id": "6b82edcb-1cc3-4f03-a67c-d2c2a0a6248d",
   "metadata": {},
   "outputs": [
    {
     "data": {
      "text/plain": [
       "Intitializing Scala interpreter ..."
      ]
     },
     "metadata": {},
     "output_type": "display_data"
    }
   ],
   "source": [
    "import org.apache.spark.sql.SparkSession\n",
    "\n",
    "\n",
    "\n",
    "val spark = SparkSession\n",
    ".builder()\n",
    ".appName(\"Scala\")\n",
    ".getOrCreate()"
   ]
  },
  {
   "cell_type": "code",
   "execution_count": 3,
   "id": "79e952e1-8e81-4df7-a46a-269d3216adbd",
   "metadata": {},
   "outputs": [
    {
     "data": {
      "text/plain": [
       "clientpl: org.apache.spark.sql.DataFrame = [nb: int, ccy: string ... 12 more fields]\r\n"
      ]
     },
     "execution_count": 3,
     "metadata": {},
     "output_type": "execute_result"
    }
   ],
   "source": [
    "val clientpl = spark.read.format(\"csv\").option(\"header\", \"true\")\n",
    ".option(\"inferSchema\", \"true\")\n",
    ".option(\"delimiter\", \",\")\n",
    ".load(\"udfs_lake_rep_pivoted_20210810.csv\")"
   ]
  },
  {
   "cell_type": "code",
   "execution_count": 4,
   "id": "e29c3aaa-950a-412d-a678-db5442fdd60b",
   "metadata": {},
   "outputs": [
    {
     "name": "stdout",
     "output_type": "stream",
     "text": [
      "+-------+---+------+--------+---------+----------+----------+---+---+------+--------+-------------+------------+--------------+\n",
      "|     nb|ccy|client|crdtchrg|directiav|discmargin|liqdtychrg|mva|rva|seller|sucursal|source_system|country_code|data_date_part|\n",
      "+-------+---+------+--------+---------+----------+----------+---+---+------+--------+-------------+------------+--------------+\n",
      "| 975282|EUR|  NULL|     0.0|      0.0|   1783.34|       0.0|0.0|0.0| AAAAA|    5493|        Mx3EQ|          ES|    2021-08-10|\n",
      "|5215282|EUR|  null|     0.0|      0.0|  539764.0|       0.0|0.0|0.0| BBBBB|    5493|        Mx3EQ|          ES|    2021-08-10|\n",
      "+-------+---+------+--------+---------+----------+----------+---+---+------+--------+-------------+------------+--------------+\n",
      "\n"
     ]
    }
   ],
   "source": [
    "clientpl.show()"
   ]
  }
 ],
 "metadata": {
  "kernelspec": {
   "display_name": "spylon-kernel",
   "language": "scala",
   "name": "spylon-kernel"
  },
  "language_info": {
   "codemirror_mode": "text/x-scala",
   "file_extension": ".scala",
   "help_links": [
    {
     "text": "MetaKernel Magics",
     "url": "https://metakernel.readthedocs.io/en/latest/source/README.html"
    }
   ],
   "mimetype": "text/x-scala",
   "name": "scala",
   "pygments_lexer": "scala",
   "version": "0.4.1"
  }
 },
 "nbformat": 4,
 "nbformat_minor": 5
}
