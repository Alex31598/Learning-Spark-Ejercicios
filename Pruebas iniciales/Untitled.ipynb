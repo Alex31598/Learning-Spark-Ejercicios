{
 "cells": [
  {
   "cell_type": "code",
   "execution_count": 11,
   "id": "dac93315-cb7b-46e0-8caf-2023c7c13064",
   "metadata": {},
   "outputs": [],
   "source": [
    "from pyspark.sql import SparkSession\n",
    "\n",
    "spark = SparkSession\\\n",
    ".builder\\\n",
    ".appName(\"Tema4\")\\\n",
    ".getOrCreate()\n",
    "\n",
    "\n",
    "\n",
    "df = spark.read.format(\"csv\").option(\"header\",True).option(\"delimiter\", \",\").load(\"udfs_lake_rep_pivoted_20210810.csv\")\n",
    "\n"
   ]
  },
  {
   "cell_type": "code",
   "execution_count": 16,
   "id": "9aca2656-f8d6-4b9f-ba38-1519763347bf",
   "metadata": {},
   "outputs": [
    {
     "name": "stdout",
     "output_type": "stream",
     "text": [
      "+-------+---+------+--------------+--------------+-------------------+--------------+--------------+--------------+------+--------+-------------+------------+--------------+\n",
      "|     nb|ccy|client|      crdtchrg|     directiav|         discmargin|    liqdtychrg|           mva|           rva|seller|sucursal|source_system|country_code|data_date_part|\n",
      "+-------+---+------+--------------+--------------+-------------------+--------------+--------------+--------------+------+--------+-------------+------------+--------------+\n",
      "| 975282|EUR|  NULL|0.000000000000|0.000000000000|  1783.340000000000|0.000000000000|0.000000000000|0.000000000000| AAAAA|    5493|        Mx3EQ|          ES|    2021-08-10|\n",
      "|5215282|EUR|  null|0.000000000000|0.000000000000|539764.000000000000|0.000000000000|0.000000000000|0.000000000000| BBBBB|    5493|        Mx3EQ|          ES|    2021-08-10|\n",
      "+-------+---+------+--------------+--------------+-------------------+--------------+--------------+--------------+------+--------+-------------+------------+--------------+\n",
      "\n"
     ]
    }
   ],
   "source": [
    "df.show(n=2)"
   ]
  },
  {
   "cell_type": "code",
   "execution_count": null,
   "id": "f9587ae1-2523-4a8a-94c6-b35a3b0b3409",
   "metadata": {},
   "outputs": [],
   "source": []
  }
 ],
 "metadata": {
  "kernelspec": {
   "display_name": "Python 3 (ipykernel)",
   "language": "python",
   "name": "python3"
  },
  "language_info": {
   "codemirror_mode": {
    "name": "ipython",
    "version": 3
   },
   "file_extension": ".py",
   "mimetype": "text/x-python",
   "name": "python",
   "nbconvert_exporter": "python",
   "pygments_lexer": "ipython3",
   "version": "3.9.7"
  }
 },
 "nbformat": 4,
 "nbformat_minor": 5
}
